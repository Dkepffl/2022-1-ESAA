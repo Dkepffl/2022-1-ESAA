{
  "nbformat": 4,
  "nbformat_minor": 0,
  "metadata": {
    "colab": {
      "provenance": [],
      "include_colab_link": true
    },
    "kernelspec": {
      "name": "python3",
      "display_name": "Python 3"
    },
    "language_info": {
      "name": "python"
    }
  },
  "cells": [
    {
      "cell_type": "markdown",
      "metadata": {
        "id": "view-in-github",
        "colab_type": "text"
      },
      "source": [
        "<a href=\"https://colab.research.google.com/github/Dkepffl/2022-1-ESAA/blob/main/HD_AI_Challenge/HD_FE_1016.ipynb\" target=\"_parent\"><img src=\"https://colab.research.google.com/assets/colab-badge.svg\" alt=\"Open In Colab\"/></a>"
      ]
    },
    {
      "cell_type": "markdown",
      "source": [
        "# **HD 현대 AI Chalenge**\n",
        "- 구글 드라이브 어마운트를 통해 데이터 로드\n",
        "- 리더보드 최저 점수(26.8103796658) 코드\n"
      ],
      "metadata": {
        "id": "CHj4P9i5s3Dx"
      }
    },
    {
      "cell_type": "markdown",
      "source": [
        "## **| 구글 드라이브 어마운트**"
      ],
      "metadata": {
        "id": "LVTp6BEmutI-"
      }
    },
    {
      "cell_type": "code",
      "execution_count": null,
      "metadata": {
        "colab": {
          "base_uri": "https://localhost:8080/"
        },
        "id": "xZCT1JmvUANR",
        "outputId": "ee17eecd-184d-4c9a-fca8-b196a568e771"
      },
      "outputs": [
        {
          "output_type": "stream",
          "name": "stdout",
          "text": [
            "Drive already mounted at /content/drive; to attempt to forcibly remount, call drive.mount(\"/content/drive\", force_remount=True).\n"
          ]
        }
      ],
      "source": [
        "from google.colab import drive\n",
        "drive.mount('/content/drive')"
      ]
    },
    {
      "cell_type": "markdown",
      "source": [
        "## **| 필요한 라이브러리 로드**"
      ],
      "metadata": {
        "id": "xlaAw-VNuvR6"
      }
    },
    {
      "cell_type": "code",
      "execution_count": null,
      "metadata": {
        "id": "9-ZknC5OTJ7w"
      },
      "outputs": [],
      "source": [
        "# import libraries\n",
        "import numpy as np\n",
        "import pandas as pd\n",
        "\n",
        "import seaborn as sns\n",
        "import matplotlib.pyplot as plt\n",
        "\n",
        "import os"
      ]
    },
    {
      "cell_type": "markdown",
      "source": [
        "## **| 작업 폴더 변경 및 데이터 로드**"
      ],
      "metadata": {
        "id": "7ZlSE5r9uxBk"
      }
    },
    {
      "cell_type": "code",
      "execution_count": null,
      "metadata": {
        "colab": {
          "base_uri": "https://localhost:8080/",
          "height": 35
        },
        "id": "Usj-__veTLYP",
        "outputId": "2d974119-037e-4b18-8915-179e3ad0cc35"
      },
      "outputs": [
        {
          "output_type": "execute_result",
          "data": {
            "text/plain": [
              "'/content/drive/MyDrive/HD현대 AI Challenge'"
            ],
            "application/vnd.google.colaboratory.intrinsic+json": {
              "type": "string"
            }
          },
          "metadata": {},
          "execution_count": 3
        }
      ],
      "source": [
        "os.chdir(\"/content/drive/MyDrive/HD현대 AI Challenge\") # 각자 드라이브에 맞춰 변경\n",
        "os.getcwd()"
      ]
    },
    {
      "cell_type": "code",
      "execution_count": null,
      "metadata": {
        "id": "9zCAgA4kUazx"
      },
      "outputs": [],
      "source": [
        "# 결측치로 평균값으로 대체한 데이터셋 사용\n",
        "train = pd.read_csv('train_na.csv').drop('Unnamed: 0', axis=1)\n",
        "test = pd.read_csv('test_na.csv').drop('Unnamed: 0', axis=1)"
      ]
    },
    {
      "cell_type": "code",
      "source": [
        "# 원본 데이터셋 별도 저장\n",
        "train_proto = train.copy()\n",
        "test_proto = test.copy()"
      ],
      "metadata": {
        "id": "NFjSyTGtvw-2"
      },
      "execution_count": null,
      "outputs": []
    },
    {
      "cell_type": "markdown",
      "metadata": {
        "id": "xSUUjNuDU4fT"
      },
      "source": [
        "## **| 데이터 전처리**"
      ]
    },
    {
      "cell_type": "markdown",
      "metadata": {
        "id": "qPmcy5YwU9Pq"
      },
      "source": [
        "### **1. ATA 변수 처리**"
      ]
    },
    {
      "cell_type": "code",
      "source": [
        "from datetime import datetime\n",
        "\n",
        "# datetime 컬럼 처리\n",
        "train['ATA'] = pd.to_datetime(train['ATA'])\n",
        "test['ATA'] = pd.to_datetime(test['ATA'])\n",
        "\n",
        "# datetime을 여러 파생 변수로 변환\n",
        "for df in [train, test]:\n",
        "  df['YEAR'] = df['ATA'].dt.year\n",
        "  df['MONTH'] = df['ATA'].dt.month\n",
        "  df['DAY'] = df['ATA'].dt.day\n",
        "  df['HOUR'] = df['ATA'].dt.hour\n",
        "  df['MINUTE'] = df['ATA'].dt.minute\n",
        "  df['WEEKDAY'] = df['ATA'].dt.weekday"
      ],
      "metadata": {
        "id": "va5YyDf-EtFd"
      },
      "execution_count": null,
      "outputs": []
    },
    {
      "cell_type": "markdown",
      "metadata": {
        "id": "D82J14cfVDLJ"
      },
      "source": [
        "### **2. 파생 변수 추가**"
      ]
    },
    {
      "cell_type": "markdown",
      "source": [
        "#### **월 평균 Oil 가격 컬럼 생성**"
      ],
      "metadata": {
        "id": "D0Kg-DoywKdz"
      }
    },
    {
      "cell_type": "code",
      "source": [
        "# 파생 변수 생성에 필요한 필요한 컬럼 추출\n",
        "oil_price_train = train[['YEAR','MONTH','DAY', 'WTI', 'BRENT', 'DUBAI']]\n",
        "oil_price_test = test[['YEAR','MONTH','DAY', 'WTI', 'BRENT', 'DUBAI']]"
      ],
      "metadata": {
        "id": "nTNJHGM2g6lL"
      },
      "execution_count": null,
      "outputs": []
    },
    {
      "cell_type": "code",
      "source": [
        "# 연도별 월 평균 oil 가격 컬럼 생성\n",
        "## train 데이터셋\n",
        "oil_price_train['YYMM'] = oil_price_train['YEAR'].apply(str)+oil_price_train['MONTH'].apply(str)\n",
        "oil_mean_train = oil_price_train.groupby('YYMM').mean()\n",
        "oil_mean_train = oil_mean_train.sort_values(by=['YEAR', 'MONTH']).reset_index(drop=True)\n",
        "\n",
        "## test 데이터셋\n",
        "oil_price_test['YYMM']  = oil_price_test['YEAR'].apply(str)+oil_price_test['MONTH'].apply(str)\n",
        "oil_mean_test = oil_price_test.groupby('YYMM').mean()\n",
        "oil_mean_test = oil_mean_test.sort_values(by=['YEAR', 'MONTH']).reset_index(drop=True)"
      ],
      "metadata": {
        "id": "1h1HR0ZohCpN",
        "colab": {
          "base_uri": "https://localhost:8080/"
        },
        "outputId": "0ed34ad1-0bd2-4450-c54b-27215bb246a4"
      },
      "execution_count": null,
      "outputs": [
        {
          "output_type": "stream",
          "name": "stderr",
          "text": [
            "<ipython-input-8-48886d8fd197>:3: SettingWithCopyWarning: \n",
            "A value is trying to be set on a copy of a slice from a DataFrame.\n",
            "Try using .loc[row_indexer,col_indexer] = value instead\n",
            "\n",
            "See the caveats in the documentation: https://pandas.pydata.org/pandas-docs/stable/user_guide/indexing.html#returning-a-view-versus-a-copy\n",
            "  oil_price_train['YYMM'] = oil_price_train['YEAR'].apply(str)+oil_price_train['MONTH'].apply(str)\n",
            "<ipython-input-8-48886d8fd197>:8: SettingWithCopyWarning: \n",
            "A value is trying to be set on a copy of a slice from a DataFrame.\n",
            "Try using .loc[row_indexer,col_indexer] = value instead\n",
            "\n",
            "See the caveats in the documentation: https://pandas.pydata.org/pandas-docs/stable/user_guide/indexing.html#returning-a-view-versus-a-copy\n",
            "  oil_price_test['YYMM']  = oil_price_test['YEAR'].apply(str)+oil_price_test['MONTH'].apply(str)\n"
          ]
        }
      ]
    },
    {
      "cell_type": "code",
      "source": [
        "oil_mean_train"
      ],
      "metadata": {
        "colab": {
          "base_uri": "https://localhost:8080/",
          "height": 424
        },
        "id": "1FRB00VlxvTT",
        "outputId": "52420043-3d50-476a-c798-b25c9dfbc7b1"
      },
      "execution_count": null,
      "outputs": [
        {
          "output_type": "execute_result",
          "data": {
            "text/plain": [
              "       YEAR  MONTH        DAY        WTI      BRENT      DUBAI\n",
              "0    2014.0    9.0  12.484632  92.817555  98.252302  96.345247\n",
              "1    2014.0   10.0  15.872201  82.912920  86.770308  85.299907\n",
              "2    2014.0   11.0  15.553971  73.459277  77.102057  74.497760\n",
              "3    2014.0   12.0  14.689000  58.068470  61.990670  58.831420\n",
              "4    2015.0    1.0  16.090600  47.517895  50.159562  46.270183\n",
              "..      ...    ...        ...        ...        ...        ...\n",
              "97   2022.0   10.0  16.041744  86.967848  93.562752  90.968680\n",
              "98   2022.0   11.0  17.003387  82.375961  89.106047  84.504075\n",
              "99   2022.0   12.0  15.321127  76.345763  81.191680  77.214503\n",
              "100  2023.0    1.0  16.178439  78.163917  83.901876  80.846013\n",
              "101  2023.0    2.0  13.722421  76.893792  83.611851  82.134355\n",
              "\n",
              "[102 rows x 6 columns]"
            ],
            "text/html": [
              "\n",
              "  <div id=\"df-f3651508-b124-4284-8533-25d9f52970ec\" class=\"colab-df-container\">\n",
              "    <div>\n",
              "<style scoped>\n",
              "    .dataframe tbody tr th:only-of-type {\n",
              "        vertical-align: middle;\n",
              "    }\n",
              "\n",
              "    .dataframe tbody tr th {\n",
              "        vertical-align: top;\n",
              "    }\n",
              "\n",
              "    .dataframe thead th {\n",
              "        text-align: right;\n",
              "    }\n",
              "</style>\n",
              "<table border=\"1\" class=\"dataframe\">\n",
              "  <thead>\n",
              "    <tr style=\"text-align: right;\">\n",
              "      <th></th>\n",
              "      <th>YEAR</th>\n",
              "      <th>MONTH</th>\n",
              "      <th>DAY</th>\n",
              "      <th>WTI</th>\n",
              "      <th>BRENT</th>\n",
              "      <th>DUBAI</th>\n",
              "    </tr>\n",
              "  </thead>\n",
              "  <tbody>\n",
              "    <tr>\n",
              "      <th>0</th>\n",
              "      <td>2014.0</td>\n",
              "      <td>9.0</td>\n",
              "      <td>12.484632</td>\n",
              "      <td>92.817555</td>\n",
              "      <td>98.252302</td>\n",
              "      <td>96.345247</td>\n",
              "    </tr>\n",
              "    <tr>\n",
              "      <th>1</th>\n",
              "      <td>2014.0</td>\n",
              "      <td>10.0</td>\n",
              "      <td>15.872201</td>\n",
              "      <td>82.912920</td>\n",
              "      <td>86.770308</td>\n",
              "      <td>85.299907</td>\n",
              "    </tr>\n",
              "    <tr>\n",
              "      <th>2</th>\n",
              "      <td>2014.0</td>\n",
              "      <td>11.0</td>\n",
              "      <td>15.553971</td>\n",
              "      <td>73.459277</td>\n",
              "      <td>77.102057</td>\n",
              "      <td>74.497760</td>\n",
              "    </tr>\n",
              "    <tr>\n",
              "      <th>3</th>\n",
              "      <td>2014.0</td>\n",
              "      <td>12.0</td>\n",
              "      <td>14.689000</td>\n",
              "      <td>58.068470</td>\n",
              "      <td>61.990670</td>\n",
              "      <td>58.831420</td>\n",
              "    </tr>\n",
              "    <tr>\n",
              "      <th>4</th>\n",
              "      <td>2015.0</td>\n",
              "      <td>1.0</td>\n",
              "      <td>16.090600</td>\n",
              "      <td>47.517895</td>\n",
              "      <td>50.159562</td>\n",
              "      <td>46.270183</td>\n",
              "    </tr>\n",
              "    <tr>\n",
              "      <th>...</th>\n",
              "      <td>...</td>\n",
              "      <td>...</td>\n",
              "      <td>...</td>\n",
              "      <td>...</td>\n",
              "      <td>...</td>\n",
              "      <td>...</td>\n",
              "    </tr>\n",
              "    <tr>\n",
              "      <th>97</th>\n",
              "      <td>2022.0</td>\n",
              "      <td>10.0</td>\n",
              "      <td>16.041744</td>\n",
              "      <td>86.967848</td>\n",
              "      <td>93.562752</td>\n",
              "      <td>90.968680</td>\n",
              "    </tr>\n",
              "    <tr>\n",
              "      <th>98</th>\n",
              "      <td>2022.0</td>\n",
              "      <td>11.0</td>\n",
              "      <td>17.003387</td>\n",
              "      <td>82.375961</td>\n",
              "      <td>89.106047</td>\n",
              "      <td>84.504075</td>\n",
              "    </tr>\n",
              "    <tr>\n",
              "      <th>99</th>\n",
              "      <td>2022.0</td>\n",
              "      <td>12.0</td>\n",
              "      <td>15.321127</td>\n",
              "      <td>76.345763</td>\n",
              "      <td>81.191680</td>\n",
              "      <td>77.214503</td>\n",
              "    </tr>\n",
              "    <tr>\n",
              "      <th>100</th>\n",
              "      <td>2023.0</td>\n",
              "      <td>1.0</td>\n",
              "      <td>16.178439</td>\n",
              "      <td>78.163917</td>\n",
              "      <td>83.901876</td>\n",
              "      <td>80.846013</td>\n",
              "    </tr>\n",
              "    <tr>\n",
              "      <th>101</th>\n",
              "      <td>2023.0</td>\n",
              "      <td>2.0</td>\n",
              "      <td>13.722421</td>\n",
              "      <td>76.893792</td>\n",
              "      <td>83.611851</td>\n",
              "      <td>82.134355</td>\n",
              "    </tr>\n",
              "  </tbody>\n",
              "</table>\n",
              "<p>102 rows × 6 columns</p>\n",
              "</div>\n",
              "    <div class=\"colab-df-buttons\">\n",
              "\n",
              "  <div class=\"colab-df-container\">\n",
              "    <button class=\"colab-df-convert\" onclick=\"convertToInteractive('df-f3651508-b124-4284-8533-25d9f52970ec')\"\n",
              "            title=\"Convert this dataframe to an interactive table.\"\n",
              "            style=\"display:none;\">\n",
              "\n",
              "  <svg xmlns=\"http://www.w3.org/2000/svg\" height=\"24px\" viewBox=\"0 -960 960 960\">\n",
              "    <path d=\"M120-120v-720h720v720H120Zm60-500h600v-160H180v160Zm220 220h160v-160H400v160Zm0 220h160v-160H400v160ZM180-400h160v-160H180v160Zm440 0h160v-160H620v160ZM180-180h160v-160H180v160Zm440 0h160v-160H620v160Z\"/>\n",
              "  </svg>\n",
              "    </button>\n",
              "\n",
              "  <style>\n",
              "    .colab-df-container {\n",
              "      display:flex;\n",
              "      gap: 12px;\n",
              "    }\n",
              "\n",
              "    .colab-df-convert {\n",
              "      background-color: #E8F0FE;\n",
              "      border: none;\n",
              "      border-radius: 50%;\n",
              "      cursor: pointer;\n",
              "      display: none;\n",
              "      fill: #1967D2;\n",
              "      height: 32px;\n",
              "      padding: 0 0 0 0;\n",
              "      width: 32px;\n",
              "    }\n",
              "\n",
              "    .colab-df-convert:hover {\n",
              "      background-color: #E2EBFA;\n",
              "      box-shadow: 0px 1px 2px rgba(60, 64, 67, 0.3), 0px 1px 3px 1px rgba(60, 64, 67, 0.15);\n",
              "      fill: #174EA6;\n",
              "    }\n",
              "\n",
              "    .colab-df-buttons div {\n",
              "      margin-bottom: 4px;\n",
              "    }\n",
              "\n",
              "    [theme=dark] .colab-df-convert {\n",
              "      background-color: #3B4455;\n",
              "      fill: #D2E3FC;\n",
              "    }\n",
              "\n",
              "    [theme=dark] .colab-df-convert:hover {\n",
              "      background-color: #434B5C;\n",
              "      box-shadow: 0px 1px 3px 1px rgba(0, 0, 0, 0.15);\n",
              "      filter: drop-shadow(0px 1px 2px rgba(0, 0, 0, 0.3));\n",
              "      fill: #FFFFFF;\n",
              "    }\n",
              "  </style>\n",
              "\n",
              "    <script>\n",
              "      const buttonEl =\n",
              "        document.querySelector('#df-f3651508-b124-4284-8533-25d9f52970ec button.colab-df-convert');\n",
              "      buttonEl.style.display =\n",
              "        google.colab.kernel.accessAllowed ? 'block' : 'none';\n",
              "\n",
              "      async function convertToInteractive(key) {\n",
              "        const element = document.querySelector('#df-f3651508-b124-4284-8533-25d9f52970ec');\n",
              "        const dataTable =\n",
              "          await google.colab.kernel.invokeFunction('convertToInteractive',\n",
              "                                                    [key], {});\n",
              "        if (!dataTable) return;\n",
              "\n",
              "        const docLinkHtml = 'Like what you see? Visit the ' +\n",
              "          '<a target=\"_blank\" href=https://colab.research.google.com/notebooks/data_table.ipynb>data table notebook</a>'\n",
              "          + ' to learn more about interactive tables.';\n",
              "        element.innerHTML = '';\n",
              "        dataTable['output_type'] = 'display_data';\n",
              "        await google.colab.output.renderOutput(dataTable, element);\n",
              "        const docLink = document.createElement('div');\n",
              "        docLink.innerHTML = docLinkHtml;\n",
              "        element.appendChild(docLink);\n",
              "      }\n",
              "    </script>\n",
              "  </div>\n",
              "\n",
              "\n",
              "<div id=\"df-18188755-947b-468b-b0d9-8d5ebbb89e3d\">\n",
              "  <button class=\"colab-df-quickchart\" onclick=\"quickchart('df-18188755-947b-468b-b0d9-8d5ebbb89e3d')\"\n",
              "            title=\"Suggest charts.\"\n",
              "            style=\"display:none;\">\n",
              "\n",
              "<svg xmlns=\"http://www.w3.org/2000/svg\" height=\"24px\"viewBox=\"0 0 24 24\"\n",
              "     width=\"24px\">\n",
              "    <g>\n",
              "        <path d=\"M19 3H5c-1.1 0-2 .9-2 2v14c0 1.1.9 2 2 2h14c1.1 0 2-.9 2-2V5c0-1.1-.9-2-2-2zM9 17H7v-7h2v7zm4 0h-2V7h2v10zm4 0h-2v-4h2v4z\"/>\n",
              "    </g>\n",
              "</svg>\n",
              "  </button>\n",
              "\n",
              "<style>\n",
              "  .colab-df-quickchart {\n",
              "      --bg-color: #E8F0FE;\n",
              "      --fill-color: #1967D2;\n",
              "      --hover-bg-color: #E2EBFA;\n",
              "      --hover-fill-color: #174EA6;\n",
              "      --disabled-fill-color: #AAA;\n",
              "      --disabled-bg-color: #DDD;\n",
              "  }\n",
              "\n",
              "  [theme=dark] .colab-df-quickchart {\n",
              "      --bg-color: #3B4455;\n",
              "      --fill-color: #D2E3FC;\n",
              "      --hover-bg-color: #434B5C;\n",
              "      --hover-fill-color: #FFFFFF;\n",
              "      --disabled-bg-color: #3B4455;\n",
              "      --disabled-fill-color: #666;\n",
              "  }\n",
              "\n",
              "  .colab-df-quickchart {\n",
              "    background-color: var(--bg-color);\n",
              "    border: none;\n",
              "    border-radius: 50%;\n",
              "    cursor: pointer;\n",
              "    display: none;\n",
              "    fill: var(--fill-color);\n",
              "    height: 32px;\n",
              "    padding: 0;\n",
              "    width: 32px;\n",
              "  }\n",
              "\n",
              "  .colab-df-quickchart:hover {\n",
              "    background-color: var(--hover-bg-color);\n",
              "    box-shadow: 0 1px 2px rgba(60, 64, 67, 0.3), 0 1px 3px 1px rgba(60, 64, 67, 0.15);\n",
              "    fill: var(--button-hover-fill-color);\n",
              "  }\n",
              "\n",
              "  .colab-df-quickchart-complete:disabled,\n",
              "  .colab-df-quickchart-complete:disabled:hover {\n",
              "    background-color: var(--disabled-bg-color);\n",
              "    fill: var(--disabled-fill-color);\n",
              "    box-shadow: none;\n",
              "  }\n",
              "\n",
              "  .colab-df-spinner {\n",
              "    border: 2px solid var(--fill-color);\n",
              "    border-color: transparent;\n",
              "    border-bottom-color: var(--fill-color);\n",
              "    animation:\n",
              "      spin 1s steps(1) infinite;\n",
              "  }\n",
              "\n",
              "  @keyframes spin {\n",
              "    0% {\n",
              "      border-color: transparent;\n",
              "      border-bottom-color: var(--fill-color);\n",
              "      border-left-color: var(--fill-color);\n",
              "    }\n",
              "    20% {\n",
              "      border-color: transparent;\n",
              "      border-left-color: var(--fill-color);\n",
              "      border-top-color: var(--fill-color);\n",
              "    }\n",
              "    30% {\n",
              "      border-color: transparent;\n",
              "      border-left-color: var(--fill-color);\n",
              "      border-top-color: var(--fill-color);\n",
              "      border-right-color: var(--fill-color);\n",
              "    }\n",
              "    40% {\n",
              "      border-color: transparent;\n",
              "      border-right-color: var(--fill-color);\n",
              "      border-top-color: var(--fill-color);\n",
              "    }\n",
              "    60% {\n",
              "      border-color: transparent;\n",
              "      border-right-color: var(--fill-color);\n",
              "    }\n",
              "    80% {\n",
              "      border-color: transparent;\n",
              "      border-right-color: var(--fill-color);\n",
              "      border-bottom-color: var(--fill-color);\n",
              "    }\n",
              "    90% {\n",
              "      border-color: transparent;\n",
              "      border-bottom-color: var(--fill-color);\n",
              "    }\n",
              "  }\n",
              "</style>\n",
              "\n",
              "  <script>\n",
              "    async function quickchart(key) {\n",
              "      const quickchartButtonEl =\n",
              "        document.querySelector('#' + key + ' button');\n",
              "      quickchartButtonEl.disabled = true;  // To prevent multiple clicks.\n",
              "      quickchartButtonEl.classList.add('colab-df-spinner');\n",
              "      try {\n",
              "        const charts = await google.colab.kernel.invokeFunction(\n",
              "            'suggestCharts', [key], {});\n",
              "      } catch (error) {\n",
              "        console.error('Error during call to suggestCharts:', error);\n",
              "      }\n",
              "      quickchartButtonEl.classList.remove('colab-df-spinner');\n",
              "      quickchartButtonEl.classList.add('colab-df-quickchart-complete');\n",
              "    }\n",
              "    (() => {\n",
              "      let quickchartButtonEl =\n",
              "        document.querySelector('#df-18188755-947b-468b-b0d9-8d5ebbb89e3d button');\n",
              "      quickchartButtonEl.style.display =\n",
              "        google.colab.kernel.accessAllowed ? 'block' : 'none';\n",
              "    })();\n",
              "  </script>\n",
              "</div>\n",
              "    </div>\n",
              "  </div>\n"
            ]
          },
          "metadata": {},
          "execution_count": 9
        }
      ]
    },
    {
      "cell_type": "code",
      "source": [
        "# WTI, BRENT, DUBAI 컬럼 추출\n",
        "# np.shape(oil_price_lst_train) : (3, 102)\n",
        "oil_price_lst_train = [oil_mean_train['WTI'].values, oil_mean_train['DUBAI'].values, oil_mean_train['BRENT'].values]\n",
        "oil_price_lst_test = [oil_mean_test['WTI'].values, oil_mean_test['DUBAI'].values, oil_mean_test['BRENT'].values]"
      ],
      "metadata": {
        "id": "a8-VOAYjhZU6"
      },
      "execution_count": null,
      "outputs": []
    },
    {
      "cell_type": "code",
      "source": [
        "def get_lst_idx(year, month):\n",
        "    base = 3\n",
        "    if year==2014:\n",
        "        if month==9:return 0\n",
        "        else: return month - 10\n",
        "    else: return base + (year - 2015)*12 + (month - 1)"
      ],
      "metadata": {
        "id": "4QKWDmG7yR_O"
      },
      "execution_count": null,
      "outputs": []
    },
    {
      "cell_type": "code",
      "execution_count": null,
      "metadata": {
        "colab": {
          "base_uri": "https://localhost:8080/"
        },
        "id": "0ISnJXTsVGfN",
        "outputId": "24a55759-3374-4093-aeb9-06abf03f3d2a"
      },
      "outputs": [
        {
          "output_type": "stream",
          "name": "stderr",
          "text": [
            "367441it [00:32, 11464.93it/s]\n",
            "244989it [00:16, 15224.16it/s]\n"
          ]
        }
      ],
      "source": [
        "from tqdm import tqdm\n",
        "\n",
        "oil_befs_train = [[],[],[]]\n",
        "oil_befs_test = [[],[],[]]\n",
        "\n",
        "# 지난달 oil가격 추가\n",
        "for d in tqdm(train.iterrows()):\n",
        "    idx_train = int(get_lst_idx(d[1]['YEAR'], d[1]['MONTH']))\n",
        "    oil_befs_train[0].append(oil_price_lst_train[0][idx_train])\n",
        "    oil_befs_train[1].append(oil_price_lst_train[1][idx_train])\n",
        "    oil_befs_train[2].append(oil_price_lst_train[2][idx_train])\n",
        "\n",
        "for d in tqdm(test.iterrows()):\n",
        "    idx_test = int(get_lst_idx(d[1]['YEAR'], d[1]['MONTH']))\n",
        "    oil_befs_test[0].append(oil_price_lst_test[0][idx_test])\n",
        "    oil_befs_test[1].append(oil_price_lst_test[1][idx_test])\n",
        "    oil_befs_test[2].append(oil_price_lst_test[2][idx_test])"
      ]
    },
    {
      "cell_type": "code",
      "source": [
        "train['WTI_BEF'] = oil_befs_train[0]\n",
        "train['BRENT_BEF'] = oil_befs_train[1]\n",
        "train['DUBAI_BEF'] = oil_befs_train[2]"
      ],
      "metadata": {
        "id": "75mwyUjnvwF2"
      },
      "execution_count": null,
      "outputs": []
    },
    {
      "cell_type": "code",
      "source": [
        "test['WTI_BEF'] = oil_befs_test[0]\n",
        "test['BRENT_BEF'] = oil_befs_test[1]\n",
        "test['DUBAI_BEF'] = oil_befs_test[2]"
      ],
      "metadata": {
        "id": "qqON4JPjv5QW"
      },
      "execution_count": null,
      "outputs": []
    },
    {
      "cell_type": "markdown",
      "source": [
        "#### **ATA_PO 별 DIST 통계량**"
      ],
      "metadata": {
        "id": "OgFi_xJpTV05"
      }
    },
    {
      "cell_type": "code",
      "source": [
        "DIST_dist_train=train.groupby('ARI_PO')['DIST'].agg(['mean','std']).reset_index()\n",
        "DIST_dist_test=train.groupby('ARI_PO')['DIST'].agg(['mean','std']).reset_index()"
      ],
      "metadata": {
        "id": "6T9AvNtbk9px"
      },
      "execution_count": null,
      "outputs": []
    },
    {
      "cell_type": "code",
      "source": [
        "DIST_dist_train.loc[DIST_dist_train['ARI_PO']=='EKP8','mean'].values[0]"
      ],
      "metadata": {
        "colab": {
          "base_uri": "https://localhost:8080/"
        },
        "id": "sNsd1Qmwk_iK",
        "outputId": "fdbac21c-bc12-46e1-8c7a-3b0dfbefe3ee"
      },
      "execution_count": null,
      "outputs": [
        {
          "output_type": "execute_result",
          "data": {
            "text/plain": [
              "14.43483822177967"
            ]
          },
          "metadata": {},
          "execution_count": 16
        }
      ]
    },
    {
      "cell_type": "code",
      "source": [
        "port_list1=train['ARI_PO'].unique().tolist()\n",
        "port_list2=test['ARI_PO'].unique().tolist()\n",
        "\n",
        "for port in port_list1:\n",
        "  train.loc[train['ARI_PO']==port,'DIST_MEAN'] = DIST_dist_train.loc[DIST_dist_train['ARI_PO']==port,'mean'].values[0]\n",
        "  train.loc[train['ARI_PO']==port,'DIST_STD'] = DIST_dist_train.loc[DIST_dist_train['ARI_PO']==port,'std'].values[0]"
      ],
      "metadata": {
        "id": "J0Dxp3OMZYXr"
      },
      "execution_count": null,
      "outputs": []
    },
    {
      "cell_type": "code",
      "source": [
        "for port in port_list2:\n",
        "  test.loc[test['ARI_PO']==port,'DIST_MEAN'] = DIST_dist_test.loc[DIST_dist_test['ARI_PO']==port,'mean'].values[0]\n",
        "  test.loc[test['ARI_PO']==port,'DIST_STD'] = DIST_dist_test.loc[DIST_dist_test['ARI_PO']==port,'std'].values[0]"
      ],
      "metadata": {
        "id": "YwzDlljBo3az"
      },
      "execution_count": null,
      "outputs": []
    },
    {
      "cell_type": "markdown",
      "metadata": {
        "id": "rRCnwXoZVQ8r"
      },
      "source": [
        "### **3. 카테고리 변수 라벨 인코딩**"
      ]
    },
    {
      "cell_type": "code",
      "source": [
        "from sklearn.preprocessing import LabelEncoder\n",
        "import bisect\n",
        "\n",
        "categorical_features = ['ARI_CO','ARI_PO', 'SHIP_TYPE_CATEGORY', 'ID', 'SHIPMANAGER','FLAG']\n",
        "encoders = {}\n",
        "\n",
        "for feature in tqdm(categorical_features, desc=\"Encoding features\"):\n",
        "  le = LabelEncoder()\n",
        "  train[feature] = le.fit_transform(train[feature].astype(str))\n",
        "  le_classes_set = set(le.classes_)\n",
        "  test[feature] = test[feature].map(lambda s: '-1' if s not in le_classes_set else s)\n",
        "  le_classes = le.classes_.tolist()\n",
        "  bisect.insort_left(le_classes, '-1')\n",
        "  le.classes_ = np.array(le_classes)\n",
        "  test[feature] = le.transform(test[feature].astype(str))\n",
        "  encoders[feature] = le"
      ],
      "metadata": {
        "colab": {
          "base_uri": "https://localhost:8080/"
        },
        "id": "k1tyqoRuvZZd",
        "outputId": "323de282-4763-4303-d0bf-458dc7a3eade"
      },
      "execution_count": null,
      "outputs": [
        {
          "output_type": "stream",
          "name": "stderr",
          "text": [
            "Encoding features: 100%|██████████| 6/6 [00:02<00:00,  3.00it/s]\n"
          ]
        }
      ]
    },
    {
      "cell_type": "markdown",
      "metadata": {
        "id": "XzXxdPjaVn3d"
      },
      "source": [
        "### **4. 미사용 컬럼 제거**"
      ]
    },
    {
      "cell_type": "code",
      "source": [
        "train.drop(columns=['ID', 'SHIPMANAGER', 'FLAG', 'U_WIND', 'V_WIND', 'AIR_TEMPERATURE', 'BUILT'], inplace=True)\n",
        "test.drop(columns=['ID', 'SHIPMANAGER', 'FLAG', 'U_WIND', 'V_WIND', 'AIR_TEMPERATURE', 'BUILT'], inplace=True)"
      ],
      "metadata": {
        "id": "ZxHScJMT5gcp"
      },
      "execution_count": null,
      "outputs": []
    },
    {
      "cell_type": "code",
      "source": [
        "train = train.fillna(-1)\n",
        "test = test.fillna(-1)"
      ],
      "metadata": {
        "id": "LeLDpCvvENBy"
      },
      "execution_count": null,
      "outputs": []
    },
    {
      "cell_type": "code",
      "source": [
        "train.info()"
      ],
      "metadata": {
        "colab": {
          "base_uri": "https://localhost:8080/"
        },
        "id": "8Hgoe1CCUdqN",
        "outputId": "8cb2a557-8d2e-4e54-9e80-f72477c94b46"
      },
      "execution_count": null,
      "outputs": [
        {
          "output_type": "stream",
          "name": "stdout",
          "text": [
            "<class 'pandas.core.frame.DataFrame'>\n",
            "RangeIndex: 367441 entries, 0 to 367440\n",
            "Data columns (total 30 columns):\n",
            " #   Column              Non-Null Count   Dtype         \n",
            "---  ------              --------------   -----         \n",
            " 0   ARI_CO              367441 non-null  int64         \n",
            " 1   ARI_PO              367441 non-null  int64         \n",
            " 2   SHIP_TYPE_CATEGORY  367441 non-null  int64         \n",
            " 3   DIST                367441 non-null  float64       \n",
            " 4   ATA                 367441 non-null  datetime64[ns]\n",
            " 5   BREADTH             367441 non-null  float64       \n",
            " 6   DEADWEIGHT          367441 non-null  int64         \n",
            " 7   DEPTH               367441 non-null  float64       \n",
            " 8   DRAUGHT             367441 non-null  float64       \n",
            " 9   GT                  367441 non-null  int64         \n",
            " 10  LENGTH              367441 non-null  float64       \n",
            " 11  BN                  367441 non-null  float64       \n",
            " 12  ATA_LT              367441 non-null  int64         \n",
            " 13  DUBAI               367441 non-null  float64       \n",
            " 14  BRENT               367441 non-null  float64       \n",
            " 15  WTI                 367441 non-null  float64       \n",
            " 16  BDI_ADJ             367441 non-null  float64       \n",
            " 17  PORT_SIZE           367441 non-null  float64       \n",
            " 18  CI_HOUR             367441 non-null  float64       \n",
            " 19  YEAR                367441 non-null  int64         \n",
            " 20  MONTH               367441 non-null  int64         \n",
            " 21  DAY                 367441 non-null  int64         \n",
            " 22  HOUR                367441 non-null  int64         \n",
            " 23  MINUTE              367441 non-null  int64         \n",
            " 24  WEEKDAY             367441 non-null  int64         \n",
            " 25  WTI_BEF             367441 non-null  float64       \n",
            " 26  BRENT_BEF           367441 non-null  float64       \n",
            " 27  DUBAI_BEF           367441 non-null  float64       \n",
            " 28  DIST_MEAN           367441 non-null  float64       \n",
            " 29  DIST_STD            367441 non-null  float64       \n",
            "dtypes: datetime64[ns](1), float64(17), int64(12)\n",
            "memory usage: 84.1 MB\n"
          ]
        }
      ]
    },
    {
      "cell_type": "markdown",
      "source": [
        "### **5. 스케일링**"
      ],
      "metadata": {
        "id": "b98tVbKZ-Ey3"
      }
    },
    {
      "cell_type": "code",
      "source": [
        "from sklearn.preprocessing import StandardScaler\n",
        "\n",
        "scl = StandardScaler()\n",
        "\n",
        "train_scld = scl.fit_transform(train.drop(['ATA', 'CI_HOUR'], axis=1))\n",
        "train_scld = pd.DataFrame(train_scld, columns=train.drop(['ATA', 'CI_HOUR'], axis=1).columns)\n",
        "train_scld['ATA']=train['ATA']\n",
        "\n",
        "test_scld = scl.transform(test.drop('ATA', axis=1))\n",
        "test_scld = pd.DataFrame(test_scld, columns=test.drop('ATA', axis=1).columns)\n",
        "test_scld['ATA']=test['ATA']"
      ],
      "metadata": {
        "id": "iFS6R1lM9nhC"
      },
      "execution_count": null,
      "outputs": []
    },
    {
      "cell_type": "markdown",
      "metadata": {
        "id": "9QRHLqbaV03L"
      },
      "source": [
        "## **| 모델 학습**"
      ]
    },
    {
      "cell_type": "markdown",
      "source": [
        "### **학습/검증 데이터셋 생성**"
      ],
      "metadata": {
        "id": "csZij4HB0aC3"
      }
    },
    {
      "cell_type": "code",
      "source": [
        "from sklearn.model_selection import train_test_split\n",
        "X = train_scld\n",
        "Y = train[\"CI_HOUR\"]\n",
        "x_train, x_valid, y_train, y_valid = train_test_split(X, Y, test_size=0.2, random_state=42)"
      ],
      "metadata": {
        "id": "8YGAFSNjvcRV"
      },
      "execution_count": null,
      "outputs": []
    },
    {
      "cell_type": "markdown",
      "metadata": {
        "id": "ETDa6HzNV7BJ"
      },
      "source": [
        "### **Catboost 모델링**"
      ]
    },
    {
      "cell_type": "code",
      "source": [
        "!pip install catboost"
      ],
      "metadata": {
        "colab": {
          "base_uri": "https://localhost:8080/"
        },
        "id": "lpajHFg6WSr8",
        "outputId": "42452a91-1d4d-43d3-b476-aabb855f658b"
      },
      "execution_count": null,
      "outputs": [
        {
          "output_type": "stream",
          "name": "stdout",
          "text": [
            "Collecting catboost\n",
            "  Downloading catboost-1.2.2-cp310-cp310-manylinux2014_x86_64.whl (98.7 MB)\n",
            "\u001b[2K     \u001b[90m━━━━━━━━━━━━━━━━━━━━━━━━━━━━━━━━━━━━━━━━\u001b[0m \u001b[32m98.7/98.7 MB\u001b[0m \u001b[31m2.9 MB/s\u001b[0m eta \u001b[36m0:00:00\u001b[0m\n",
            "\u001b[?25hRequirement already satisfied: graphviz in /usr/local/lib/python3.10/dist-packages (from catboost) (0.20.1)\n",
            "Requirement already satisfied: matplotlib in /usr/local/lib/python3.10/dist-packages (from catboost) (3.7.1)\n",
            "Requirement already satisfied: numpy>=1.16.0 in /usr/local/lib/python3.10/dist-packages (from catboost) (1.23.5)\n",
            "Requirement already satisfied: pandas>=0.24 in /usr/local/lib/python3.10/dist-packages (from catboost) (1.5.3)\n",
            "Requirement already satisfied: scipy in /usr/local/lib/python3.10/dist-packages (from catboost) (1.11.3)\n",
            "Requirement already satisfied: plotly in /usr/local/lib/python3.10/dist-packages (from catboost) (5.15.0)\n",
            "Requirement already satisfied: six in /usr/local/lib/python3.10/dist-packages (from catboost) (1.16.0)\n",
            "Requirement already satisfied: python-dateutil>=2.8.1 in /usr/local/lib/python3.10/dist-packages (from pandas>=0.24->catboost) (2.8.2)\n",
            "Requirement already satisfied: pytz>=2020.1 in /usr/local/lib/python3.10/dist-packages (from pandas>=0.24->catboost) (2023.3.post1)\n",
            "Requirement already satisfied: contourpy>=1.0.1 in /usr/local/lib/python3.10/dist-packages (from matplotlib->catboost) (1.1.1)\n",
            "Requirement already satisfied: cycler>=0.10 in /usr/local/lib/python3.10/dist-packages (from matplotlib->catboost) (0.12.1)\n",
            "Requirement already satisfied: fonttools>=4.22.0 in /usr/local/lib/python3.10/dist-packages (from matplotlib->catboost) (4.43.1)\n",
            "Requirement already satisfied: kiwisolver>=1.0.1 in /usr/local/lib/python3.10/dist-packages (from matplotlib->catboost) (1.4.5)\n",
            "Requirement already satisfied: packaging>=20.0 in /usr/local/lib/python3.10/dist-packages (from matplotlib->catboost) (23.2)\n",
            "Requirement already satisfied: pillow>=6.2.0 in /usr/local/lib/python3.10/dist-packages (from matplotlib->catboost) (9.4.0)\n",
            "Requirement already satisfied: pyparsing>=2.3.1 in /usr/local/lib/python3.10/dist-packages (from matplotlib->catboost) (3.1.1)\n",
            "Requirement already satisfied: tenacity>=6.2.0 in /usr/local/lib/python3.10/dist-packages (from plotly->catboost) (8.2.3)\n",
            "Installing collected packages: catboost\n",
            "Successfully installed catboost-1.2.2\n"
          ]
        }
      ]
    },
    {
      "cell_type": "code",
      "execution_count": null,
      "metadata": {
        "id": "qhArAzIDVrEX",
        "colab": {
          "base_uri": "https://localhost:8080/"
        },
        "outputId": "0e3c7280-f9a1-40dd-f36a-18552aaaa9af"
      },
      "outputs": [
        {
          "output_type": "stream",
          "name": "stdout",
          "text": [
            "0:\tlearn: 60.7084188\ttest: 59.8731411\tbest: 59.8731411 (0)\ttotal: 164ms\tremaining: 54m 31s\n",
            "1000:\tlearn: 43.9931427\ttest: 43.3483073\tbest: 43.3483073 (1000)\ttotal: 1m 41s\tremaining: 32m 14s\n",
            "2000:\tlearn: 41.7270099\ttest: 41.1672639\tbest: 41.1672639 (2000)\ttotal: 3m 10s\tremaining: 28m 29s\n",
            "3000:\tlearn: 39.4055488\ttest: 38.9719776\tbest: 38.9719776 (3000)\ttotal: 4m 37s\tremaining: 26m 14s\n",
            "4000:\tlearn: 37.1721706\ttest: 36.8347407\tbest: 36.8347407 (4000)\ttotal: 6m 3s\tremaining: 24m 15s\n",
            "5000:\tlearn: 35.2894937\ttest: 35.0311512\tbest: 35.0311512 (5000)\ttotal: 7m 30s\tremaining: 22m 30s\n",
            "6000:\tlearn: 34.1796384\ttest: 33.9892840\tbest: 33.9892840 (6000)\ttotal: 8m 59s\tremaining: 20m 58s\n",
            "7000:\tlearn: 33.3487169\ttest: 33.1789621\tbest: 33.1789621 (7000)\ttotal: 10m 25s\tremaining: 19m 21s\n",
            "8000:\tlearn: 32.7709642\ttest: 32.6301644\tbest: 32.6301644 (8000)\ttotal: 11m 49s\tremaining: 17m 44s\n",
            "9000:\tlearn: 32.1027528\ttest: 31.9902252\tbest: 31.9902252 (9000)\ttotal: 13m 15s\tremaining: 16m 11s\n",
            "10000:\tlearn: 31.3615273\ttest: 31.3028795\tbest: 31.3028795 (10000)\ttotal: 14m 41s\tremaining: 14m 41s\n",
            "11000:\tlearn: 30.7083429\ttest: 30.7078023\tbest: 30.7078023 (11000)\ttotal: 16m 6s\tremaining: 13m 10s\n",
            "12000:\tlearn: 30.1003150\ttest: 30.1546435\tbest: 30.1546435 (12000)\ttotal: 17m 32s\tremaining: 11m 41s\n",
            "13000:\tlearn: 29.5053130\ttest: 29.6199935\tbest: 29.6199935 (13000)\ttotal: 18m 57s\tremaining: 10m 12s\n",
            "14000:\tlearn: 29.0648927\ttest: 29.2248480\tbest: 29.2248480 (14000)\ttotal: 20m 21s\tremaining: 8m 43s\n",
            "15000:\tlearn: 28.7305180\ttest: 28.9363279\tbest: 28.9363279 (15000)\ttotal: 21m 45s\tremaining: 7m 14s\n",
            "16000:\tlearn: 28.4162775\ttest: 28.6548070\tbest: 28.6548070 (16000)\ttotal: 23m 9s\tremaining: 5m 47s\n",
            "17000:\tlearn: 28.0851186\ttest: 28.3518983\tbest: 28.3518983 (17000)\ttotal: 24m 33s\tremaining: 4m 19s\n",
            "18000:\tlearn: 27.7529138\ttest: 28.0654937\tbest: 28.0654937 (18000)\ttotal: 25m 55s\tremaining: 2m 52s\n",
            "19000:\tlearn: 27.3940458\ttest: 27.7588199\tbest: 27.7588199 (19000)\ttotal: 27m 20s\tremaining: 1m 26s\n",
            "19999:\tlearn: 27.1197795\ttest: 27.5120349\tbest: 27.5120349 (19999)\ttotal: 28m 44s\tremaining: 0us\n",
            "\n",
            "bestTest = 27.51203487\n",
            "bestIteration = 19999\n",
            "\n"
          ]
        },
        {
          "output_type": "execute_result",
          "data": {
            "text/plain": [
              "<catboost.core.CatBoostRegressor at 0x7b65211bece0>"
            ]
          },
          "metadata": {},
          "execution_count": 25
        }
      ],
      "source": [
        "from catboost import CatBoostRegressor\n",
        "\n",
        "cbc = CatBoostRegressor(verbose=1000, iterations=20000, objective='MAE', use_best_model=True)\n",
        "cbc.fit(x_train, y_train, eval_set=(x_valid, y_valid))"
      ]
    },
    {
      "cell_type": "code",
      "execution_count": null,
      "metadata": {
        "colab": {
          "base_uri": "https://localhost:8080/"
        },
        "id": "BIep0zKhV8vN",
        "outputId": "6a7cfc54-e7ec-4611-a214-2b3936ea44d4"
      },
      "outputs": [
        {
          "output_type": "execute_result",
          "data": {
            "text/plain": [
              "27.51203585523139"
            ]
          },
          "metadata": {},
          "execution_count": 26
        }
      ],
      "source": [
        "from sklearn.metrics import mean_absolute_error\n",
        "\n",
        "pred = cbc.predict(x_valid)\n",
        "mean_absolute_error(pred, y_valid)"
      ]
    },
    {
      "cell_type": "code",
      "source": [
        "# test 데이터셋에 대한 예측\n",
        "final = cbc.predict(test)"
      ],
      "metadata": {
        "id": "gS5GowGAuhpE"
      },
      "execution_count": null,
      "outputs": []
    },
    {
      "cell_type": "markdown",
      "source": [
        "## **| 제출 파일 생성 및 저장**"
      ],
      "metadata": {
        "id": "hAK8Qct72l9G"
      }
    },
    {
      "cell_type": "code",
      "execution_count": null,
      "metadata": {
        "id": "0ZWc2WGAWLXS"
      },
      "outputs": [],
      "source": [
        "submit = pd.read_csv('/content/drive/MyDrive/HD현대 AI Challenge/Data/sample_submission.csv')\n",
        "submit['CI_HOUR'] = final"
      ]
    },
    {
      "cell_type": "code",
      "source": [
        "submit.to_csv('sub_FE1016.csv', index=False) # 파일 이름 수정"
      ],
      "metadata": {
        "id": "0EicY0D42pIy"
      },
      "execution_count": null,
      "outputs": []
    }
  ]
}