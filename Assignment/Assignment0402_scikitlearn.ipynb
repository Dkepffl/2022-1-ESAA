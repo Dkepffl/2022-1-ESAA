{
  "nbformat": 4,
  "nbformat_minor": 0,
  "metadata": {
    "colab": {
      "name": "Assignment0402_scikitlearn.ipynb",
      "provenance": [],
      "collapsed_sections": [],
      "authorship_tag": "ABX9TyM6yfAbCOQhVJnuQ6WIMrHt",
      "include_colab_link": true
    },
    "kernelspec": {
      "name": "python3",
      "display_name": "Python 3"
    },
    "language_info": {
      "name": "python"
    }
  },
  "cells": [
    {
      "cell_type": "markdown",
      "metadata": {
        "id": "view-in-github",
        "colab_type": "text"
      },
      "source": [
        "<a href=\"https://colab.research.google.com/github/Dkepffl/2022-1-ESAA/blob/main/Assignment/Assignment0402_scikitlearn.ipynb\" target=\"_parent\"><img src=\"https://colab.research.google.com/assets/colab-badge.svg\" alt=\"Open In Colab\"/></a>"
      ]
    },
    {
      "cell_type": "code",
      "execution_count": null,
      "metadata": {
        "id": "L5o-xmmqui2D"
      },
      "outputs": [],
      "source": [
        "# import package"
      ]
    },
    {
      "cell_type": "markdown",
      "source": [
        "## 01 사이킷런 소개와 특징\n",
        "___\n",
        "- 사람의 눈은 한 번에 볼 수 있는 양이 정해져 있기 때문에, 데이터를 시각화하여 데이터의 숨겨진 패턴을 파악해야 한다. "
      ],
      "metadata": {
        "id": "eW1zjmi-u2jW"
      }
    },
    {
      "cell_type": "markdown",
      "source": [
        "### | 데이터 시각화가 필요한 이유\n",
        "___\n"
      ],
      "metadata": {
        "id": "UxmOqbIxu4RK"
      }
    },
    {
      "cell_type": "markdown",
      "source": [
        "#####  [ **앤스콤 4분할 그래프(Anscombe's quartet)** 살펴보기 ]\n",
        "- 앤스콤 4분할 그래프 : 데이터를 시각화하지 않고 수치만 확인할 때 발생할 수 있는 '함정'을 보여주기 위해 만든 그래프\n",
        "  + 앤스콤 4분할 그래프를 구성하는 데이터 집합은 4개의 그룹으로 구성되어 있으며, 모든 그룹은 x, y 열을 가지고 있다.\n",
        "  + 이 4개의 구릅은 각각 평균, 분산과 같은 수치값이나 상관관계, 회귀선이 같다\n",
        "  + 따라서 **'데이터 그룹 1~4의 데이터는 모두 같을 것이다'** 라는 '함정'에 빠질 수 있다.\n",
        "- 그러나 앤스콤 4분할 그래프를 이용하여 데이터를 시각화하면 각 그룹이 서로 다른 데이터 패턴을 가지고 있다는 것을 쉽게 알 수 있다."
      ],
      "metadata": {
        "id": "0zmFr9BtvhMI"
      }
    },
    {
      "cell_type": "markdown",
      "source": [
        "## 02 첫 번째 머신러닝 만들어 보기 - 붓꽃 품종 예측하기\n",
        "___\n",
        "- 사람의 눈은 한 번에 볼 수 있는 양이 정해져 있기 때문에, 데이터를 시각화하여 데이터의 숨겨진 패턴을 파악해야 한다. "
      ],
      "metadata": {
        "id": "5sCrYcsdvlZz"
      }
    },
    {
      "cell_type": "markdown",
      "source": [
        "## 03 사이킷런의 기반 프레임워크 익히기\n",
        "___\n",
        "- 사람의 눈은 한 번에 볼 수 있는 양이 정해져 있기 때문에, 데이터를 시각화하여 데이터의 숨겨진 패턴을 파악해야 한다. "
      ],
      "metadata": {
        "id": "T6_Don9Mvlrn"
      }
    },
    {
      "cell_type": "markdown",
      "source": [
        "## 04 Model Selection 모듈 소개\n",
        "___\n",
        "- 사람의 눈은 한 번에 볼 수 있는 양이 정해져 있기 때문에, 데이터를 시각화하여 데이터의 숨겨진 패턴을 파악해야 한다. "
      ],
      "metadata": {
        "id": "0aoF-SLJvl29"
      }
    },
    {
      "cell_type": "markdown",
      "source": [
        "## 05 데이터 전처리\n",
        "___\n",
        "- 사람의 눈은 한 번에 볼 수 있는 양이 정해져 있기 때문에, 데이터를 시각화하여 데이터의 숨겨진 패턴을 파악해야 한다. "
      ],
      "metadata": {
        "id": "Jzlpey2bvypZ"
      }
    },
    {
      "cell_type": "markdown",
      "source": [
        "## 06 사이킷런으로 수행하는 타이타닉 생존자 예측\n",
        "___\n",
        "- 사람의 눈은 한 번에 볼 수 있는 양이 정해져 있기 때문에, 데이터를 시각화하여 데이터의 숨겨진 패턴을 파악해야 한다. "
      ],
      "metadata": {
        "id": "QZE4-mZDvy17"
      }
    }
  ]
}