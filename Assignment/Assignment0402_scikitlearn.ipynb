{
  "nbformat": 4,
  "nbformat_minor": 0,
  "metadata": {
    "colab": {
      "name": "Assignment0402_scikitlearn.ipynb",
      "provenance": [],
      "collapsed_sections": [
        "eW1zjmi-u2jW"
      ],
      "authorship_tag": "ABX9TyMX5AU9tRJdZyaVRpeC0oTR",
      "include_colab_link": true
    },
    "kernelspec": {
      "name": "python3",
      "display_name": "Python 3"
    },
    "language_info": {
      "name": "python"
    }
  },
  "cells": [
    {
      "cell_type": "markdown",
      "metadata": {
        "id": "view-in-github",
        "colab_type": "text"
      },
      "source": [
        "<a href=\"https://colab.research.google.com/github/Dkepffl/2022-1-ESAA/blob/main/Assignment/Assignment0402_scikitlearn.ipynb\" target=\"_parent\"><img src=\"https://colab.research.google.com/assets/colab-badge.svg\" alt=\"Open In Colab\"/></a>"
      ]
    },
    {
      "cell_type": "code",
      "source": [
        "# 사이킷런 설치\n",
        "!pip install scikit-learn"
      ],
      "metadata": {
        "colab": {
          "base_uri": "https://localhost:8080/"
        },
        "id": "GRvdUUbEwu98",
        "outputId": "da220e94-ed17-420f-8097-6a8ba9c14912"
      },
      "execution_count": null,
      "outputs": [
        {
          "output_type": "stream",
          "name": "stdout",
          "text": [
            "Requirement already satisfied: scikit-learn in /usr/local/lib/python3.7/dist-packages (1.0.2)\n",
            "Requirement already satisfied: joblib>=0.11 in /usr/local/lib/python3.7/dist-packages (from scikit-learn) (1.1.0)\n",
            "Requirement already satisfied: threadpoolctl>=2.0.0 in /usr/local/lib/python3.7/dist-packages (from scikit-learn) (3.1.0)\n",
            "Requirement already satisfied: numpy>=1.14.6 in /usr/local/lib/python3.7/dist-packages (from scikit-learn) (1.21.5)\n",
            "Requirement already satisfied: scipy>=1.1.0 in /usr/local/lib/python3.7/dist-packages (from scikit-learn) (1.4.1)\n"
          ]
        }
      ]
    },
    {
      "cell_type": "code",
      "execution_count": 32,
      "metadata": {
        "id": "L5o-xmmqui2D"
      },
      "outputs": [],
      "source": [
        "# import package\n",
        "import sklearn\n",
        "import pandas as pd\n",
        "import numpy as np"
      ]
    },
    {
      "cell_type": "markdown",
      "source": [
        "## 01 사이킷런 소개와 특징\n",
        "___\n",
        "- 사이킷런(scikit-learn)은 **파이썬 머신러닝 라이브러리** 중 가장 많이 사용되는 라이브러리\n",
        "- 사이킷런의 특징\n",
        "  1. 가장 쉽고 파이썬스러운 API를 제공한다.\n",
        "  2. 머신러닝을 위한 매우 다양한 알고리즘과 개발을 위한 편리한 프레임워크, API를 제공한다.\n",
        "  3. 오랜 기간 실전 환경에서 검증되어 매우 많은 환경에서 사용되는 라이브러리이다.\n",
        "- 사이킷런 패키지 import\n",
        "```python\n",
        "import sklearn\n",
        "```\n"
      ],
      "metadata": {
        "id": "eW1zjmi-u2jW"
      }
    },
    {
      "cell_type": "code",
      "source": [
        "# 사이킷런 버전 확인\n",
        "print(sklearn.__version__)"
      ],
      "metadata": {
        "colab": {
          "base_uri": "https://localhost:8080/"
        },
        "id": "Tn4M9B45xFGk",
        "outputId": "65fef8f7-fe71-4996-bdb9-3e3d89fdcc53"
      },
      "execution_count": null,
      "outputs": [
        {
          "output_type": "stream",
          "name": "stdout",
          "text": [
            "1.0.2\n"
          ]
        }
      ]
    },
    {
      "cell_type": "markdown",
      "source": [
        "## 02 첫 번째 머신러닝 만들어 보기 - 붓꽃 품종 예측하기\n",
        "___\n",
        "- **붓꽃 데이터 세트**로 붓꽃의 품종을 분류(Classification)\n",
        "- 붓꽃 데이터 세트 : 꽃잎의 길이와 너비, 꽃받침의 길이와 너비 피처(Feature)를 기반으로 꽃의 품종을 예측하기 위한 데이터\n",
        "- **분류(Classification)** :  대표적인 지도학습(Supervised Learning) 방법 중 하나\n",
        "  * 지도 학습은 학습을 위한 다양한 피처와 분류 결정값인 레이블(Label) 데이터로 모델을 학습한 뒤, 별도의 테스트 데이터 세트에서 미지의 레이블을 예측한다.\n",
        "  * 즉, 명확한 정답이 주어진 데이터를 먼저 학습한 뒤 미지의 정답을 예측한다\n",
        "  * 학습 데이터셋 : 학습을 위해 주어진 데이터셋\n",
        "  * 테스트 데이터셋 : 머신러닝 모델의 예측 성능을 평가하기 위해 별도로 주어진 데이터셋\n"
      ],
      "metadata": {
        "id": "5sCrYcsdvlZz"
      }
    },
    {
      "cell_type": "markdown",
      "source": [
        "#### 1. 사이킷런에서 사용할 모듈을 import\n",
        "___\n",
        "  - sklearn.datasets : 사이킷런에서 자체적으로 제공하는 데이터셋을 생성하는 모듈의 모임\n",
        "  - sklearn.tree : 트리 기반 ML 알고리즘을 구현한 클래스의 모임\n",
        "  - sklearn.model_selection : 학습 데이터와 검증 데이터, 예측 데이터로 데이터를 불리하거나 최적의 하이퍼 파라미터로 평가하기 위한 다양한 모듈의 모임\n",
        "    + 하이퍼 파라미터 : 머신러닝 알고리즘 별로 최적의 학습을 위해 직접 입력하는 파라미터들\n",
        "    + 하이퍼 파라미터를 이용해 머신러닝 알고리즘의 성능을 조정할 수 있다.\n",
        "  - `load_iris()` : 붓꽃 데이터 세트 생성\n",
        "  - `DecisionTreeClassifier` : ML 알고리즘 중 의사 결정 트리(Decision Tree) 알고리즘을 적용\n",
        "  - `train_test_split()` : 데이터셋을 학습 데이터와 테스트 데이터로 분리\n"
      ],
      "metadata": {
        "id": "iJ2UEeUhM6SF"
      }
    },
    {
      "cell_type": "code",
      "source": [
        "# 사용할 Moule Import\n",
        "from sklearn.datasets import load_iris\n",
        "from sklearn.tree import DecisionTreeClassifier \n",
        "from sklearn.model_selection import train_test_split"
      ],
      "metadata": {
        "id": "Kgaw5pLRPpnV"
      },
      "execution_count": 10,
      "outputs": []
    },
    {
      "cell_type": "markdown",
      "source": [
        "#### 2. 붓꽃 데이터셋 로딩 및 DataFrame으로 변환\n",
        "___"
      ],
      "metadata": {
        "id": "KJm5NpGkQEId"
      }
    },
    {
      "cell_type": "code",
      "source": [
        "# load iris dataset\n",
        "iris = load_iris()"
      ],
      "metadata": {
        "id": "mx1jMHPnRMy-"
      },
      "execution_count": 5,
      "outputs": []
    },
    {
      "cell_type": "code",
      "source": [
        "# iris.data는 Iris 데이터셋에서 Feature만으로 된 데이터를 numpy로 가지고 있다.\n",
        "iris_data = iris.data"
      ],
      "metadata": {
        "id": "GGnkjOT-RO18"
      },
      "execution_count": 6,
      "outputs": []
    },
    {
      "cell_type": "code",
      "source": [
        "# iris.target은 붓꽃 데이터셋에서 Label 데이터를 numpy로 가지고 있다.\n",
        "iris_label = iris.target\n",
        "print('iris target 값 : ', iris_label)\n",
        "print('iris target 명 : ', iris.target_names)"
      ],
      "metadata": {
        "colab": {
          "base_uri": "https://localhost:8080/"
        },
        "id": "kUaKDSwQRRv0",
        "outputId": "3950a464-3e60-4668-cb47-6fadf814d518"
      },
      "execution_count": 7,
      "outputs": [
        {
          "output_type": "stream",
          "name": "stdout",
          "text": [
            "iris target 값 :  [0 0 0 0 0 0 0 0 0 0 0 0 0 0 0 0 0 0 0 0 0 0 0 0 0 0 0 0 0 0 0 0 0 0 0 0 0\n",
            " 0 0 0 0 0 0 0 0 0 0 0 0 0 1 1 1 1 1 1 1 1 1 1 1 1 1 1 1 1 1 1 1 1 1 1 1 1\n",
            " 1 1 1 1 1 1 1 1 1 1 1 1 1 1 1 1 1 1 1 1 1 1 1 1 1 1 2 2 2 2 2 2 2 2 2 2 2\n",
            " 2 2 2 2 2 2 2 2 2 2 2 2 2 2 2 2 2 2 2 2 2 2 2 2 2 2 2 2 2 2 2 2 2 2 2 2 2\n",
            " 2 2]\n",
            "iris target 명 :  ['setosa' 'versicolor' 'virginica']\n"
          ]
        }
      ]
    },
    {
      "cell_type": "code",
      "source": [
        "# 붓꽃 데이터셋을 DataFrame으로 변환\n",
        "iris_df = pd.DataFrame(data = iris_data, columns = iris.feature_names)\n",
        "iris_df['label'] = iris.target\n",
        "iris_df.head(3)"
      ],
      "metadata": {
        "colab": {
          "base_uri": "https://localhost:8080/",
          "height": 143
        },
        "id": "dSMZuDsZQU6f",
        "outputId": "02328eab-1054-4d43-b165-b7c2c57877d0"
      },
      "execution_count": 8,
      "outputs": [
        {
          "output_type": "execute_result",
          "data": {
            "text/plain": [
              "   sepal length (cm)  sepal width (cm)  petal length (cm)  petal width (cm)  \\\n",
              "0                5.1               3.5                1.4               0.2   \n",
              "1                4.9               3.0                1.4               0.2   \n",
              "2                4.7               3.2                1.3               0.2   \n",
              "\n",
              "   label  \n",
              "0      0  \n",
              "1      0  \n",
              "2      0  "
            ],
            "text/html": [
              "\n",
              "  <div id=\"df-edc2d688-a53e-4005-9571-6057ad667abd\">\n",
              "    <div class=\"colab-df-container\">\n",
              "      <div>\n",
              "<style scoped>\n",
              "    .dataframe tbody tr th:only-of-type {\n",
              "        vertical-align: middle;\n",
              "    }\n",
              "\n",
              "    .dataframe tbody tr th {\n",
              "        vertical-align: top;\n",
              "    }\n",
              "\n",
              "    .dataframe thead th {\n",
              "        text-align: right;\n",
              "    }\n",
              "</style>\n",
              "<table border=\"1\" class=\"dataframe\">\n",
              "  <thead>\n",
              "    <tr style=\"text-align: right;\">\n",
              "      <th></th>\n",
              "      <th>sepal length (cm)</th>\n",
              "      <th>sepal width (cm)</th>\n",
              "      <th>petal length (cm)</th>\n",
              "      <th>petal width (cm)</th>\n",
              "      <th>label</th>\n",
              "    </tr>\n",
              "  </thead>\n",
              "  <tbody>\n",
              "    <tr>\n",
              "      <th>0</th>\n",
              "      <td>5.1</td>\n",
              "      <td>3.5</td>\n",
              "      <td>1.4</td>\n",
              "      <td>0.2</td>\n",
              "      <td>0</td>\n",
              "    </tr>\n",
              "    <tr>\n",
              "      <th>1</th>\n",
              "      <td>4.9</td>\n",
              "      <td>3.0</td>\n",
              "      <td>1.4</td>\n",
              "      <td>0.2</td>\n",
              "      <td>0</td>\n",
              "    </tr>\n",
              "    <tr>\n",
              "      <th>2</th>\n",
              "      <td>4.7</td>\n",
              "      <td>3.2</td>\n",
              "      <td>1.3</td>\n",
              "      <td>0.2</td>\n",
              "      <td>0</td>\n",
              "    </tr>\n",
              "  </tbody>\n",
              "</table>\n",
              "</div>\n",
              "      <button class=\"colab-df-convert\" onclick=\"convertToInteractive('df-edc2d688-a53e-4005-9571-6057ad667abd')\"\n",
              "              title=\"Convert this dataframe to an interactive table.\"\n",
              "              style=\"display:none;\">\n",
              "        \n",
              "  <svg xmlns=\"http://www.w3.org/2000/svg\" height=\"24px\"viewBox=\"0 0 24 24\"\n",
              "       width=\"24px\">\n",
              "    <path d=\"M0 0h24v24H0V0z\" fill=\"none\"/>\n",
              "    <path d=\"M18.56 5.44l.94 2.06.94-2.06 2.06-.94-2.06-.94-.94-2.06-.94 2.06-2.06.94zm-11 1L8.5 8.5l.94-2.06 2.06-.94-2.06-.94L8.5 2.5l-.94 2.06-2.06.94zm10 10l.94 2.06.94-2.06 2.06-.94-2.06-.94-.94-2.06-.94 2.06-2.06.94z\"/><path d=\"M17.41 7.96l-1.37-1.37c-.4-.4-.92-.59-1.43-.59-.52 0-1.04.2-1.43.59L10.3 9.45l-7.72 7.72c-.78.78-.78 2.05 0 2.83L4 21.41c.39.39.9.59 1.41.59.51 0 1.02-.2 1.41-.59l7.78-7.78 2.81-2.81c.8-.78.8-2.07 0-2.86zM5.41 20L4 18.59l7.72-7.72 1.47 1.35L5.41 20z\"/>\n",
              "  </svg>\n",
              "      </button>\n",
              "      \n",
              "  <style>\n",
              "    .colab-df-container {\n",
              "      display:flex;\n",
              "      flex-wrap:wrap;\n",
              "      gap: 12px;\n",
              "    }\n",
              "\n",
              "    .colab-df-convert {\n",
              "      background-color: #E8F0FE;\n",
              "      border: none;\n",
              "      border-radius: 50%;\n",
              "      cursor: pointer;\n",
              "      display: none;\n",
              "      fill: #1967D2;\n",
              "      height: 32px;\n",
              "      padding: 0 0 0 0;\n",
              "      width: 32px;\n",
              "    }\n",
              "\n",
              "    .colab-df-convert:hover {\n",
              "      background-color: #E2EBFA;\n",
              "      box-shadow: 0px 1px 2px rgba(60, 64, 67, 0.3), 0px 1px 3px 1px rgba(60, 64, 67, 0.15);\n",
              "      fill: #174EA6;\n",
              "    }\n",
              "\n",
              "    [theme=dark] .colab-df-convert {\n",
              "      background-color: #3B4455;\n",
              "      fill: #D2E3FC;\n",
              "    }\n",
              "\n",
              "    [theme=dark] .colab-df-convert:hover {\n",
              "      background-color: #434B5C;\n",
              "      box-shadow: 0px 1px 3px 1px rgba(0, 0, 0, 0.15);\n",
              "      filter: drop-shadow(0px 1px 2px rgba(0, 0, 0, 0.3));\n",
              "      fill: #FFFFFF;\n",
              "    }\n",
              "  </style>\n",
              "\n",
              "      <script>\n",
              "        const buttonEl =\n",
              "          document.querySelector('#df-edc2d688-a53e-4005-9571-6057ad667abd button.colab-df-convert');\n",
              "        buttonEl.style.display =\n",
              "          google.colab.kernel.accessAllowed ? 'block' : 'none';\n",
              "\n",
              "        async function convertToInteractive(key) {\n",
              "          const element = document.querySelector('#df-edc2d688-a53e-4005-9571-6057ad667abd');\n",
              "          const dataTable =\n",
              "            await google.colab.kernel.invokeFunction('convertToInteractive',\n",
              "                                                     [key], {});\n",
              "          if (!dataTable) return;\n",
              "\n",
              "          const docLinkHtml = 'Like what you see? Visit the ' +\n",
              "            '<a target=\"_blank\" href=https://colab.research.google.com/notebooks/data_table.ipynb>data table notebook</a>'\n",
              "            + ' to learn more about interactive tables.';\n",
              "          element.innerHTML = '';\n",
              "          dataTable['output_type'] = 'display_data';\n",
              "          await google.colab.output.renderOutput(dataTable, element);\n",
              "          const docLink = document.createElement('div');\n",
              "          docLink.innerHTML = docLinkHtml;\n",
              "          element.appendChild(docLink);\n",
              "        }\n",
              "      </script>\n",
              "    </div>\n",
              "  </div>\n",
              "  "
            ]
          },
          "metadata": {},
          "execution_count": 8
        }
      ]
    },
    {
      "cell_type": "markdown",
      "source": [
        "- Feature : sepal length, sepal width, petal length, petal width\n",
        "- Label : 0(Setosa), 1(Verisicolor), 2(Virginica)"
      ],
      "metadata": {
        "id": "ddJ5zGUBRcsU"
      }
    },
    {
      "cell_type": "markdown",
      "source": [
        "#### 3. 학습용 데이터와 테스트용 데이터 분리\n",
        "___\n",
        "- 학습 데이터로 학습된 모델이 얼마나 뛰어난 성능을 가지는지 평가하려면 테스트 데이터셋이 반드시 필요하기 때문에, 학습용 데이터와 테스트용 데이터를 분리해야 한다.\n",
        "- 사이킷런의 `train_test_split()` API를 활용하면 학습 데이터와 테스트 데이터를 test_size 파라미터 입력 값의 비율로 쉽게 분할해준다.\n",
        "  - `iris_data` : Feature 데이터셋\n",
        "  - `iris_label` : Label 데이터셋\n",
        "  - `test_size` : 전체 데이터셋 중 테스트 데이터셋의 비율\n",
        "  - `random_state` : 호출할 때마다 같은 학습/테스트 용 데이터셋을 생성하기 위해 주어지는 난수 발생 값. 설정하지 않으면 `train_test_split()`을 호출할 때마다 다른 학습/테스트용 데이터셋이 만들어진다(`random.seed`와 비슷한 기능을 한다)"
      ],
      "metadata": {
        "id": "A_W0lIO7Rv_P"
      }
    },
    {
      "cell_type": "code",
      "source": [
        "# Test data : 20%, Train data : 80%\n",
        "X_train, X_test, y_train, y_test = train_test_split(iris_data, iris_label, test_size = 0.2, random_state = 11)"
      ],
      "metadata": {
        "id": "Gm7kGg_SSNj2"
      },
      "execution_count": 9,
      "outputs": []
    },
    {
      "cell_type": "markdown",
      "source": [
        "\n",
        "- X_train : 학습용 Feature 데이터셋\n",
        "- X_test : 테스트용 Feature 데이터셋\n",
        "- y_train : 학습 Label 데이터셋\n",
        "- y_test : 테스트용 Label 데이터셋"
      ],
      "metadata": {
        "id": "M3GBOEslZ3zV"
      }
    },
    {
      "cell_type": "markdown",
      "source": [
        "#### 4. 학습용 데이터를 이용해 의사 결정 트리로 학습과 예측 수행\n",
        "___\n",
        "- 모델 학습 : 학습 데이터를 기반으로 ML 알고리즘을 적용해 모델 학습\n",
        "- 예측 수행 : 학습된 ML모델을 이용해 테스트 데이터의 분류를 예측"
      ],
      "metadata": {
        "id": "iuZlfwhTa9kk"
      }
    },
    {
      "cell_type": "code",
      "source": [
        "# DecisionTreeClassifier 객체 생성\n",
        "# random_state : 동일한 학습/예측 결과를 출력하기 위한 변수\n",
        "dt_clf = DecisionTreeClassifier(random_state=11) "
      ],
      "metadata": {
        "id": "G-evUQW4bIJd"
      },
      "execution_count": 11,
      "outputs": []
    },
    {
      "cell_type": "code",
      "source": [
        "# 학습 수행 \n",
        "dt_clf.fit(X_train, y_train)"
      ],
      "metadata": {
        "colab": {
          "base_uri": "https://localhost:8080/"
        },
        "id": "DSSphkJibw62",
        "outputId": "df4fdbf4-7baa-4553-e2ae-0bf976725215"
      },
      "execution_count": 12,
      "outputs": [
        {
          "output_type": "execute_result",
          "data": {
            "text/plain": [
              "DecisionTreeClassifier(random_state=11)"
            ]
          },
          "metadata": {},
          "execution_count": 12
        }
      ]
    },
    {
      "cell_type": "code",
      "source": [
        "# 예측 수행 : 테스트 데이터셋 사용\n",
        "# DecisionTreeClassifier의 predict() 메서드\n",
        "pred = dt_clf.predict(X_test)"
      ],
      "metadata": {
        "id": "SCe1TFlqb1ii"
      },
      "execution_count": 13,
      "outputs": []
    },
    {
      "cell_type": "markdown",
      "source": [
        "#### 5. 모델 성능 평가\n",
        "___\n",
        "- 예측 값과 테스트 데이터의 실제 결과값을 비교해 ML 모델의 성능을 평가"
      ],
      "metadata": {
        "id": "l2m2b_PjcRja"
      }
    },
    {
      "cell_type": "code",
      "source": [
        "# 모델 성능 평가\n",
        "# 정확도 측정 : accuracy_score() 함수\n",
        "from sklearn.metrics import accuracy_score\n",
        "print('예측 정확도: {0:.4f}'.format(accuracy_score(y_test,pred)))"
      ],
      "metadata": {
        "colab": {
          "base_uri": "https://localhost:8080/"
        },
        "id": "lZl4gWv_cFAS",
        "outputId": "e43f5900-f058-4c57-ebef-8a9eb4ec59e5"
      },
      "execution_count": 14,
      "outputs": [
        {
          "output_type": "stream",
          "name": "stdout",
          "text": [
            "예측 정확도: 0.9333\n"
          ]
        }
      ]
    },
    {
      "cell_type": "markdown",
      "source": [
        "## 03 사이킷런의 기반 프레임워크 익히기\n",
        "___\n"
      ],
      "metadata": {
        "id": "T6_Don9Mvlrn"
      }
    },
    {
      "cell_type": "markdown",
      "source": [
        "#### | Estimator 이해 및 fit(), predict() 메서드\n",
        "___\n",
        "- 사이킷런은 지도학습의 주요한 알고리즘인 분류(Classification)와 회귀(Regression)의 다양한 알고리즘을 구현했다.\n",
        "- 모든 사이킷런 클래스는 **fit()**과 **predict()**만을 이용해 간단하게 학습과 예측 결과를 반환한다.\n",
        "  1. `fit()` : ML 모델 학습을 위한 메서드\n",
        "  2. `predict()` : 학습된 모델의 예측을 위한 메서드\n",
        "- **Estimator** : 지도학습의 모든 알고리즘을 구현한 클래스. 내부에서 `fit()`과 `predict()` 메서드를 구현한다.\n",
        "  1. **Classifier** : 분류 알고리즘을 구현한 클래스\n",
        "    - DescisonTreeClassifier\n",
        "    - RandomForestClassifier\n",
        "    - GradientBoostingClassifier\n",
        "    - GaussianNB\n",
        "    - SVC\n",
        "  2. **Regressor** : 회귀 알고리즘을 구현한 클래스\n",
        "    - LinearRegression\n",
        "    - Ridge\n",
        "    - Lasso\n",
        "    - RandomForestRegressor\n",
        "    - GradientBoostingRegressor\n",
        "- evaluation 함수 중 하나인 `cross_val_score()`과 하이퍼 파라미터 튜닝을 수행하는 `GridSearchCV.fit()` 함수는 Estimator의 fit()과 predict()를 호출해서 사용한다."
      ],
      "metadata": {
        "id": "5Af5xgi_cvzM"
      }
    },
    {
      "cell_type": "markdown",
      "source": [
        "- 사이킷런에서 비지도학습인 차원 축소, 클러스터링, Feature Extraction 등을 구현한 클래스 역시 대부분 fit()과 trasform()을 적용한다.\n",
        "  1. `fit()` : 입력 데이터의 형태에 맞춰 데이터를 변환하기 위한 사전 구조를 맞추는 메서드\n",
        "  2. `transform()` : 입력 데이터의 차원 변환, 클러스터링, 피처 추출 등 실제 작업을 수행하는 메소드\n",
        "  3. `fit_transform()` : `fit()`과 `trnasform()` 기능을 함께 제공하는 메소드. 사용할 때 주의가 필요하다."
      ],
      "metadata": {
        "id": "YUNQ72MJfVKe"
      }
    },
    {
      "cell_type": "markdown",
      "source": [
        "#### | 사이킷런의 주요 모듈\n",
        "___\n",
        "1. 예제 데이터 \n",
        "  - `sklearn.datasets` : 사이킷런에 내장되어 예제로 제공하는 데이터셋\n",
        "2. Feature 처리\n",
        "  - `sklearn.preprocessing` : 데이터 전처리에 필요한 다양한 가공 기능을 제공(문자열을 숫자형 코드 값으로 인코딩, 정규화, 스케일링 등)\n",
        "  - `sklearn.feature_selection` : 알고리즘에 큰 영향을 미치는 Feature를 우선순위대로 Selection 작업을 수행하는 다양한 기능 제공\n",
        "  - `sklearn.feature_extraction` : 텍스트 데이터나 이미지 데이터의 벡터화된 피처를 추출할 때 사용\n",
        "    * 텍스트 데이터에서 Count Vectorizer나 Tf-ldf Vectorizer 등을 생성\n",
        "    * 텍스트 데이터 Feature 추출 : `sklearn.feature_extraction.text` 모듈\n",
        "    * 이미지 데이터 Feature 추출 : `sklearn.feature_extraction.image` 모듈\n",
        "3. Feature 처리 및 차원 축소\n",
        "  - `sklearn.decomposition` : 차원 축소와 관련된 알고리즘을 지원하는 모듈. PCA, NMF, Truncated SVD 등을 통해 차원 축소 기능을 수행한다.\n",
        "4. 데이터 분리 및 검증 & 파라미터 튜닝\n",
        "  - `sklearn.model_selection` : 교차 검증을 위한 학습용/테스트용 데이터셋 분리, Grid Search로 최적 파라미터 추출 등의 API 제공\n",
        "5. 평가\n",
        "  - `sklearn.metrics` : 분류, 회귀, 클러스터링, Pairwise에 대한 다양한 성능 측정 방법을 제공. Accuracy, Precision, Recall, ROC-AUC, RMSE 등을 제공한다.\n",
        "6. ML 알고리즘\n",
        "   - `sklearn.esemble` : 앙상블 알고리즘 제공(Random Forest,AdaBoost, Gradient Boosting 등)\n",
        "   - `sklearn.linear_model` : 회귀 알고리즘 제공(선형 회귀, Ridge, Lasso, 로지스틱 회귀 등). SGD 관련 알고리즘도 제공\n",
        "   - `sklearn.naive_bayes` : 나이브 베이즈 알고리즘 제공(가우시안 NB, 다항분포 NB 등)\n",
        "   - `sklearn.neighbors` : 최근접 이웃 알고리즘 제공(K-NN 등)\n",
        "   - `sklearn.svm` : 서포트 벡터 머신 알고리즘 제공\n",
        "   - `sklearn.tree` : 의사 결정 트리 알고리즘 제공\n",
        "   - `sklearn.cluster` : 비지도 클러스터링 알고리즘 제공(K-means, 계층형, DBSCAN 등)"
      ],
      "metadata": {
        "id": "jMPhdavmc2JL"
      }
    },
    {
      "cell_type": "markdown",
      "source": [
        "#### | 내장된 예제 데이터셋\n",
        "___"
      ],
      "metadata": {
        "id": "iBxSoWBTc5BU"
      }
    },
    {
      "cell_type": "markdown",
      "source": [
        "##### [분류나 회귀 연습용 예제 데이터셋]\n",
        "1. `datasets.load_boston()` : 회귀 용도. 미국 보스턴의 집 Feature들과 가격에 대한 데이터셋\n",
        "2. `datasets.load_breast_cancer()` : 분류 용도. 위스콘신 유방암 피처들과 악성/음성 Label 데이터셋\n",
        "3. `datasets.load_diabets()` : 회귀 용도. 당뇨 데이터셋\n",
        "4. `datasets.load_digits()` : 분류 용도. 0에서 9까지의 숫자의 이미지 픽셀 데이터셋\n",
        "5. `datasets.load_iris()` : 분류 용도. 붓꽃에 대한 피처를 가진 데이터셋.\n",
        "6. fetch 계열 : 데이터의 크기가 커서 패키지에 처음부터 저장되어 있지 않고, 인터넷에서 다운 받아 홈 디렉토리 아래의 scikit_learn_data라는 서브 디렉토리에 저장 후, 불러들이는 데이터. 최초 사용 시 인터넷에 연결되어 있지 않으면 사용할 수 없다.\n",
        "  - `fetch_covtype()` : 회귀 분석용 토지 조사 자료\n",
        "  - `fetch_20newsgroups` : 뉴스 그룹 텍스트 자료\n",
        "  - `fetch_olivertti_faces()` : 얼굴 이미지 자료    \n",
        "  - `fetch_lfw_people()` : 얼굴 이미지 자료\n",
        "  - `fetch_lfw_pairs` : 얼굴 이미지 자료\n",
        "  - `fetch_rcv1` : 로이터 뉴스 말뭉치\n",
        "  - `fetch_mldata()` : ML 웹사이트에서 다운로드"
      ],
      "metadata": {
        "id": "BE31o9mum8MT"
      }
    },
    {
      "cell_type": "markdown",
      "source": [
        "##### [분류나 클러스터링을 위한 표본 데이터를 생성할 수 있는 데이터셋]\n",
        "1. `datasets.make_classification()` : 분류를 위한 데이터셋을 만든다. 특히 높은 상관도, 불필요한 속성 등의 노이즈 효과를 위한 데이터를 무작위로 생성한다.\n",
        "2. `datasets.make_blobs()` : 클러스터링을 위한 데이터셋을 무작위로 만든다. 군집 지정 개수에 따라 여러 가지 클러스터링을 위한 데이터셋을 쉽게 만들어준다."
      ],
      "metadata": {
        "id": "7kqOA8jjmywP"
      }
    },
    {
      "cell_type": "markdown",
      "source": [
        "##### [분류나 회귀를 위한 연습용 예제 데이터셋의 구성]\n",
        "- 일반적으로 Dictionary 형태\n",
        "- Key는 보통 data, target, target_naem, feature_names, DESCR로 구성되어 있다.\n",
        "  1. data : Feature의 데이터셋. ndarray 타입\n",
        "  2. target : 분류일 때는 Label 값, 회귀일 때는 숫자 결과값 데이터셋. ndarray 타입\n",
        "  3. target_names : 개별 Label의 이름. ndarray 혹은 list 타입\n",
        "  4. feature_names : Feature의 이름. ndarray 혹은 list 타입\n",
        "  5. DESCR : 데이터셋에 대한 설명과 각 Feature에 대한 설명. stirng 타입"
      ],
      "metadata": {
        "id": "J6hJ3i9Pn0IX"
      }
    },
    {
      "cell_type": "code",
      "source": [
        "# 붓꽃 데이터셋 생성\n",
        "from sklearn.datasets import load_iris\n",
        "\n",
        "iris_data = load_iris()\n",
        "print(type(iris_data)) # Bunch 클래스 : 파이썬의 딕셔너리 자료형과 유사"
      ],
      "metadata": {
        "colab": {
          "base_uri": "https://localhost:8080/"
        },
        "id": "LQauSUrcoozg",
        "outputId": "30df18dc-72ba-4bce-a09d-58d882d57ed5"
      },
      "execution_count": 16,
      "outputs": [
        {
          "output_type": "stream",
          "name": "stdout",
          "text": [
            "<class 'sklearn.utils.Bunch'>\n"
          ]
        }
      ]
    },
    {
      "cell_type": "code",
      "source": [
        "# iris 데이터셋의 key 값 확인\n",
        "keys = iris_data.keys()\n",
        "print('붓꽃 데이터 세트의 키들 : ', keys)"
      ],
      "metadata": {
        "colab": {
          "base_uri": "https://localhost:8080/"
        },
        "id": "7Kh5AeT0owM8",
        "outputId": "7ba90b1d-9692-4bb1-8177-bb1521aa146c"
      },
      "execution_count": 18,
      "outputs": [
        {
          "output_type": "stream",
          "name": "stdout",
          "text": [
            "붓꽃 데이터 세트의 키들 :  dict_keys(['data', 'target', 'frame', 'target_names', 'DESCR', 'feature_names', 'filename', 'data_module'])\n"
          ]
        }
      ]
    },
    {
      "cell_type": "code",
      "source": [
        "# Key가 가리키는 값 출력 : feature_names\n",
        "print('feature_names 의 type : ',type(iris_data.feature_names))\n",
        "print('feature_names 의 shape : ',len(iris_data.feature_names))\n",
        "print(iris_data.feature_names)"
      ],
      "metadata": {
        "colab": {
          "base_uri": "https://localhost:8080/"
        },
        "id": "kWjBixwlpAPO",
        "outputId": "1bae859b-0072-411f-80ee-e15ca852b0d0"
      },
      "execution_count": 21,
      "outputs": [
        {
          "output_type": "stream",
          "name": "stdout",
          "text": [
            "feature_names 의 type :  <class 'list'>\n",
            "feature_names 의 shape :  4\n",
            "['sepal length (cm)', 'sepal width (cm)', 'petal length (cm)', 'petal width (cm)']\n"
          ]
        }
      ]
    },
    {
      "cell_type": "code",
      "source": [
        "# Key가 가리키는 값 출력 : target_names\n",
        "print('target_names 의 type : ',type(iris_data.target_names))\n",
        "print('feature_names 의 shape : ',len(iris_data.target_names))\n",
        "print(iris_data.target_names)"
      ],
      "metadata": {
        "colab": {
          "base_uri": "https://localhost:8080/"
        },
        "id": "khGXFzkGpRol",
        "outputId": "93d264cb-4d71-40e7-977b-a25e41fd7248"
      },
      "execution_count": 22,
      "outputs": [
        {
          "output_type": "stream",
          "name": "stdout",
          "text": [
            "target_names 의 type :  <class 'numpy.ndarray'>\n",
            "feature_names 의 shape :  3\n",
            "['setosa' 'versicolor' 'virginica']\n"
          ]
        }
      ]
    },
    {
      "cell_type": "code",
      "source": [
        "# Key가 가리키는 값 출력 : data \n",
        "print('data 의 type : ',type(iris_data.data))\n",
        "print('data 의 shape : ',iris_data.data.shape)\n",
        "print(iris_data['data'])"
      ],
      "metadata": {
        "colab": {
          "base_uri": "https://localhost:8080/"
        },
        "id": "ZJsumZyfpZDA",
        "outputId": "d5534a13-169d-4a55-f04f-aa7d916c8fbe"
      },
      "execution_count": 23,
      "outputs": [
        {
          "output_type": "stream",
          "name": "stdout",
          "text": [
            "data 의 type :  <class 'numpy.ndarray'>\n",
            "data 의 shape :  (150, 4)\n",
            "[[5.1 3.5 1.4 0.2]\n",
            " [4.9 3.  1.4 0.2]\n",
            " [4.7 3.2 1.3 0.2]\n",
            " [4.6 3.1 1.5 0.2]\n",
            " [5.  3.6 1.4 0.2]\n",
            " [5.4 3.9 1.7 0.4]\n",
            " [4.6 3.4 1.4 0.3]\n",
            " [5.  3.4 1.5 0.2]\n",
            " [4.4 2.9 1.4 0.2]\n",
            " [4.9 3.1 1.5 0.1]\n",
            " [5.4 3.7 1.5 0.2]\n",
            " [4.8 3.4 1.6 0.2]\n",
            " [4.8 3.  1.4 0.1]\n",
            " [4.3 3.  1.1 0.1]\n",
            " [5.8 4.  1.2 0.2]\n",
            " [5.7 4.4 1.5 0.4]\n",
            " [5.4 3.9 1.3 0.4]\n",
            " [5.1 3.5 1.4 0.3]\n",
            " [5.7 3.8 1.7 0.3]\n",
            " [5.1 3.8 1.5 0.3]\n",
            " [5.4 3.4 1.7 0.2]\n",
            " [5.1 3.7 1.5 0.4]\n",
            " [4.6 3.6 1.  0.2]\n",
            " [5.1 3.3 1.7 0.5]\n",
            " [4.8 3.4 1.9 0.2]\n",
            " [5.  3.  1.6 0.2]\n",
            " [5.  3.4 1.6 0.4]\n",
            " [5.2 3.5 1.5 0.2]\n",
            " [5.2 3.4 1.4 0.2]\n",
            " [4.7 3.2 1.6 0.2]\n",
            " [4.8 3.1 1.6 0.2]\n",
            " [5.4 3.4 1.5 0.4]\n",
            " [5.2 4.1 1.5 0.1]\n",
            " [5.5 4.2 1.4 0.2]\n",
            " [4.9 3.1 1.5 0.2]\n",
            " [5.  3.2 1.2 0.2]\n",
            " [5.5 3.5 1.3 0.2]\n",
            " [4.9 3.6 1.4 0.1]\n",
            " [4.4 3.  1.3 0.2]\n",
            " [5.1 3.4 1.5 0.2]\n",
            " [5.  3.5 1.3 0.3]\n",
            " [4.5 2.3 1.3 0.3]\n",
            " [4.4 3.2 1.3 0.2]\n",
            " [5.  3.5 1.6 0.6]\n",
            " [5.1 3.8 1.9 0.4]\n",
            " [4.8 3.  1.4 0.3]\n",
            " [5.1 3.8 1.6 0.2]\n",
            " [4.6 3.2 1.4 0.2]\n",
            " [5.3 3.7 1.5 0.2]\n",
            " [5.  3.3 1.4 0.2]\n",
            " [7.  3.2 4.7 1.4]\n",
            " [6.4 3.2 4.5 1.5]\n",
            " [6.9 3.1 4.9 1.5]\n",
            " [5.5 2.3 4.  1.3]\n",
            " [6.5 2.8 4.6 1.5]\n",
            " [5.7 2.8 4.5 1.3]\n",
            " [6.3 3.3 4.7 1.6]\n",
            " [4.9 2.4 3.3 1. ]\n",
            " [6.6 2.9 4.6 1.3]\n",
            " [5.2 2.7 3.9 1.4]\n",
            " [5.  2.  3.5 1. ]\n",
            " [5.9 3.  4.2 1.5]\n",
            " [6.  2.2 4.  1. ]\n",
            " [6.1 2.9 4.7 1.4]\n",
            " [5.6 2.9 3.6 1.3]\n",
            " [6.7 3.1 4.4 1.4]\n",
            " [5.6 3.  4.5 1.5]\n",
            " [5.8 2.7 4.1 1. ]\n",
            " [6.2 2.2 4.5 1.5]\n",
            " [5.6 2.5 3.9 1.1]\n",
            " [5.9 3.2 4.8 1.8]\n",
            " [6.1 2.8 4.  1.3]\n",
            " [6.3 2.5 4.9 1.5]\n",
            " [6.1 2.8 4.7 1.2]\n",
            " [6.4 2.9 4.3 1.3]\n",
            " [6.6 3.  4.4 1.4]\n",
            " [6.8 2.8 4.8 1.4]\n",
            " [6.7 3.  5.  1.7]\n",
            " [6.  2.9 4.5 1.5]\n",
            " [5.7 2.6 3.5 1. ]\n",
            " [5.5 2.4 3.8 1.1]\n",
            " [5.5 2.4 3.7 1. ]\n",
            " [5.8 2.7 3.9 1.2]\n",
            " [6.  2.7 5.1 1.6]\n",
            " [5.4 3.  4.5 1.5]\n",
            " [6.  3.4 4.5 1.6]\n",
            " [6.7 3.1 4.7 1.5]\n",
            " [6.3 2.3 4.4 1.3]\n",
            " [5.6 3.  4.1 1.3]\n",
            " [5.5 2.5 4.  1.3]\n",
            " [5.5 2.6 4.4 1.2]\n",
            " [6.1 3.  4.6 1.4]\n",
            " [5.8 2.6 4.  1.2]\n",
            " [5.  2.3 3.3 1. ]\n",
            " [5.6 2.7 4.2 1.3]\n",
            " [5.7 3.  4.2 1.2]\n",
            " [5.7 2.9 4.2 1.3]\n",
            " [6.2 2.9 4.3 1.3]\n",
            " [5.1 2.5 3.  1.1]\n",
            " [5.7 2.8 4.1 1.3]\n",
            " [6.3 3.3 6.  2.5]\n",
            " [5.8 2.7 5.1 1.9]\n",
            " [7.1 3.  5.9 2.1]\n",
            " [6.3 2.9 5.6 1.8]\n",
            " [6.5 3.  5.8 2.2]\n",
            " [7.6 3.  6.6 2.1]\n",
            " [4.9 2.5 4.5 1.7]\n",
            " [7.3 2.9 6.3 1.8]\n",
            " [6.7 2.5 5.8 1.8]\n",
            " [7.2 3.6 6.1 2.5]\n",
            " [6.5 3.2 5.1 2. ]\n",
            " [6.4 2.7 5.3 1.9]\n",
            " [6.8 3.  5.5 2.1]\n",
            " [5.7 2.5 5.  2. ]\n",
            " [5.8 2.8 5.1 2.4]\n",
            " [6.4 3.2 5.3 2.3]\n",
            " [6.5 3.  5.5 1.8]\n",
            " [7.7 3.8 6.7 2.2]\n",
            " [7.7 2.6 6.9 2.3]\n",
            " [6.  2.2 5.  1.5]\n",
            " [6.9 3.2 5.7 2.3]\n",
            " [5.6 2.8 4.9 2. ]\n",
            " [7.7 2.8 6.7 2. ]\n",
            " [6.3 2.7 4.9 1.8]\n",
            " [6.7 3.3 5.7 2.1]\n",
            " [7.2 3.2 6.  1.8]\n",
            " [6.2 2.8 4.8 1.8]\n",
            " [6.1 3.  4.9 1.8]\n",
            " [6.4 2.8 5.6 2.1]\n",
            " [7.2 3.  5.8 1.6]\n",
            " [7.4 2.8 6.1 1.9]\n",
            " [7.9 3.8 6.4 2. ]\n",
            " [6.4 2.8 5.6 2.2]\n",
            " [6.3 2.8 5.1 1.5]\n",
            " [6.1 2.6 5.6 1.4]\n",
            " [7.7 3.  6.1 2.3]\n",
            " [6.3 3.4 5.6 2.4]\n",
            " [6.4 3.1 5.5 1.8]\n",
            " [6.  3.  4.8 1.8]\n",
            " [6.9 3.1 5.4 2.1]\n",
            " [6.7 3.1 5.6 2.4]\n",
            " [6.9 3.1 5.1 2.3]\n",
            " [5.8 2.7 5.1 1.9]\n",
            " [6.8 3.2 5.9 2.3]\n",
            " [6.7 3.3 5.7 2.5]\n",
            " [6.7 3.  5.2 2.3]\n",
            " [6.3 2.5 5.  1.9]\n",
            " [6.5 3.  5.2 2. ]\n",
            " [6.2 3.4 5.4 2.3]\n",
            " [5.9 3.  5.1 1.8]]\n"
          ]
        }
      ]
    },
    {
      "cell_type": "code",
      "source": [
        "# Key가 가리키는 값 출력 : target\n",
        "print('target 의 type : ',type(iris_data.target))\n",
        "print('target 의 shape : ',iris_data.target.shape)\n",
        "print(iris_data.target)"
      ],
      "metadata": {
        "colab": {
          "base_uri": "https://localhost:8080/"
        },
        "id": "LeB4RCbZpZ9r",
        "outputId": "cd5ca606-a9ef-4820-ba15-c6527cd0a850"
      },
      "execution_count": 24,
      "outputs": [
        {
          "output_type": "stream",
          "name": "stdout",
          "text": [
            "target 의 type :  <class 'numpy.ndarray'>\n",
            "target 의 shape :  (150,)\n",
            "[0 0 0 0 0 0 0 0 0 0 0 0 0 0 0 0 0 0 0 0 0 0 0 0 0 0 0 0 0 0 0 0 0 0 0 0 0\n",
            " 0 0 0 0 0 0 0 0 0 0 0 0 0 1 1 1 1 1 1 1 1 1 1 1 1 1 1 1 1 1 1 1 1 1 1 1 1\n",
            " 1 1 1 1 1 1 1 1 1 1 1 1 1 1 1 1 1 1 1 1 1 1 1 1 1 1 2 2 2 2 2 2 2 2 2 2 2\n",
            " 2 2 2 2 2 2 2 2 2 2 2 2 2 2 2 2 2 2 2 2 2 2 2 2 2 2 2 2 2 2 2 2 2 2 2 2 2\n",
            " 2 2]\n"
          ]
        }
      ]
    },
    {
      "cell_type": "markdown",
      "source": [
        "## 04 Model Selection 모듈 소개\n",
        "___\n",
        "- 사이킷런의 model_selection 모듈은 학습 데이터와 테스트 데이터 세트를 분리하거나 교차 검증 분할, 평가, Estimator의 하이퍼 파라미터를 튜닝하기 위한 다양한 함수와 클래스를 제공한다."
      ],
      "metadata": {
        "id": "0aoF-SLJvl29"
      }
    },
    {
      "cell_type": "markdown",
      "source": [
        "#### | 학습/테스트 데이터셋 분리 - train_test_split()\n",
        "___\n",
        "- 학습과 예측을 동일한 데이터셋으로 수행했을 때의 문제점 \n",
        "  * 정확도가 100%\n",
        "  * 이미 학습한 데이터셋, 즉 이미 답을 알고 있는 데이터셋을 기반으로 예측한 것은 예측을 수행하는 의미가 없음"
      ],
      "metadata": {
        "id": "ewzsie6gv_3w"
      }
    },
    {
      "cell_type": "code",
      "source": [
        "# import method from module\n",
        "from sklearn.datasets import load_iris\n",
        "from sklearn.tree import DecisionTreeClassifier\n",
        "from sklearn.metrics import accuracy_score"
      ],
      "metadata": {
        "id": "ZJtsye-bwpqP"
      },
      "execution_count": 25,
      "outputs": []
    },
    {
      "cell_type": "code",
      "source": [
        "# 모델 학습\n",
        "iris = load_iris()\n",
        "dt_clf = DecisionTreeClassifier()\n",
        "train_data = iris.data\n",
        "train_label = iris.target\n",
        "dt_clf.fit(train_data, train_label)"
      ],
      "metadata": {
        "colab": {
          "base_uri": "https://localhost:8080/"
        },
        "id": "Vsg8p2LmwvAu",
        "outputId": "2a90414c-2a0c-4e27-9d16-98a681ce68a1"
      },
      "execution_count": 26,
      "outputs": [
        {
          "output_type": "execute_result",
          "data": {
            "text/plain": [
              "DecisionTreeClassifier()"
            ]
          },
          "metadata": {},
          "execution_count": 26
        }
      ]
    },
    {
      "cell_type": "code",
      "source": [
        "# 예측 수행 : 학습 데이터셋 사용\n",
        "pred = dt_clf.predict(train_data)\n",
        "print('예측 정확도:',accuracy_score(train_label,pred))"
      ],
      "metadata": {
        "colab": {
          "base_uri": "https://localhost:8080/"
        },
        "id": "PkYIo57hwySe",
        "outputId": "60208c4d-3718-467f-e834-d573c82de968"
      },
      "execution_count": 27,
      "outputs": [
        {
          "output_type": "stream",
          "name": "stdout",
          "text": [
            "예측 정확도: 1.0\n"
          ]
        }
      ]
    },
    {
      "cell_type": "markdown",
      "source": [
        "- `train_test_split()`를 이용해 붓꽃 데이터셋 분리 \n",
        "  * `test_size `: 전체 데이터에서 테스트 데이터셋의 크기를 얼마로 샘플링할 것인지 결정한다. default는 0.25\n",
        "  * `train_size` : 전체 데이터에서 학습용 데이터셋의 크기를 얼마로 샘플링할 것인지 결정한다. test_size를 주로 사용하고, 해당 파라미터는 잘 사용하지 않는다.\n",
        "  * `shuffle` : 데이터를 분리하기 전에 데이터를 미리 섞을지 결정한다. 데이터를 분산시켜 좀 더 효율적인 학습 및 테스트 데이터셋을 만들 수 있다. default는 True.\n",
        "  * `random_state` : 동일한 학습/테스트 데이터셋을 생성하기 위해 주어지는 난수 값. 설정하지 않으면 수행할 때마다 다른 학습/테스트 용 데이터셋을 생성\n",
        "- `train_test_split()`의 결과값은 Tuple 형태로, 학습용 데이터의 Feautre 데이터셋, 테스트용 데이터의 Feautre 데이터셋, 학습용 데이터의 Label 데이터셋, 테스트용 데이터의 Label 데이터셋이 순서대로 반환된다.\n",
        "- 학습용 데이터의 양을 일정 수준 이상으로 보장하는 것도 중요하지만, 다양한 테스트용 데이터를 통해 예측 성능을 평가하는 것도 중요하다."
      ],
      "metadata": {
        "id": "3L5qaFxZxNSf"
      }
    },
    {
      "cell_type": "code",
      "source": [
        "# import method from module\n",
        "from sklearn.tree import DecisionTreeClassifier\n",
        "from sklearn.metrics import accuracy_score\n",
        "from sklearn.datasets import load_iris\n",
        "from sklearn.model_selection import train_test_split"
      ],
      "metadata": {
        "id": "t5xdbhAFxf-Z"
      },
      "execution_count": 28,
      "outputs": []
    },
    {
      "cell_type": "code",
      "source": [
        "# 데이터셋 및 모델 설정\n",
        "dt_clf = DecisionTreeClassifier( )\n",
        "iris_data = load_iris()\n",
        "\n",
        "# 데이터셋 분리 : 학습용 데이터 70%, 테스트용 데이터 30%\n",
        "X_train, X_test, y_train, y_test = train_test_split(iris_data.data, iris_data.target, \n",
        "                                                    test_size=0.3, random_state=121)"
      ],
      "metadata": {
        "id": "zsO-PsB5xjMG"
      },
      "execution_count": 29,
      "outputs": []
    },
    {
      "cell_type": "code",
      "source": [
        "# 모델 학습\n",
        "dt_clf.fit(X_train, y_train)\n",
        "pred = dt_clf.predict(X_test)\n",
        "\n",
        "# 예측 정확도 평가\n",
        "print('예측 정확도: {0:.4f}'.format(accuracy_score(y_test,pred)))"
      ],
      "metadata": {
        "colab": {
          "base_uri": "https://localhost:8080/"
        },
        "id": "66suXT2Jy1vD",
        "outputId": "b0e3dfcc-331c-40f5-acb5-78d44aa37267"
      },
      "execution_count": 30,
      "outputs": [
        {
          "output_type": "stream",
          "name": "stdout",
          "text": [
            "예측 정확도: 0.9556\n"
          ]
        }
      ]
    },
    {
      "cell_type": "markdown",
      "source": [
        "#### | 교차 검증\n",
        "___\n",
        "- 과적합(Overfitting)\n",
        "  + 모델이 학습 데이터에만 과도하게 최적화 되어, 실제 예측을 다른 데이터로 수행할 경우, 예측 성능이 과도하게 떨어지는 현상\n",
        "  + 고정된 학습 데이터와 테스트 데이터로 평가하다 보면 테스트 데이터에만 최적의 성능을 발휘 할 수 있도록 편향되게 모델을 유도하고, 해당 테스트 데이터에만 과접합되는 학습 모델이 만들어진다.\n",
        "  + 이러한 과적합 문제를 개선하기 위해 **교차 검증**을 이용한다.\n",
        "- 교차 검증 : 다양한 학습과 검증 데이터셋에 대해 알고리즘 학습과 평가를 수행하는 것\n",
        "  + 특정 ML 알고리즘에서 최적으로 동작할 수 있도록 데이터를 선별하여 학습할 때 발생하는 성능 저하 문제를 해결하는 것이 목적이다.\n",
        "  + 별도의 여러 세트로 구성된 학습 데이터셋과 검증 데이터셋을 이용하여 학습과 평가를 수행한다.\n",
        "- 대부분의 ML 모델의 성능 평가는 **교차 검증**을 기반으로 1차 평가를 한 뒤, 최종적으로 테스트 데이터셋에 적용해 평가한다.\n",
        "- ML에 사용되는 데이터셋을 세분화하여 학습, 검증, 테스트 데이터셋으로 나눈다."
      ],
      "metadata": {
        "id": "X6IG3e32zJkn"
      }
    },
    {
      "cell_type": "markdown",
      "source": [
        "##### [K 폴드 교차 검증]\n",
        "___\n",
        "- 보편적으로 사용되는 교차 검증 기법\n",
        "- K개의 데이터 폴드 세트를 만들어, 각 폴드 세트에 학습과 검증 평가를 K번만큼 반복적으로 수행하는 방법\n",
        "  1. 데이터셋을 K등분한다.\n",
        "  2. 첫 번째 반복에서는 1~(K-1)번째 폴드를 학습 데이터셋으로 마지막 K번째 폴드를 검증 데이터셋으로 설정한 후, 학습을 수행하고 검증 데이터셋을 이용해 평가를 수행한다.\n",
        "  3. 두 번째 반복에서는 1~(K-2), K번째 폴드를 학습 데이터로, (K-1)번째 폴드를 검증 데이터셋으로 모델 학습, 평가를 수행한다.\n",
        "  4. 이후 반복에서도 학습 데이터셋과 검증 데이터셋을 점진적으로 변경하면서 K번째 반복을 수행한다."
      ],
      "metadata": {
        "id": "TGRSUrA63cex"
      }
    },
    {
      "cell_type": "code",
      "source": [
        "# import method from module\n",
        "from sklearn.tree import DecisionTreeClassifier\n",
        "from sklearn.metrics import accuracy_score\n",
        "from sklearn.model_selection import KFold"
      ],
      "metadata": {
        "id": "Ae1N46Pt4ZFv"
      },
      "execution_count": 33,
      "outputs": []
    },
    {
      "cell_type": "code",
      "source": [
        "# 붓꽃 데이터와 DecisionTreeClassifier 생성\n",
        "iris = load_iris()\n",
        "features = iris.data\n",
        "label = iris.target\n",
        "dt_clf = DecisionTreeClassifier(random_state=156)"
      ],
      "metadata": {
        "id": "ykiLoeNc4jgu"
      },
      "execution_count": 34,
      "outputs": []
    },
    {
      "cell_type": "code",
      "source": [
        "# 5개의 폴드 세트로 분리하는 KFold 객체 생성\n",
        "kfold = KFold(n_splits=5)\n",
        "\n",
        "# 폴드 세트별 정확도를 담을 리스트 객체 생성\n",
        "cv_accuracy = []"
      ],
      "metadata": {
        "id": "XxPURcBY4qM_"
      },
      "execution_count": 36,
      "outputs": []
    },
    {
      "cell_type": "code",
      "source": [
        "# 붓꽃 데이터의 크기 확인\n",
        "print('붓꽃 데이터 세트 크기:',features.shape[0])"
      ],
      "metadata": {
        "colab": {
          "base_uri": "https://localhost:8080/"
        },
        "id": "BODWTGgY45rY",
        "outputId": "fafdf083-da34-40c2-ba63-01a837096d58"
      },
      "execution_count": 37,
      "outputs": [
        {
          "output_type": "stream",
          "name": "stdout",
          "text": [
            "붓꽃 데이터 세트 크기: 150\n"
          ]
        }
      ]
    },
    {
      "cell_type": "markdown",
      "source": [
        "- 전체 데이터가 모두 150개\n",
        "- 따라서 학습용 데이터셋은 이 중 4/5인 120개, 검증 테스트 데이터셋은 1/5인 30개로 분할"
      ],
      "metadata": {
        "id": "cjd9oS6i5GsH"
      }
    },
    {
      "cell_type": "code",
      "source": [
        "n_iter = 0\n",
        "\n",
        "# KFold 객체의 split( ) 호출하면 \n",
        "# 폴드 별 학습용, 검증용 테스트의 Row 인덱스를 array로 반환  \n",
        "for train_index, test_index  in kfold.split(features):\n",
        "\n",
        "    # kfold.split( )으로 반환된 인덱스를 이용하여 학습용, 검증용 테스트 데이터 추출\n",
        "    X_train, X_test = features[train_index], features[test_index]\n",
        "    y_train, y_test = label[train_index], label[test_index]\n",
        "\n",
        "    #학습 및 예측 \n",
        "    dt_clf.fit(X_train , y_train)    \n",
        "    pred = dt_clf.predict(X_test)\n",
        "    n_iter += 1\n",
        "\n",
        "    # 반복 시 마다 정확도 측정 \n",
        "    accuracy = np.round(accuracy_score(y_test,pred), 4)\n",
        "    train_size = X_train.shape[0]\n",
        "    test_size = X_test.shape[0]\n",
        "\n",
        "    print('#{0} 교차 검증 정확도 :{1}, 학습 데이터 크기: {2}, 검증 데이터 크기: {3}'\n",
        "          .format(n_iter, accuracy, train_size, test_size))\n",
        "    print('{0} 검증 세트 인덱스:{1} \\n'.format(n_iter,test_index))\n",
        "    cv_accuracy.append(accuracy)"
      ],
      "metadata": {
        "colab": {
          "base_uri": "https://localhost:8080/"
        },
        "id": "hk7R_0wF5bwX",
        "outputId": "b448a9e2-186a-401d-c81e-fd7685acf3e8"
      },
      "execution_count": 47,
      "outputs": [
        {
          "output_type": "stream",
          "name": "stdout",
          "text": [
            "#1 교차 검증 정확도 :1.0, 학습 데이터 크기: 120, 검증 데이터 크기: 30\n",
            "1 검증 세트 인덱스:[ 0  1  2  3  4  5  6  7  8  9 10 11 12 13 14 15 16 17 18 19 20 21 22 23\n",
            " 24 25 26 27 28 29] \n",
            "\n",
            "#2 교차 검증 정확도 :0.9667, 학습 데이터 크기: 120, 검증 데이터 크기: 30\n",
            "2 검증 세트 인덱스:[30 31 32 33 34 35 36 37 38 39 40 41 42 43 44 45 46 47 48 49 50 51 52 53\n",
            " 54 55 56 57 58 59] \n",
            "\n",
            "#3 교차 검증 정확도 :0.8667, 학습 데이터 크기: 120, 검증 데이터 크기: 30\n",
            "3 검증 세트 인덱스:[60 61 62 63 64 65 66 67 68 69 70 71 72 73 74 75 76 77 78 79 80 81 82 83\n",
            " 84 85 86 87 88 89] \n",
            "\n",
            "#4 교차 검증 정확도 :0.9333, 학습 데이터 크기: 120, 검증 데이터 크기: 30\n",
            "4 검증 세트 인덱스:[ 90  91  92  93  94  95  96  97  98  99 100 101 102 103 104 105 106 107\n",
            " 108 109 110 111 112 113 114 115 116 117 118 119] \n",
            "\n",
            "#5 교차 검증 정확도 :0.7333, 학습 데이터 크기: 120, 검증 데이터 크기: 30\n",
            "5 검증 세트 인덱스:[120 121 122 123 124 125 126 127 128 129 130 131 132 133 134 135 136 137\n",
            " 138 139 140 141 142 143 144 145 146 147 148 149] \n",
            "\n"
          ]
        }
      ]
    },
    {
      "cell_type": "markdown",
      "source": [
        "- 첫 번째 고차 검증에서는 0~29를 검증 데이터셋 인덱스를 생성해 검증 데이터셋 추출\n",
        "- 두 번째 고차 검증에서는 30~59를 검증 데이터셋 인덱스를 생성해 검증 데이터셋 추출\n",
        "- 세 번째 고차 검증에서는 60~89를 검증 데이터셋 인덱스를 생성해 검증 데이터셋 추출\n",
        "- 네 번째 고차 검증에서는 90~119를 검증 데이터셋 인덱스를 생성해 검증 데이터셋 추출\n",
        "- 다섯 번째 고차 검증에서는 120~149를 검증 데이터셋 인덱스를 생성해 검증 데이터셋 추출\n"
      ],
      "metadata": {
        "id": "5Z6tkDUW50dG"
      }
    },
    {
      "cell_type": "code",
      "source": [
        "# 개별 iteration별 정확도를 합하여 평균 정확도 계산 \n",
        "print('## 평균 검증 정확도 : ', np.mean(cv_accuracy))"
      ],
      "metadata": {
        "colab": {
          "base_uri": "https://localhost:8080/"
        },
        "id": "PmkqseMh5pr-",
        "outputId": "8ad5b25c-9fc4-4a32-abb2-f6998c5418d9"
      },
      "execution_count": 48,
      "outputs": [
        {
          "output_type": "stream",
          "name": "stdout",
          "text": [
            "## 평균 검증 정확도 :  0.9\n"
          ]
        }
      ]
    },
    {
      "cell_type": "markdown",
      "source": [
        "##### [Stratified K 폴드]\n",
        "___\n",
        "- 불균형한(imbalanced) 분포도를 가진 Label 데이터셋을 위한 K 폴드 방식\n",
        "  - 불균형한(imbalanced) 분포도 :  특정 Label 값이 특이하게 많거나 매우 적어서 값의 분포가 한 쪽으로 치우치는 것\n",
        "- Label값이 불균형한 분포도를 가지면, K 폴드로 Random하게 학습/검증 데이터셋의 인덱스를 고르더라도 Label 값의 비율을 제대로 반영하지 못하는 경우가 빈번하게 발생한다.\n",
        "- 따라서 원본 데이터와 유사한 Label 값의 분포를 학습/검증 데이터셋에서도 유지하는 게 중요하다.\n",
        "- 단, 회귀 알고리즘에서 Label 값은 이산형이 아닌 연속형이기 때문에 Label별로 분포를 정하는 의미가 없어, Regression에서는 Stratified K 폴드가 지원되지 않는다."
      ],
      "metadata": {
        "id": "Dw9pQ2xH6p6n"
      }
    },
    {
      "cell_type": "code",
      "source": [
        "# 불균형한(imbalanced) 분포도를 가진 Label 데이터셋에 K 폴드를 적용하면 생기는 문제점 확인\n",
        "\n",
        "# 붓꽃 데이터 데이터셋 생성\n",
        "iris = load_iris()\n",
        "\n",
        "# DataFrame으로 변환\n",
        "iris_df = pd.DataFrame(data=iris.data, columns=iris.feature_names)\n",
        "iris_df['label']=iris.target\n",
        "\n",
        "# Label 값의 분포 확인\n",
        "iris_df['label'].value_counts()"
      ],
      "metadata": {
        "colab": {
          "base_uri": "https://localhost:8080/"
        },
        "id": "WruiV8ez70uP",
        "outputId": "f371e136-eab3-487b-8a5f-51a712b01ac7"
      },
      "execution_count": 50,
      "outputs": [
        {
          "output_type": "execute_result",
          "data": {
            "text/plain": [
              "0    50\n",
              "1    50\n",
              "2    50\n",
              "Name: label, dtype: int64"
            ]
          },
          "metadata": {},
          "execution_count": 50
        }
      ]
    },
    {
      "cell_type": "code",
      "source": [
        "# 문제가 발생하는 현상 도출하기 위해 3개의 폴드 세트를 KFold로 생성\n",
        "kfold = KFold(n_splits=3)"
      ],
      "metadata": {
        "id": "ssjrY49G8IpA"
      },
      "execution_count": 51,
      "outputs": []
    },
    {
      "cell_type": "code",
      "source": [
        "n_iter =0\n",
        "\n",
        "for train_index, test_index  in kfold.split(iris_df):\n",
        "    n_iter += 1\n",
        "    label_train= iris_df['label'].iloc[train_index]\n",
        "    label_test= iris_df['label'].iloc[test_index]\n",
        "    # 반복할 때마다 달라지는 학습/테스트 용 데이터 Row 인덱스 번호 반환\n",
        "    print('## 교차 검증 : {0}'.format(n_iter))\n",
        "    print('학습 레이블 데이터 분포 :\\n', label_train.value_counts())\n",
        "    print('검증 레이블 데이터 분포 :\\n', label_test.value_counts())\n",
        "    print()"
      ],
      "metadata": {
        "colab": {
          "base_uri": "https://localhost:8080/"
        },
        "id": "BFfcdFpi8XQo",
        "outputId": "d484c2e6-a0de-42c3-8488-9e067acb6487"
      },
      "execution_count": 55,
      "outputs": [
        {
          "output_type": "stream",
          "name": "stdout",
          "text": [
            "## 교차 검증 : 1\n",
            "학습 레이블 데이터 분포 :\n",
            " 1    50\n",
            "2    50\n",
            "Name: label, dtype: int64\n",
            "검증 레이블 데이터 분포 :\n",
            " 0    50\n",
            "Name: label, dtype: int64\n",
            "\n",
            "## 교차 검증 : 2\n",
            "학습 레이블 데이터 분포 :\n",
            " 0    50\n",
            "2    50\n",
            "Name: label, dtype: int64\n",
            "검증 레이블 데이터 분포 :\n",
            " 1    50\n",
            "Name: label, dtype: int64\n",
            "\n",
            "## 교차 검증 : 3\n",
            "학습 레이블 데이터 분포 :\n",
            " 0    50\n",
            "1    50\n",
            "Name: label, dtype: int64\n",
            "검증 레이블 데이터 분포 :\n",
            " 2    50\n",
            "Name: label, dtype: int64\n",
            "\n"
          ]
        }
      ]
    },
    {
      "cell_type": "markdown",
      "source": [
        "- 교차 검증 시마다 3개의 폴드 세트로 만들어지는 학습 Label과 검증 Label이 완전히 다른 값으로 추출되었다.\n",
        "1. 첫 번째 교차 검증에서는 학습 Label의 1, 2 값이 각각 50개씩 추출되었다.\n",
        "2. 검증 Label 값은 0이 50개 추출되었다.\n",
        "3. 학습 Label에는 1, 2에 대한 데이터밖에 없으므로, 0의 경우에 대해 전혀 학습하지 못한다.\n",
        "4. 검증 예측 정확도가 0으로만 나온다."
      ],
      "metadata": {
        "id": "bDD-STVe8xyR"
      }
    },
    {
      "cell_type": "markdown",
      "source": [
        "- StratifiedKFold는 이렇게 KFold로 분활된 Label 데이터셋이 전체 Label값의 분포를 반영하지 못하는 문제를 해결한다.\n",
        "- 전체적인 사용 방식은 비슷하나, Stratified K 폴드는 Label의 데이터 분포에 따라 학습/검증 데이터를 나누기 때문에 `split()` 메서드의 인자로 Feature 데이터셋과 Label 데이터셋이 모두 필요하다."
      ],
      "metadata": {
        "id": "WZqRLz6h9wNy"
      }
    },
    {
      "cell_type": "code",
      "source": [
        "# Stratified K 폴드\n",
        "# Import necessary module\n",
        "from sklearn.model_selection import StratifiedKFold\n",
        "\n",
        "# 폴드 세트를 StratifiedKFold로 생성\n",
        "skf = StratifiedKFold(n_splits=3)\n",
        "\n",
        "n_iter=0\n",
        "\n",
        "for train_index, test_index in skf.split(iris_df, iris_df['label']):\n",
        "    n_iter += 1\n",
        "    label_train= iris_df['label'].iloc[train_index]\n",
        "    label_test= iris_df['label'].iloc[test_index]\n",
        "    print('## 교차 검증 : {0}'.format(n_iter))\n",
        "    print('학습 레이블 데이터 분포 : \\n', label_train.value_counts())\n",
        "    print('검증 레이블 데이터 분포 : \\n', label_test.value_counts())\n",
        "    print()"
      ],
      "metadata": {
        "colab": {
          "base_uri": "https://localhost:8080/"
        },
        "id": "WABfQ6lF-XUZ",
        "outputId": "b4e68b3e-5595-4adc-f544-a16eee5c4870"
      },
      "execution_count": 57,
      "outputs": [
        {
          "output_type": "stream",
          "name": "stdout",
          "text": [
            "## 교차 검증 : 1\n",
            "학습 레이블 데이터 분포 : \n",
            " 2    34\n",
            "0    33\n",
            "1    33\n",
            "Name: label, dtype: int64\n",
            "검증 레이블 데이터 분포 : \n",
            " 0    17\n",
            "1    17\n",
            "2    16\n",
            "Name: label, dtype: int64\n",
            "\n",
            "## 교차 검증 : 2\n",
            "학습 레이블 데이터 분포 : \n",
            " 1    34\n",
            "0    33\n",
            "2    33\n",
            "Name: label, dtype: int64\n",
            "검증 레이블 데이터 분포 : \n",
            " 0    17\n",
            "2    17\n",
            "1    16\n",
            "Name: label, dtype: int64\n",
            "\n",
            "## 교차 검증 : 3\n",
            "학습 레이블 데이터 분포 : \n",
            " 0    34\n",
            "1    33\n",
            "2    33\n",
            "Name: label, dtype: int64\n",
            "검증 레이블 데이터 분포 : \n",
            " 1    17\n",
            "2    17\n",
            "0    16\n",
            "Name: label, dtype: int64\n",
            "\n"
          ]
        }
      ]
    },
    {
      "cell_type": "markdown",
      "source": [
        "- 학습 Label과 검증 Label 데이터 값의 분포도가 동일하게 할당되었다.\n",
        "1. 첫 번째 교차 검증에서는 학습 Label의 0, 1, 2 값이 각각 33개씩 추출되었다.\n",
        "2. 검증 Label 값의 0, 1, 2 값이 17개 추출되었다.\n"
      ],
      "metadata": {
        "id": "f5EdUbkN-9RL"
      }
    },
    {
      "cell_type": "code",
      "source": [
        "# DecisionTreeClassifier 생성\n",
        "dt_clf = DecisionTreeClassifier(random_state=156)\n",
        "\n",
        "# 폴드 세트를 StratifiedKFold로 생성\n",
        "skfold = StratifiedKFold(n_splits=3)\n",
        "\n",
        "n_iter = 0 # Iterator\n",
        "cv_accuracy = [] # 폴드 세트별 정확도를 담을 리스트 객체 생성\n",
        "\n",
        "# StratifiedKFold의 split( ) 호출시 반드시 Label 데이터셋도 추가 입력 필요  \n",
        "for train_index, test_index  in skfold.split(features, label):\n",
        "    # split( )으로 반환된 인덱스를 이용하여 학습용, 검증용 테스트 데이터 추출\n",
        "    X_train, X_test = features[train_index], features[test_index]\n",
        "    y_train, y_test = label[train_index], label[test_index]\n",
        "\n",
        "    #학습 및 예측 \n",
        "    dt_clf.fit(X_train , y_train)    \n",
        "    pred = dt_clf.predict(X_test)\n",
        "\n",
        "    # 반복 시 마다 정확도 측정 \n",
        "    n_iter += 1\n",
        "    accuracy = np.round(accuracy_score(y_test,pred), 4)\n",
        "    train_size = X_train.shape[0]\n",
        "    test_size = X_test.shape[0]\n",
        "    print('\\n#{0} 교차 검증 정확도 :{1}, 학습 데이터 크기: {2}, 검증 데이터 크기: {3}'\n",
        "          .format(n_iter, accuracy, train_size, test_size))\n",
        "    print('#{0} 검증 세트 인덱스:{1}'.format(n_iter,test_index))\n",
        "    cv_accuracy.append(accuracy)"
      ],
      "metadata": {
        "colab": {
          "base_uri": "https://localhost:8080/"
        },
        "id": "t_M0H1vP_Sln",
        "outputId": "1032284c-d3d5-48c3-c1f5-d6bf0f9a7e08"
      },
      "execution_count": 58,
      "outputs": [
        {
          "output_type": "stream",
          "name": "stdout",
          "text": [
            "\n",
            "#1 교차 검증 정확도 :0.98, 학습 데이터 크기: 100, 검증 데이터 크기: 50\n",
            "#1 검증 세트 인덱스:[  0   1   2   3   4   5   6   7   8   9  10  11  12  13  14  15  16  50\n",
            "  51  52  53  54  55  56  57  58  59  60  61  62  63  64  65  66 100 101\n",
            " 102 103 104 105 106 107 108 109 110 111 112 113 114 115]\n",
            "\n",
            "#2 교차 검증 정확도 :0.94, 학습 데이터 크기: 100, 검증 데이터 크기: 50\n",
            "#2 검증 세트 인덱스:[ 17  18  19  20  21  22  23  24  25  26  27  28  29  30  31  32  33  67\n",
            "  68  69  70  71  72  73  74  75  76  77  78  79  80  81  82 116 117 118\n",
            " 119 120 121 122 123 124 125 126 127 128 129 130 131 132]\n",
            "\n",
            "#3 교차 검증 정확도 :0.98, 학습 데이터 크기: 100, 검증 데이터 크기: 50\n",
            "#3 검증 세트 인덱스:[ 34  35  36  37  38  39  40  41  42  43  44  45  46  47  48  49  83  84\n",
            "  85  86  87  88  89  90  91  92  93  94  95  96  97  98  99 133 134 135\n",
            " 136 137 138 139 140 141 142 143 144 145 146 147 148 149]\n"
          ]
        }
      ]
    },
    {
      "cell_type": "code",
      "source": [
        "# 교차 검증별 정확도 및 평균 정확도 계산 \n",
        "print('## 교차 검증별 정확도:', np.round(cv_accuracy, 4))\n",
        "print('## 평균 검증 정확도:', np.mean(cv_accuracy)) "
      ],
      "metadata": {
        "colab": {
          "base_uri": "https://localhost:8080/"
        },
        "id": "4MaQcerh_2iZ",
        "outputId": "448a0497-efe0-4300-f73a-df2259ada1da"
      },
      "execution_count": 60,
      "outputs": [
        {
          "output_type": "stream",
          "name": "stdout",
          "text": [
            "## 교차 검증별 정확도: [0.98 0.94 0.98]\n",
            "## 평균 검증 정확도: 0.9666666666666667\n"
          ]
        }
      ]
    },
    {
      "cell_type": "markdown",
      "source": [
        "##### [교차 검증을 보다 간편하게 - corss_val_score()]\n",
        "___\n",
        "- `corss_val_score()` : 교차 검증을 좀 더 편리하게 수행할 수 있는 API\n",
        "- 폴드 세트를 설정하고, for 반복문에서 학습 및 테스트 데이터의 인덱스를 추출한 뒤, 반복적으로 학습과 예측을 수행하고 예측 성능을 반환하는 과정을 한꺼번에 수행해준다.\n",
        "```python\n",
        "cross_val_score(estimator, X, y = None, scoring = None, cv = None, n_jobs = 1, verbose = 0, fit_params = None, pre_dispatch = '2 * n_jobs')\n",
        "```\n",
        "  1. `estimator` : 분류 알고리즘 클래스인 classifier 혹은 회귀 알고리즘 클래스인 Regressor\n",
        "  2. `X` : Feature 데이터셋\n",
        "  3. `y` : Lable 데이터셋\n",
        "  4. `scoring` : 교차 검증 폴드 수. `cross_val_score()` 수행 후, scoring으로 지정된 성능 지표 측정값을 배열 형태로 반한한다.\n",
        "- estimator에 classifier가 입력되면 Stratified K 폴드 방식으로 학습/검증 데이터셋을 분할하고, 회귀인 경우에는 K 폴드 방식으로 분활한다.\n",
        "  "
      ],
      "metadata": {
        "id": "lysWCwsKAWMA"
      }
    },
    {
      "cell_type": "code",
      "source": [
        "# Import method from module\n",
        "from sklearn.tree import DecisionTreeClassifier\n",
        "from sklearn.model_selection import cross_val_score , cross_validate\n",
        "from sklearn.datasets import load_iris"
      ],
      "metadata": {
        "id": "sJX39Tt6KZ6m"
      },
      "execution_count": 61,
      "outputs": []
    },
    {
      "cell_type": "code",
      "source": [
        "# 데이터셋 및 DecisionTreeClassifier 생성\n",
        "iris_data = load_iris()\n",
        "dt_clf = DecisionTreeClassifier(random_state=156)\n",
        "\n",
        "# Feature 데이터셋과 Label 데이터셋 분리\n",
        "data = iris_data.data\n",
        "label = iris_data.target\n",
        "\n",
        "# 성능 지표는 정확도(accuracy) , 교차 검증 세트는 3개 \n",
        "scores = cross_val_score(dt_clf , data , label , scoring = 'accuracy',cv = 3)\n",
        "print('교차 검증별 정확도:',np.round(scores, 4))\n",
        "print('평균 검증 정확도:', np.round(np.mean(scores), 4))"
      ],
      "metadata": {
        "colab": {
          "base_uri": "https://localhost:8080/"
        },
        "id": "OAvG2679KiYp",
        "outputId": "b95ee14d-fe0f-4c36-f7a7-ef991d95580b"
      },
      "execution_count": 63,
      "outputs": [
        {
          "output_type": "stream",
          "name": "stdout",
          "text": [
            "교차 검증별 정확도: [0.98 0.94 0.98]\n",
            "평균 검증 정확도: 0.9667\n"
          ]
        }
      ]
    },
    {
      "cell_type": "markdown",
      "source": [
        "- `cross_val_score()`는 단 하나의 평가 지표만 가능하다.\n",
        "- `cross_validate()`는 여러 개의 평가 지표를 반환할 수 있으며, 학습 데이터에 대한 성능 평가 지표와 수행 시간도 같이 제공한다."
      ],
      "metadata": {
        "id": "SJ8TACkOLEX7"
      }
    },
    {
      "cell_type": "markdown",
      "source": [
        "#### | GridSearchCV - 교차 검증과 최적 하이퍼 파라미터 튜닝을 한 번에\n",
        "___\n",
        "- 하이퍼 파라미터 : 머신러닝 알고리즘을 구성하는 주요 구성 요소로, 하이퍼 파라미터 값을 조정하여 알고리즘의 예측 성능을 개선할 수 있다.\n",
        "- 사이킷런에서 `GridSearchCV` API를 이용하여 Classifier나 Regressor 등의 알고리즘에 사용되는 하이퍼 파라미터를 순차적으로 입력하면 편리하게 최적의 파라미터를 도출해준다\n",
        "- 예를 들어, 결정 트리 알고리즘에서 하이퍼 파라미터를 변경하면서 최고 성능을 가지는 파라미터 조합 찾으려면, 아래와 같이 Parameter의 집합을 만들고 이를 순차적으로 적용하면서 최적화한다.\n",
        "```python\n",
        "grid_parameter = {'max_depth' : [1, 2, 3],\n",
        "                    'min_samples_split' : [2, 3]}\n",
        "```\n",
        "- `GridSearchCV`는 교차검증을 기반으로 하이퍼 파라미터의 최적 값을 찾아준다. \n",
        "  * 즉, 데이터셋을 교차 검증을 위한 학습/검정 데이터셋으로 자동 분할한 뒤, 하이퍼 파라미터 그리드에 있는 모든 파라미터를 순차적으로 적용해 최적의 파라미터를 찾는다.\n",
        "  * 순차적으로 파라미터를 테스트하기 때문에 수행시간이 상대적으로 오래 걸린다.\n",
        "```python\n",
        "GridSearchCV(estimator, param_grid = parameters, scoring = 'accuracy', cv = 3, refit = True)\n",
        "```\n",
        "  1. `estimator` : classifier, regressor, pipeline\n",
        "  2. `param_grid` : estimator의 튜닝을 위해 파라미터 명과 파라미터 값을 지정한다. key와 list 값을 가지는 딕셔너리를 입력한다.\n",
        "  3. `scoring` : 예측 성능을 측정할 평가 방법을 지정한다.\n",
        "  4. `cv` : 교차 검증을 위해 분할되는 학습/검증 데이터셋의 개수를 지정한다.\n",
        "  5. `refit` : Default는 True. Ture이면 가장 최적의 하이퍼 파라미터를 찾은 뒤 입력된 estimator 객체를 해당 하이퍼 파라미터로 재학습시켜 반환한다."
      ],
      "metadata": {
        "id": "vKvlKC5tLZCb"
      }
    },
    {
      "cell_type": "code",
      "source": [
        "# 결정 트리 알고리즘의 하이퍼 파라미터 max_depth와 min_samples_split를 최적화\n",
        "# 붓꽃 데이터 사용\n",
        "\n",
        "# import Method from Module\n",
        "from sklearn.datasets import load_iris\n",
        "from sklearn.tree import DecisionTreeClassifier\n",
        "from sklearn.model_selection import GridSearchCV\n",
        "\n",
        "# 데이터를 로딩하고 학습데이타와 테스트 데이터 분리\n",
        "iris = load_iris()\n",
        "X_train, X_test, y_train, y_test = train_test_split(iris_data.data, iris_data.target, \n",
        "                                                    test_size=0.2, random_state=121)\n",
        "\n",
        "# DecisionTreeClassifier 생성\n",
        "dtree = DecisionTreeClassifier()"
      ],
      "metadata": {
        "id": "_VCb5JM2PKO1"
      },
      "execution_count": 73,
      "outputs": []
    },
    {
      "cell_type": "code",
      "source": [
        "# parameter 들을 dictionary 형태로 설정\n",
        "parameters = {'max_depth':[1,2,3],\n",
        "              'min_samples_split':[2,3]}"
      ],
      "metadata": {
        "id": "VbKNqU6SPrIY"
      },
      "execution_count": 74,
      "outputs": []
    },
    {
      "cell_type": "code",
      "source": [
        "# param_grid의 하이퍼 파라미터들을 3개의 폴드로 나누어 테스트 수행 \n",
        "grid_dtree = GridSearchCV(dtree, param_grid=parameters, cv=3, refit=True) # refit=True   \n",
        "\n",
        "# 붓꽃 Train 데이터로 학습 데이터를 cv에 기술된 개수의 폴드로 분할\n",
        "# 그 후, param_grid의 하이퍼 파라미터들을 순차적으로 변경하며 학습 및 성능 평가\n",
        "# 결과는 딕셔너리 형태의 cv_results에 저장\n",
        "grid_dtree.fit(X_train, y_train)\n",
        "\n",
        "# GridSearchCV 결과 추출하여 DataFrame으로 변환\n",
        "scores_df = pd.DataFrame(grid_dtree.cv_results_)\n",
        "scores_df[['params', 'mean_test_score', 'rank_test_score', \\\n",
        "           'split0_test_score', 'split1_test_score', 'split2_test_score']]"
      ],
      "metadata": {
        "colab": {
          "base_uri": "https://localhost:8080/",
          "height": 238
        },
        "id": "ndhAalWWPvBi",
        "outputId": "41bad41c-5a21-4dac-f464-d373c097b921"
      },
      "execution_count": 75,
      "outputs": [
        {
          "output_type": "execute_result",
          "data": {
            "text/plain": [
              "                                     params  mean_test_score  rank_test_score  \\\n",
              "0  {'max_depth': 1, 'min_samples_split': 2}         0.700000                5   \n",
              "1  {'max_depth': 1, 'min_samples_split': 3}         0.700000                5   \n",
              "2  {'max_depth': 2, 'min_samples_split': 2}         0.958333                3   \n",
              "3  {'max_depth': 2, 'min_samples_split': 3}         0.958333                3   \n",
              "4  {'max_depth': 3, 'min_samples_split': 2}         0.975000                1   \n",
              "5  {'max_depth': 3, 'min_samples_split': 3}         0.975000                1   \n",
              "\n",
              "   split0_test_score  split1_test_score  split2_test_score  \n",
              "0              0.700                0.7               0.70  \n",
              "1              0.700                0.7               0.70  \n",
              "2              0.925                1.0               0.95  \n",
              "3              0.925                1.0               0.95  \n",
              "4              0.975                1.0               0.95  \n",
              "5              0.975                1.0               0.95  "
            ],
            "text/html": [
              "\n",
              "  <div id=\"df-61ff7668-b1e1-4186-9090-5406332bd8a9\">\n",
              "    <div class=\"colab-df-container\">\n",
              "      <div>\n",
              "<style scoped>\n",
              "    .dataframe tbody tr th:only-of-type {\n",
              "        vertical-align: middle;\n",
              "    }\n",
              "\n",
              "    .dataframe tbody tr th {\n",
              "        vertical-align: top;\n",
              "    }\n",
              "\n",
              "    .dataframe thead th {\n",
              "        text-align: right;\n",
              "    }\n",
              "</style>\n",
              "<table border=\"1\" class=\"dataframe\">\n",
              "  <thead>\n",
              "    <tr style=\"text-align: right;\">\n",
              "      <th></th>\n",
              "      <th>params</th>\n",
              "      <th>mean_test_score</th>\n",
              "      <th>rank_test_score</th>\n",
              "      <th>split0_test_score</th>\n",
              "      <th>split1_test_score</th>\n",
              "      <th>split2_test_score</th>\n",
              "    </tr>\n",
              "  </thead>\n",
              "  <tbody>\n",
              "    <tr>\n",
              "      <th>0</th>\n",
              "      <td>{'max_depth': 1, 'min_samples_split': 2}</td>\n",
              "      <td>0.700000</td>\n",
              "      <td>5</td>\n",
              "      <td>0.700</td>\n",
              "      <td>0.7</td>\n",
              "      <td>0.70</td>\n",
              "    </tr>\n",
              "    <tr>\n",
              "      <th>1</th>\n",
              "      <td>{'max_depth': 1, 'min_samples_split': 3}</td>\n",
              "      <td>0.700000</td>\n",
              "      <td>5</td>\n",
              "      <td>0.700</td>\n",
              "      <td>0.7</td>\n",
              "      <td>0.70</td>\n",
              "    </tr>\n",
              "    <tr>\n",
              "      <th>2</th>\n",
              "      <td>{'max_depth': 2, 'min_samples_split': 2}</td>\n",
              "      <td>0.958333</td>\n",
              "      <td>3</td>\n",
              "      <td>0.925</td>\n",
              "      <td>1.0</td>\n",
              "      <td>0.95</td>\n",
              "    </tr>\n",
              "    <tr>\n",
              "      <th>3</th>\n",
              "      <td>{'max_depth': 2, 'min_samples_split': 3}</td>\n",
              "      <td>0.958333</td>\n",
              "      <td>3</td>\n",
              "      <td>0.925</td>\n",
              "      <td>1.0</td>\n",
              "      <td>0.95</td>\n",
              "    </tr>\n",
              "    <tr>\n",
              "      <th>4</th>\n",
              "      <td>{'max_depth': 3, 'min_samples_split': 2}</td>\n",
              "      <td>0.975000</td>\n",
              "      <td>1</td>\n",
              "      <td>0.975</td>\n",
              "      <td>1.0</td>\n",
              "      <td>0.95</td>\n",
              "    </tr>\n",
              "    <tr>\n",
              "      <th>5</th>\n",
              "      <td>{'max_depth': 3, 'min_samples_split': 3}</td>\n",
              "      <td>0.975000</td>\n",
              "      <td>1</td>\n",
              "      <td>0.975</td>\n",
              "      <td>1.0</td>\n",
              "      <td>0.95</td>\n",
              "    </tr>\n",
              "  </tbody>\n",
              "</table>\n",
              "</div>\n",
              "      <button class=\"colab-df-convert\" onclick=\"convertToInteractive('df-61ff7668-b1e1-4186-9090-5406332bd8a9')\"\n",
              "              title=\"Convert this dataframe to an interactive table.\"\n",
              "              style=\"display:none;\">\n",
              "        \n",
              "  <svg xmlns=\"http://www.w3.org/2000/svg\" height=\"24px\"viewBox=\"0 0 24 24\"\n",
              "       width=\"24px\">\n",
              "    <path d=\"M0 0h24v24H0V0z\" fill=\"none\"/>\n",
              "    <path d=\"M18.56 5.44l.94 2.06.94-2.06 2.06-.94-2.06-.94-.94-2.06-.94 2.06-2.06.94zm-11 1L8.5 8.5l.94-2.06 2.06-.94-2.06-.94L8.5 2.5l-.94 2.06-2.06.94zm10 10l.94 2.06.94-2.06 2.06-.94-2.06-.94-.94-2.06-.94 2.06-2.06.94z\"/><path d=\"M17.41 7.96l-1.37-1.37c-.4-.4-.92-.59-1.43-.59-.52 0-1.04.2-1.43.59L10.3 9.45l-7.72 7.72c-.78.78-.78 2.05 0 2.83L4 21.41c.39.39.9.59 1.41.59.51 0 1.02-.2 1.41-.59l7.78-7.78 2.81-2.81c.8-.78.8-2.07 0-2.86zM5.41 20L4 18.59l7.72-7.72 1.47 1.35L5.41 20z\"/>\n",
              "  </svg>\n",
              "      </button>\n",
              "      \n",
              "  <style>\n",
              "    .colab-df-container {\n",
              "      display:flex;\n",
              "      flex-wrap:wrap;\n",
              "      gap: 12px;\n",
              "    }\n",
              "\n",
              "    .colab-df-convert {\n",
              "      background-color: #E8F0FE;\n",
              "      border: none;\n",
              "      border-radius: 50%;\n",
              "      cursor: pointer;\n",
              "      display: none;\n",
              "      fill: #1967D2;\n",
              "      height: 32px;\n",
              "      padding: 0 0 0 0;\n",
              "      width: 32px;\n",
              "    }\n",
              "\n",
              "    .colab-df-convert:hover {\n",
              "      background-color: #E2EBFA;\n",
              "      box-shadow: 0px 1px 2px rgba(60, 64, 67, 0.3), 0px 1px 3px 1px rgba(60, 64, 67, 0.15);\n",
              "      fill: #174EA6;\n",
              "    }\n",
              "\n",
              "    [theme=dark] .colab-df-convert {\n",
              "      background-color: #3B4455;\n",
              "      fill: #D2E3FC;\n",
              "    }\n",
              "\n",
              "    [theme=dark] .colab-df-convert:hover {\n",
              "      background-color: #434B5C;\n",
              "      box-shadow: 0px 1px 3px 1px rgba(0, 0, 0, 0.15);\n",
              "      filter: drop-shadow(0px 1px 2px rgba(0, 0, 0, 0.3));\n",
              "      fill: #FFFFFF;\n",
              "    }\n",
              "  </style>\n",
              "\n",
              "      <script>\n",
              "        const buttonEl =\n",
              "          document.querySelector('#df-61ff7668-b1e1-4186-9090-5406332bd8a9 button.colab-df-convert');\n",
              "        buttonEl.style.display =\n",
              "          google.colab.kernel.accessAllowed ? 'block' : 'none';\n",
              "\n",
              "        async function convertToInteractive(key) {\n",
              "          const element = document.querySelector('#df-61ff7668-b1e1-4186-9090-5406332bd8a9');\n",
              "          const dataTable =\n",
              "            await google.colab.kernel.invokeFunction('convertToInteractive',\n",
              "                                                     [key], {});\n",
              "          if (!dataTable) return;\n",
              "\n",
              "          const docLinkHtml = 'Like what you see? Visit the ' +\n",
              "            '<a target=\"_blank\" href=https://colab.research.google.com/notebooks/data_table.ipynb>data table notebook</a>'\n",
              "            + ' to learn more about interactive tables.';\n",
              "          element.innerHTML = '';\n",
              "          dataTable['output_type'] = 'display_data';\n",
              "          await google.colab.output.renderOutput(dataTable, element);\n",
              "          const docLink = document.createElement('div');\n",
              "          docLink.innerHTML = docLinkHtml;\n",
              "          element.appendChild(docLink);\n",
              "        }\n",
              "      </script>\n",
              "    </div>\n",
              "  </div>\n",
              "  "
            ]
          },
          "metadata": {},
          "execution_count": 75
        }
      ]
    },
    {
      "cell_type": "markdown",
      "source": [
        "- 총 6개의 결과를 볼 수 있으며, 이는 하이퍼 파라미터 max_depth와 min_samples_split을 총 6번 변경하면서 학습 및 평가를 수행하였음을 의미한다.\n",
        "- **params** : Column에 수행할 때마다 적용된 하이퍼 파라미터 값이 저장되어 있다.\n",
        "- **rank_test_score** : 하이퍼 파라미터별로 예측 성능이 좋은 순위를 의미한다.\n",
        "- **mean_test_score** : 개별 하이퍼 파라미터별로 CV의 폴딩 검증 데이터셋에 대해 총 수행한 평가의 평균값"
      ],
      "metadata": {
        "id": "kDDOsw6_QmTn"
      }
    },
    {
      "cell_type": "code",
      "source": [
        "# best_params_ : 최고 성능을 나타낸 하이퍼 파라미터 값\n",
        "print('GridSearchCV 최적 파라미터:', grid_dtree.best_params_)\n",
        "\n",
        "# best_score_ : 최고 성능을 나타낼 때, 모델의 성능 평가의 결과 값\n",
        "print('GridSearchCV 최고 정확도: {0:.4f}'.format(grid_dtree.best_score_))"
      ],
      "metadata": {
        "colab": {
          "base_uri": "https://localhost:8080/"
        },
        "id": "_cqySBywRWYt",
        "outputId": "ed3c783e-f515-41a4-e60a-980ba4277320"
      },
      "execution_count": 76,
      "outputs": [
        {
          "output_type": "stream",
          "name": "stdout",
          "text": [
            "GridSearchCV 최적 파라미터: {'max_depth': 3, 'min_samples_split': 2}\n",
            "GridSearchCV 최고 정확도: 0.9750\n"
          ]
        }
      ]
    },
    {
      "cell_type": "code",
      "source": [
        "# refit = True이면 최적 성능을 나타내는 하이퍼 파라미터로 Estimator를 학습해 best_estimator_에 저장\n",
        "# GridSearchCV의 refit으로 이미 학습이 된 estimator 반환\n",
        "estimator = grid_dtree.best_estimator_\n",
        "\n",
        "# GridSearchCV의 best_estimator_는 이미 최적 하이퍼 파라미터로 학습이 됨\n",
        "pred = estimator.predict(X_test)\n",
        "print('테스트 데이터 세트 정확도: {0:.4f}'.format(accuracy_score(y_test,pred)))"
      ],
      "metadata": {
        "colab": {
          "base_uri": "https://localhost:8080/"
        },
        "id": "vBhfrhozR0w3",
        "outputId": "c40bc27d-d606-44bd-9200-01bb4d0fba3f"
      },
      "execution_count": 77,
      "outputs": [
        {
          "output_type": "stream",
          "name": "stdout",
          "text": [
            "테스트 데이터 세트 정확도: 0.9667\n"
          ]
        }
      ]
    },
    {
      "cell_type": "markdown",
      "source": [
        "## 05 데이터 전처리\n",
        "___\n",
        "- 사람의 눈은 한 번에 볼 수 있는 양이 정해져 있기 때문에, 데이터를 시각화하여 데이터의 숨겨진 패턴을 파악해야 한다. "
      ],
      "metadata": {
        "id": "Jzlpey2bvypZ"
      }
    }
  ]
}