{
  "nbformat": 4,
  "nbformat_minor": 0,
  "metadata": {
    "colab": {
      "name": "Assignment0415.ipynb",
      "provenance": [],
      "mount_file_id": "1TPO2Kn8hfQGK38-icwOil_JEB1_ZxP2q",
      "authorship_tag": "ABX9TyND3LCCieYp9qeiWemGb6v0",
      "include_colab_link": true
    },
    "kernelspec": {
      "name": "python3",
      "display_name": "Python 3"
    },
    "language_info": {
      "name": "python"
    }
  },
  "cells": [
    {
      "cell_type": "markdown",
      "metadata": {
        "id": "view-in-github",
        "colab_type": "text"
      },
      "source": [
        "<a href=\"https://colab.research.google.com/github/Dkepffl/2022-1-ESAA/blob/main/Assignment/Assignment0415.ipynb\" target=\"_parent\"><img src=\"https://colab.research.google.com/assets/colab-badge.svg\" alt=\"Open In Colab\"/></a>"
      ]
    },
    {
      "cell_type": "code",
      "source": [
        "# import package\n",
        "import numpy as np\n",
        "import pandas as pd"
      ],
      "metadata": {
        "id": "PHmyZhAaNys7"
      },
      "execution_count": 5,
      "outputs": []
    },
    {
      "cell_type": "code",
      "source": [
        "# 데이터 전처리 함수\n",
        "from sklearn.preprocessing import LabelEncoder\n",
        "\n",
        "# Null 처리 함수\n",
        "def fillna(df):\n",
        "    df['Age'].fillna(df['Age'].mean(),inplace=True)\n",
        "    df['Cabin'].fillna('N',inplace=True)\n",
        "    df['Embarked'].fillna('N',inplace=True)\n",
        "    df['Fare'].fillna(0,inplace=True)\n",
        "    return df\n",
        "\n",
        "# 머신러닝 알고리즘에 불필요한 속성 제거\n",
        "def drop_features(df):\n",
        "    df.drop(['PassengerId','Name','Ticket'],axis=1,inplace=True)\n",
        "    return df\n",
        "\n",
        "# 레이블 인코딩 수행. \n",
        "def format_features(df):\n",
        "    df['Cabin'] = df['Cabin'].str[:1]\n",
        "    features = ['Cabin','Sex','Embarked']\n",
        "    for feature in features:\n",
        "        le = LabelEncoder()\n",
        "        le = le.fit(df[feature])\n",
        "        df[feature] = le.transform(df[feature])\n",
        "    return df\n",
        "\n",
        "# 앞에서 설정한 Data Preprocessing 함수 호출\n",
        "def transform_features(df):\n",
        "    df = fillna(df)\n",
        "    df = drop_features(df)\n",
        "    df = format_features(df)\n",
        "    return df"
      ],
      "metadata": {
        "id": "gPw02VitO1y0"
      },
      "execution_count": 6,
      "outputs": []
    },
    {
      "cell_type": "markdown",
      "source": [
        "# **CHAPTER 03 평가**\n",
        "___\n",
        "- 머신러닝의 과정 : 데이터 가공/변환 - 모델 학습/예측 - 평가(Evaluation)\n",
        "- 성능 평가 지표(Evaluation Metric)은 일반적으로 모델이 **분류**인지, **회귀**인지에 따라 여러 종류로 나뉜다.\n",
        "  1. 회귀 : 실제값과 예측값의 오차 평균값(MSE)\n",
        "  2. 분류 : 실제 결과 데이터와 예측 결과 데이터가 얼마나 정확하고 오류가 적게 발생하는가를 기반으로 평가\n",
        "- 분류의 성능 평가 지표\n",
        "  1. 정확도(Accuracy)\n",
        "  2. 오차행렬(Confusion Matrix)\n",
        "  3. 정밀도(Precision)\n",
        "  4. 재현율(Recall)\n",
        "  5. F1 스코어\n",
        "  6. ROC AUC\n",
        "- 분류는 결정 클래스 값의 종류에 따라 긍정/부정과 같은 2개의 결과값만을 가지는 **이진 분류**와 여러 개의 결정 클래스 값을 가지는 **멀티 분류**로 나뉜다."
      ],
      "metadata": {
        "id": "vYcGfCVH6A5R"
      }
    },
    {
      "cell_type": "markdown",
      "source": [
        "## **01 정확도**\n",
        "____\n",
        "\n",
        "$$정확도 = \\frac {예측 결과가 동일한 데이터 건수}{전체 예측 데이터 건수}$$\n",
        "- 정확도 : 실제 데이터와 예측 데이터가 얼마나 같은지를 판단하는 지표이며 직관적으로 모델 예측 성능을 나타내는 평가 지표이다.\n",
        "- 이진 분류의 경우, 데이터의 구성에 따라 ML 모델의 성능이 왜곡될 수 있어 정확도 하나만 가지고 성능을 평가하지는 않는다."
      ],
      "metadata": {
        "id": "AIwVfo3gMx96"
      }
    },
    {
      "cell_type": "code",
      "source": [
        "from sklearn.base import BaseEstimator\n",
        "\n",
        "# BaseEstimator 클래스를 상속받아, 아무런 학습을 하지 않고, 성별에 따라 생존자를 예측하는 Classifier\n",
        "# BaseEstimator 클래스 : Customized 형태의 Estimator를 생성할 수 있다\n",
        "class MyDummyClassifier(BaseEstimator):\n",
        "    # fit() 메소드는 아무것도 학습하지 않음\n",
        "    def fit(self, X , y=None):\n",
        "        pass\n",
        "    \n",
        "    # predict(  메소드는 단순히 Sex feature가 1이면 0 , 그렇지 않으면 1로 예측\n",
        "    def predict(self, X):\n",
        "        pred = np.zeros( ( X.shape[0], 1 ))\n",
        "        for i in range (X.shape[0]) :\n",
        "            if X['Sex'].iloc[i] == 1:\n",
        "                pred[i] = 0\n",
        "            else :\n",
        "                pred[i] = 1\n",
        "        \n",
        "        return pred"
      ],
      "metadata": {
        "id": "Wbdnwit1LH82"
      },
      "execution_count": 3,
      "outputs": []
    },
    {
      "cell_type": "code",
      "source": [
        "# 예제에 필요한 타이타닉 데이터 로드 및 전처리\n",
        "from sklearn.model_selection import train_test_split\n",
        "from sklearn.metrics import accuracy_score\n",
        "\n",
        "titanic_df = pd.read_csv('/content/drive/MyDrive/2022-1 ESAA/DataSet/titanic_train.csv')\n",
        "\n",
        "# Feature, Target 데이터셋 분리\n",
        "y_titanic_df = titanic_df['Survived']\n",
        "X_titanic_df= titanic_df.drop('Survived', axis=1)\n",
        "\n",
        "# Feature 데이터셋 전처리\n",
        "X_titanic_df = transform_features(X_titanic_df)\n",
        "\n",
        "# Train/Test\n",
        "X_train, X_test, y_train, y_test=train_test_split(X_titanic_df, y_titanic_df, test_size = 0.2, random_state = 0)"
      ],
      "metadata": {
        "id": "QMYv85KTOh4y"
      },
      "execution_count": 8,
      "outputs": []
    },
    {
      "cell_type": "code",
      "source": [
        "# 위에서 생성한 Dummy Classifier를 이용하여 학습/예측/평가 수행. \n",
        "myclf = MyDummyClassifier()\n",
        "myclf.fit(X_train ,y_train)\n",
        "\n",
        "mypredictions = myclf.predict(X_test)\n",
        "print('Dummy Classifier의 정확도는: {0:.4f}'.format(accuracy_score(y_test , mypredictions)))"
      ],
      "metadata": {
        "colab": {
          "base_uri": "https://localhost:8080/"
        },
        "id": "5208w-tqOVAz",
        "outputId": "2bc6e3a4-2e73-431f-94e8-1bc685434c7c"
      },
      "execution_count": 9,
      "outputs": [
        {
          "output_type": "stream",
          "name": "stdout",
          "text": [
            "Dummy Classifier의 정확도는: 0.7877\n"
          ]
        }
      ]
    },
    {
      "cell_type": "markdown",
      "source": [
        "- 위의 예제를 보면, 단순한 분류 알고리즘으로 예측을 했으나, 데이터의 구성에 의해 정확도 결과가 약 78.77%로 꽤 높게 나왔다. 따라서 정확도를 평가 지표로 사용할 때는 매우 신중해야 한다.\n",
        "- Label 값이 불균형하게(imbalanced) 분포할 때, 정확도는 적합한 평가 지표가 아니다. MNIST 데이터셋을 가공하여 불균형한 데이터셋에 대해 정확도를 평가 지표로 사용할 때 어떤 문제가 발생할 수 있는지 살펴보자."
      ],
      "metadata": {
        "id": "Rbkl2VhEPbUT"
      }
    },
    {
      "cell_type": "code",
      "execution_count": 14,
      "metadata": {
        "id": "Y3wPEHGG53Xo"
      },
      "outputs": [],
      "source": [
        "from sklearn.datasets import load_digits\n",
        "from sklearn.model_selection import train_test_split\n",
        "from sklearn.base import BaseEstimator\n",
        "from sklearn.metrics import accuracy_score\n",
        "\n",
        "class MyFakeClassifier(BaseEstimator):\n",
        "    def fit(self,X,y):\n",
        "        pass\n",
        "    \n",
        "    # 입력값으로 들어오는 X 데이터셋의 크기만큼 모두 0값으로 만들어서 반환\n",
        "    # 즉, 예측값이 모두 0으로 반환\n",
        "    def predict(self,X):\n",
        "        return np.zeros((len(X),1) , dtype = bool)\n",
        "\n",
        "# 사이킷런의 내장 데이터 셋인 load_digits( )를 이용하여 MNIST 데이터 로딩\n",
        "digits = load_digits()\n",
        "\n",
        "# digits 번호(Label 값)가 7이면 True. 7이 아니면 False\n",
        "# True와 False를 정수형으로 변환\n",
        "y = (digits.target == 7).astype(int) \n",
        "\n",
        "# Train/Test\n",
        "X_train, X_test, y_train, y_test = train_test_split(digits.data, y, random_state = 11)"
      ]
    },
    {
      "cell_type": "code",
      "source": [
        "# 불균형한 레이블 데이터 분포도 확인\n",
        "# 0이 1에 비해 매우 많다\n",
        "print('레이블 테스트 세트 크기 :', y_test.shape)\n",
        "print('테스트 세트 레이블 0 과 1의 분포도')\n",
        "print(pd.Series(y_test).value_counts())"
      ],
      "metadata": {
        "colab": {
          "base_uri": "https://localhost:8080/"
        },
        "id": "TaV84tP6QRj1",
        "outputId": "29f881a7-2174-4745-d6b0-507edbbb440d"
      },
      "execution_count": 15,
      "outputs": [
        {
          "output_type": "stream",
          "name": "stdout",
          "text": [
            "레이블 테스트 세트 크기 : (450,)\n",
            "테스트 세트 레이블 0 과 1의 분포도\n",
            "0    405\n",
            "1     45\n",
            "dtype: int64\n"
          ]
        }
      ]
    },
    {
      "cell_type": "code",
      "source": [
        "# Dummy Classifier로 학습/예측/정확도 평가\n",
        "fakeclf = MyFakeClassifier()\n",
        "fakeclf.fit(X_train , y_train)\n",
        "fakepred = fakeclf.predict(X_test)\n",
        "print('모든 예측을 0으로 하여도 정확도는 : {:.3f}'.format(accuracy_score(y_test ,fakepred)))"
      ],
      "metadata": {
        "colab": {
          "base_uri": "https://localhost:8080/"
        },
        "id": "3mDmRE6sRHFt",
        "outputId": "a4896e8e-6e72-4dfb-a00b-7180de876a3a"
      },
      "execution_count": 16,
      "outputs": [
        {
          "output_type": "stream",
          "name": "stdout",
          "text": [
            "모든 예측을 0으로 하여도 정확도는 : 0.900\n"
          ]
        }
      ]
    },
    {
      "cell_type": "markdown",
      "source": [
        "- 이처럼 불균형한 레이블 데이터셋에서는 정확도로 모델의 성능을 평가할 수 없다.\n",
        "- 이를 보완하기 위해, 여러 가지 분류 지표와 함께 적용해야 하는데, 이 중 오차 행렬(Confusion Matrix)이 있다."
      ],
      "metadata": {
        "id": "g8jMiXsKRvkb"
      }
    },
    {
      "cell_type": "markdown",
      "source": [
        "## **02 오차 행렬**\n",
        "____\n",
        "- 오차행렬(Confusion matrix, 혼동행렬) : 학습된 분류 모델이 예측을 수행하면서 얼마나 헷갈리고(confused) 있는지도 함께 보여주는 지표. 즉, 예측 오류 값과 어떤 유형의 예측 오류가 발생하고 있는지를 함께 보여주는 지표. `confusion_matrix()` 메소드를 이용해 계산할 수 있다.\n",
        "\n",
        "- 오차행렬은 4분면 행렬에서 실제 Label 클래스 값과 예측 Label 클래스 값이 어떠한 유형을 가지고 mapping되는지를 표현한다. \n",
        "| |Negative(0)|Positive(1)|\n",
        "|------|---|---|\n",
        "|Negative(0)|True Negative|False Positive|\n",
        "|Positive(1)|False Negative|True Positive|\n",
        "\n",
        "- mapping 유형\n",
        "  1. True Negative : 예측값을 Negative(0)으로 예측했고, 실제 값 역시 Negative(0)\n",
        "  2. False Positive : 예측값을 Positive(1)으로 예측했지만, 실제 값은 Negative(0)\n",
        "  3. False Negative : 예측값을 Negative(0)으로 예측했지만, 실제 값은 Positive(1)\n",
        "  4. True Positive : 예측값을 Positive(1)으로 예측했고, 실제 값 역시 Positive(1)\n"
      ],
      "metadata": {
        "id": "5Zchyl4wSBH8"
      }
    },
    {
      "cell_type": "code",
      "source": [
        "from sklearn.metrics import confusion_matrix\n",
        "\n",
        "# 앞 예제의 예측 결과인 fakepred와 실제 결과인 y_test의 Confusion Matrix\n",
        "confusion_matrix(y_test, fakepred)"
      ],
      "metadata": {
        "colab": {
          "base_uri": "https://localhost:8080/"
        },
        "id": "UAoNJWrtT5RE",
        "outputId": "09c324a1-170a-4f9d-99b4-b80cc6e401bd"
      },
      "execution_count": 18,
      "outputs": [
        {
          "output_type": "execute_result",
          "data": {
            "text/plain": [
              "array([[405,   0],\n",
              "       [ 45,   0]])"
            ]
          },
          "metadata": {},
          "execution_count": 18
        }
      ]
    },
    {
      "cell_type": "markdown",
      "source": [
        "- 오차 행렬\n",
        "\n",
        "| |Negative(0)|Positive(1)|\n",
        "|------|---|---|\n",
        "|Negative(0)|405|0|\n",
        "|Positive(1)|45|0|\n",
        "\n",
        "- 오차행렬 결과를 이용해 정확도를 계산할 수 있다.\n",
        "\n",
        "$$정확도 = \\frac {예측 결과가 동일한 데이터 건수}{전체 예측 데이터 건수}  = \\frac {(TN + TP)}{(TN + FP + FN + TP}$$ \n",
        "\n",
        "- 보통 많은 데이터들은 중점적으로 찾아야 하는 매우 적은 수의 결과값에 Positive를 설정한다. 그런데 불균형한 이진 분류 데이터셋에서는 Positive 데이터 건수가 매우 작아, 이러한 데이터에 기반한 ML 알고리즘은 주로 Positive보다는 Negative로 예측하려는 경향이 더 강해진다. 결과적으로 TN은 매우 커지고, TP는 매우 작아지고, FN이 매우 작으며, FP 역시 매우 작아진다.\n",
        "\n"
      ],
      "metadata": {
        "id": "fnFH34cQUJt8"
      }
    },
    {
      "cell_type": "markdown",
      "source": [
        "## **03 정밀도와 재현율**\n",
        "____\n",
        "- 정확도는 분류 모델의 성능을 측정할 수 있는 요소들 중 한 가지일 뿐, 불균형한 데이터셋에서는 성능 지표로서 신뢰가 떨어지는데, 이때 정밀도와 재현율이 평가 지표로 더 선호된다.\n",
        "- 정밀도와 재현율은 Positive 데이터셋의 예측 성능에 좀 더 초점을 맞춘 지표이다.\n",
        "1. **정밀도**\n",
        "  - 예측을 Positive로 한 대상 중에 예측값과 실제값이 Positive로 일치한 데이터의 비율로 양성 예측도라고도 한다.\n",
        "  - 재현율은 실제 Positive인 데이터를 Negative로 잘못 예측하면 손실이 큰 경우 중요하다.(예 : 암 판단 모델이나 금융 사기 적발 모델)\n",
        "  - 사이킷런의 `precision_score()` 메서드 사용\n",
        "\n",
        "$$정밀도 = \\frac {TP}{(FP + TP)}$$ \n",
        "\n",
        "2. **재현율**\n",
        "  - 실제 값이 Positive인 대상 중 예측과 실제 값이 Positive로 일치한 데이터의 비율로 민감도(Sensitivity) 혹은 TPR(True Positive Rate)으로 불린다.\n",
        "  - 정밀도는 실제 Negative인 데이터를 Positive로 잘못 예측하면 손실이 큰 경우 중요하다.(예 : 스팸 메일 여부 판단 모델)\n",
        "  - 사이킷런의 `recall_score()` 메서드 사용\n",
        "\n",
        "$$재현율 = \\frac {TP}{(FN + TP)}$$ \n",
        "\n",
        "- 두 지표는 상호 보완적인 지표이며, 재현율과 정밀도 모두 높은 수치를 얻을 때 모델의 성능이 가장 좋다고 평가한다. 하지만 어느 한 평가 지표만 매우 높고 다른 지표는 매우 낮을 경우는 바람직하지 않다.\n",
        "\n"
      ],
      "metadata": {
        "id": "O1fs-p-iVKS8"
      }
    },
    {
      "cell_type": "code",
      "source": [
        "# 앞에서 만든 MyFakeClassifier는 TP 값이 하나도 없기 때문에, 정밀도와 재현율 값이 모두 0\n",
        "from sklearn.metrics import accuracy_score, precision_score , recall_score\n",
        "\n",
        "print(\"정밀도:\", precision_score(y_test, fakepred))\n",
        "print(\"재현율:\", recall_score(y_test, fakepred))"
      ],
      "metadata": {
        "colab": {
          "base_uri": "https://localhost:8080/"
        },
        "id": "FsCmEcJ6Z4O8",
        "outputId": "a1dbe429-ce0f-4144-9d06-2fc4c8a959cc"
      },
      "execution_count": 19,
      "outputs": [
        {
          "output_type": "stream",
          "name": "stdout",
          "text": [
            "정밀도: 0.0\n",
            "재현율: 0.0\n"
          ]
        },
        {
          "output_type": "stream",
          "name": "stderr",
          "text": [
            "/usr/local/lib/python3.7/dist-packages/sklearn/metrics/_classification.py:1318: UndefinedMetricWarning: Precision is ill-defined and being set to 0.0 due to no predicted samples. Use `zero_division` parameter to control this behavior.\n",
            "  _warn_prf(average, modifier, msg_start, len(result))\n"
          ]
        }
      ]
    },
    {
      "cell_type": "code",
      "source": [
        "from sklearn.metrics import accuracy_score, precision_score , recall_score , confusion_matrix\n",
        "\n",
        "# confusion matrix, accuracy, precision, recall 등의 평가 지표를 한 번에 호출하는 함수\n",
        "def get_clf_eval(y_test , pred):\n",
        "    confusion = confusion_matrix( y_test, pred)\n",
        "    accuracy = accuracy_score(y_test , pred)\n",
        "    precision = precision_score(y_test , pred)\n",
        "    recall = recall_score(y_test , pred)\n",
        "    print('오차 행렬')\n",
        "    print(confusion)\n",
        "    print('정확도: {0:.4f}, 정밀도: {1:.4f}, 재현율: {2:.4f}'.format(accuracy , precision ,recall))"
      ],
      "metadata": {
        "id": "5gQUDkP5Z7ss"
      },
      "execution_count": 20,
      "outputs": []
    },
    {
      "cell_type": "code",
      "source": [
        "from sklearn.model_selection import train_test_split \n",
        "from sklearn.linear_model import LogisticRegression\n",
        "\n",
        "# 원본 데이터를 재로딩, 데이터 가공\n",
        "titanic_df = pd.read_csv('/content/drive/MyDrive/2022-1 ESAA/DataSet/titanic_train.csv')\n",
        "y_titanic_df = titanic_df['Survived']\n",
        "X_titanic_df= titanic_df.drop('Survived', axis = 1)\n",
        "X_titanic_df = transform_features(X_titanic_df)\n",
        "\n",
        "# Train/Test\n",
        "X_train, X_test, y_train, y_test = train_test_split(X_titanic_df, y_titanic_df, test_size=0.20, random_state=11)\n",
        "\n",
        "# 타이타닉 생존자를 로지스틱 회귀 모델을 기반으로 예측\n",
        "lr_clf = LogisticRegression()\n",
        "\n",
        "lr_clf.fit(X_train, y_train)\n",
        "pred = lr_clf.predict(X_test)\n",
        "\n",
        "# Model Test\n",
        "get_clf_eval(y_test, pred)"
      ],
      "metadata": {
        "colab": {
          "base_uri": "https://localhost:8080/"
        },
        "id": "7__UCi-MaQde",
        "outputId": "a650270d-4a2c-4f79-9c4e-708ee7cc6b21"
      },
      "execution_count": 21,
      "outputs": [
        {
          "output_type": "stream",
          "name": "stdout",
          "text": [
            "오차 행렬\n",
            "[[104  14]\n",
            " [ 13  48]]\n",
            "정확도: 0.8492, 정밀도: 0.7742, 재현율: 0.7869\n"
          ]
        },
        {
          "output_type": "stream",
          "name": "stderr",
          "text": [
            "/usr/local/lib/python3.7/dist-packages/sklearn/linear_model/_logistic.py:818: ConvergenceWarning: lbfgs failed to converge (status=1):\n",
            "STOP: TOTAL NO. of ITERATIONS REACHED LIMIT.\n",
            "\n",
            "Increase the number of iterations (max_iter) or scale the data as shown in:\n",
            "    https://scikit-learn.org/stable/modules/preprocessing.html\n",
            "Please also refer to the documentation for alternative solver options:\n",
            "    https://scikit-learn.org/stable/modules/linear_model.html#logistic-regression\n",
            "  extra_warning_msg=_LOGISTIC_SOLVER_CONVERGENCE_MSG,\n"
          ]
        }
      ]
    },
    {
      "cell_type": "markdown",
      "source": [
        "- 위의 예제에서 정밀도에 비해 재현율이 낮게 나왔다.\n",
        "- 재현율 혹은 정밀도를 좀 더 강화할 방법은 무엇일까?"
      ],
      "metadata": {
        "id": "J66I0sB9a7HV"
      }
    },
    {
      "cell_type": "markdown",
      "source": [
        "### | 정밀도/재현율 트레이드오프\n",
        "___"
      ],
      "metadata": {
        "id": "hT5AgF2ILIF7"
      }
    }
  ]
}