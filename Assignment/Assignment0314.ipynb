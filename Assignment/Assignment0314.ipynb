{
  "nbformat": 4,
  "nbformat_minor": 0,
  "metadata": {
    "colab": {
      "name": "Assignment0314.ipynb",
      "provenance": [],
      "authorship_tag": "ABX9TyPipMvbjUaG2pbFrS1G50z8",
      "include_colab_link": true
    },
    "kernelspec": {
      "name": "python3",
      "display_name": "Python 3"
    },
    "language_info": {
      "name": "python"
    }
  },
  "cells": [
    {
      "cell_type": "markdown",
      "metadata": {
        "id": "view-in-github",
        "colab_type": "text"
      },
      "source": [
        "<a href=\"https://colab.research.google.com/github/Dkepffl/2022-1-ESAA/blob/main/Assignment/Assignment0314.ipynb\" target=\"_parent\"><img src=\"https://colab.research.google.com/assets/colab-badge.svg\" alt=\"Open In Colab\"/></a>"
      ]
    },
    {
      "cell_type": "code",
      "source": [
        "import numpy as np"
      ],
      "metadata": {
        "id": "94IMEhSDJ1kg"
      },
      "execution_count": 2,
      "outputs": []
    },
    {
      "cell_type": "markdown",
      "metadata": {
        "id": "42f8b2f9"
      },
      "source": [
        "#### 34. How to get all the dates corresponding to the month of July 2016? (★★☆)"
      ]
    },
    {
      "cell_type": "code",
      "metadata": {
        "id": "eb8ebe45",
        "colab": {
          "base_uri": "https://localhost:8080/"
        },
        "outputId": "ca5e3e5a-31c9-4a4a-fcd9-0b6b9c81a4dc"
      },
      "source": [
        "Z = np.arange('2016-07', '2016-08', dtype = 'datetime64[D]')\n",
        "print(Z)"
      ],
      "execution_count": null,
      "outputs": [
        {
          "output_type": "stream",
          "name": "stdout",
          "text": [
            "['2016-07-01' '2016-07-02' '2016-07-03' '2016-07-04' '2016-07-05'\n",
            " '2016-07-06' '2016-07-07' '2016-07-08' '2016-07-09' '2016-07-10'\n",
            " '2016-07-11' '2016-07-12' '2016-07-13' '2016-07-14' '2016-07-15'\n",
            " '2016-07-16' '2016-07-17' '2016-07-18' '2016-07-19' '2016-07-20'\n",
            " '2016-07-21' '2016-07-22' '2016-07-23' '2016-07-24' '2016-07-25'\n",
            " '2016-07-26' '2016-07-27' '2016-07-28' '2016-07-29' '2016-07-30'\n",
            " '2016-07-31']\n"
          ]
        }
      ]
    },
    {
      "cell_type": "markdown",
      "metadata": {
        "id": "252c43e2"
      },
      "source": [
        "#### 35. How to compute ((A+B)*(-A/2)) in place (without copy)? (★★☆)"
      ]
    },
    {
      "cell_type": "code",
      "metadata": {
        "id": "f06ff615",
        "colab": {
          "base_uri": "https://localhost:8080/"
        },
        "outputId": "dcd4626e-c72e-4943-e4dc-190d31d516b1"
      },
      "source": [
        "def compute_above(A,B):\n",
        "  A= A.astype(float)\n",
        "  B= B.astype(float)\n",
        "  np.add(A, B, out = B) # Elementwise addition\n",
        "  np.divide(A, 2, out = A) # output을 A에 저장.\n",
        "  np.negative(A, out = A)\n",
        "  np.multiply(A, B, out = A)\n",
        "  return A\n",
        "\n",
        "A = np.random.randint(1,10, size = (3,3))\n",
        "B = np.random.randint(1,10, size = (3,3))\n",
        "print(compute_above(A,B))"
      ],
      "execution_count": null,
      "outputs": [
        {
          "output_type": "stream",
          "name": "stdout",
          "text": [
            "[[-56.   -1.   -6. ]\n",
            " [-10.5  -3.  -58.5]\n",
            " [-40.  -49.  -15. ]]\n"
          ]
        }
      ]
    },
    {
      "cell_type": "markdown",
      "metadata": {
        "id": "486df8ea"
      },
      "source": [
        "#### 36. Extract the integer part of a random array of positive numbers using 4 different methods (★★☆)"
      ]
    },
    {
      "cell_type": "code",
      "metadata": {
        "id": "34b4fa08",
        "colab": {
          "base_uri": "https://localhost:8080/"
        },
        "outputId": "5438c224-af07-4b26-e837-3e54dbd17c51"
      },
      "source": [
        "Z = np.random.uniform(0,10,10)\n",
        "print(Z)\n",
        "\n",
        "print(Z - Z%1) # 소수부분을 뺀다.\n",
        "print(Z // 1) \n",
        "print(np.floor(Z)) # 내림 함수\n",
        "print(Z.astype(int)) # 형변환"
      ],
      "execution_count": null,
      "outputs": [
        {
          "output_type": "stream",
          "name": "stdout",
          "text": [
            "[3.52289409 7.30742401 5.1990697  3.66122056 4.81164952 3.25188489\n",
            " 9.41669546 0.55742309 7.06991458 8.45954962]\n",
            "[3. 7. 5. 3. 4. 3. 9. 0. 7. 8.]\n",
            "[3. 7. 5. 3. 4. 3. 9. 0. 7. 8.]\n",
            "[3. 7. 5. 3. 4. 3. 9. 0. 7. 8.]\n",
            "[3 7 5 3 4 3 9 0 7 8]\n"
          ]
        }
      ]
    },
    {
      "cell_type": "markdown",
      "metadata": {
        "id": "649e89f9"
      },
      "source": [
        "#### 37. Create a 5x5 matrix with row values ranging from 0 to 4 (★★☆)"
      ]
    },
    {
      "cell_type": "code",
      "metadata": {
        "id": "663cc611",
        "colab": {
          "base_uri": "https://localhost:8080/"
        },
        "outputId": "1c0dce30-e6ea-4570-9aa5-1b3029b2487e"
      },
      "source": [
        "Z = np.arange(5)\n",
        "I = np.zeros((5,5))\n",
        "np.add(I, Z, out= I)\n",
        "print(I)"
      ],
      "execution_count": null,
      "outputs": [
        {
          "output_type": "stream",
          "name": "stdout",
          "text": [
            "[[0. 1. 2. 3. 4.]\n",
            " [0. 1. 2. 3. 4.]\n",
            " [0. 1. 2. 3. 4.]\n",
            " [0. 1. 2. 3. 4.]\n",
            " [0. 1. 2. 3. 4.]]\n"
          ]
        }
      ]
    },
    {
      "cell_type": "markdown",
      "metadata": {
        "id": "3421e17f"
      },
      "source": [
        "#### 38. Consider a generator function that generates 10 integers and use it to build an array (★☆☆)"
      ]
    },
    {
      "cell_type": "code",
      "metadata": {
        "id": "7336b8e4",
        "colab": {
          "base_uri": "https://localhost:8080/"
        },
        "outputId": "e5ff7cd9-d400-4d27-a529-4a01b54619e8"
      },
      "source": [
        "def gene_10int():\n",
        "  X = np.random.randint(0,100, size = 10)\n",
        "  return X\n",
        "\n",
        "print(gene_10int())"
      ],
      "execution_count": null,
      "outputs": [
        {
          "output_type": "stream",
          "name": "stdout",
          "text": [
            "[76 28 12 16 75 27 42 20 36  4]\n"
          ]
        }
      ]
    },
    {
      "cell_type": "markdown",
      "metadata": {
        "id": "483dd554"
      },
      "source": [
        "#### 39. Create a vector of size 10 with values ranging from 0 to 1, both excluded (★★☆)"
      ]
    },
    {
      "cell_type": "code",
      "metadata": {
        "id": "c89b93e7",
        "colab": {
          "base_uri": "https://localhost:8080/"
        },
        "outputId": "607057c0-acf1-4470-a7fb-65416ab81b68"
      },
      "source": [
        "Z = np.random.random(10)\n",
        "print(Z)"
      ],
      "execution_count": null,
      "outputs": [
        {
          "output_type": "stream",
          "name": "stdout",
          "text": [
            "[0.19907766 0.69785925 0.27317757 0.52696312 0.53338761 0.09260116\n",
            " 0.57043515 0.8246693  0.95673288 0.57916521]\n"
          ]
        }
      ]
    },
    {
      "cell_type": "markdown",
      "metadata": {
        "id": "2d07be1c"
      },
      "source": [
        "#### 40. Create a random vector of size 10 and sort it (★★☆)"
      ]
    },
    {
      "cell_type": "code",
      "metadata": {
        "id": "4f7cb3ad",
        "colab": {
          "base_uri": "https://localhost:8080/"
        },
        "outputId": "119c6c1d-0277-411e-9a27-dfd0c66f28c3"
      },
      "source": [
        "Z = np.random.random(10)\n",
        "Z.sort()\n",
        "print(Z)"
      ],
      "execution_count": null,
      "outputs": [
        {
          "output_type": "stream",
          "name": "stdout",
          "text": [
            "[0.0390216  0.17063945 0.18831734 0.28006073 0.56698482 0.6277131\n",
            " 0.70259308 0.76362302 0.79879399 0.87275575]\n"
          ]
        }
      ]
    },
    {
      "cell_type": "markdown",
      "metadata": {
        "id": "6415f02e"
      },
      "source": [
        "#### 41. How to sum a small array faster than np.sum? (★★☆)"
      ]
    },
    {
      "cell_type": "code",
      "metadata": {
        "id": "bb0dd942",
        "colab": {
          "base_uri": "https://localhost:8080/"
        },
        "outputId": "0581f146-18e3-4b5c-86ae-b7148169df61"
      },
      "source": [
        "Z = np.arange(10)\n",
        "np.add.reduce(Z)"
      ],
      "execution_count": null,
      "outputs": [
        {
          "output_type": "execute_result",
          "data": {
            "text/plain": [
              "45"
            ]
          },
          "metadata": {},
          "execution_count": 34
        }
      ]
    },
    {
      "cell_type": "markdown",
      "metadata": {
        "id": "fe043549"
      },
      "source": [
        "#### 42. Consider two random array A and B, check if they are equal (★★☆)"
      ]
    },
    {
      "cell_type": "code",
      "metadata": {
        "id": "3326a686",
        "colab": {
          "base_uri": "https://localhost:8080/"
        },
        "outputId": "5e8d0f98-90b8-4d85-a392-c6a97d0f9682"
      },
      "source": [
        "A = np.random.randint(1,10, size = (3,3))\n",
        "B = np.random.randint(1,10, size = (3,3))\n",
        "print('A :\\n',A,'\\n B :\\n', B)\n",
        "\n",
        "np.equal(A,B)"
      ],
      "execution_count": null,
      "outputs": [
        {
          "output_type": "stream",
          "name": "stdout",
          "text": [
            "A :\n",
            " [[5 2 9]\n",
            " [2 7 8]\n",
            " [9 7 9]] \n",
            " B :\n",
            " [[7 4 9]\n",
            " [6 9 5]\n",
            " [5 6 5]]\n"
          ]
        },
        {
          "output_type": "execute_result",
          "data": {
            "text/plain": [
              "array([[False, False,  True],\n",
              "       [False, False, False],\n",
              "       [False, False, False]])"
            ]
          },
          "metadata": {},
          "execution_count": 39
        }
      ]
    },
    {
      "cell_type": "markdown",
      "metadata": {
        "id": "cc08f71c"
      },
      "source": [
        "#### 43. Make an array immutable (read-only) (★★☆)"
      ]
    },
    {
      "cell_type": "code",
      "metadata": {
        "id": "d5cc9dbe",
        "colab": {
          "base_uri": "https://localhost:8080/",
          "height": 211
        },
        "outputId": "367f9964-f134-4e42-857a-a998b7487972"
      },
      "source": [
        "Z = np.zeros(10)\n",
        "Z.flags.writeable = False # 읽기 전용\n",
        "Z[0] = 1 # assignment destination is read-only"
      ],
      "execution_count": null,
      "outputs": [
        {
          "output_type": "error",
          "ename": "ValueError",
          "evalue": "ignored",
          "traceback": [
            "\u001b[0;31m---------------------------------------------------------------------------\u001b[0m",
            "\u001b[0;31mValueError\u001b[0m                                Traceback (most recent call last)",
            "\u001b[0;32m<ipython-input-40-93eb5aa6537b>\u001b[0m in \u001b[0;36m<module>\u001b[0;34m()\u001b[0m\n\u001b[1;32m      1\u001b[0m \u001b[0mZ\u001b[0m \u001b[0;34m=\u001b[0m \u001b[0mnp\u001b[0m\u001b[0;34m.\u001b[0m\u001b[0mzeros\u001b[0m\u001b[0;34m(\u001b[0m\u001b[0;36m10\u001b[0m\u001b[0;34m)\u001b[0m\u001b[0;34m\u001b[0m\u001b[0;34m\u001b[0m\u001b[0m\n\u001b[1;32m      2\u001b[0m \u001b[0mZ\u001b[0m\u001b[0;34m.\u001b[0m\u001b[0mflags\u001b[0m\u001b[0;34m.\u001b[0m\u001b[0mwriteable\u001b[0m \u001b[0;34m=\u001b[0m \u001b[0;32mFalse\u001b[0m \u001b[0;31m# 읽기 전용\u001b[0m\u001b[0;34m\u001b[0m\u001b[0;34m\u001b[0m\u001b[0m\n\u001b[0;32m----> 3\u001b[0;31m \u001b[0mZ\u001b[0m\u001b[0;34m[\u001b[0m\u001b[0;36m0\u001b[0m\u001b[0;34m]\u001b[0m \u001b[0;34m=\u001b[0m \u001b[0;36m1\u001b[0m\u001b[0;34m\u001b[0m\u001b[0;34m\u001b[0m\u001b[0m\n\u001b[0m",
            "\u001b[0;31mValueError\u001b[0m: assignment destination is read-only"
          ]
        }
      ]
    },
    {
      "cell_type": "markdown",
      "metadata": {
        "id": "2002cb03"
      },
      "source": [
        "#### 44. Consider a random 10x2 matrix representing cartesian coordinates, convert them to polar coordinates (★★☆)"
      ]
    },
    {
      "cell_type": "code",
      "metadata": {
        "id": "58be72bc",
        "colab": {
          "base_uri": "https://localhost:8080/"
        },
        "outputId": "65523890-48c4-4f27-986f-8a94b3b71db1"
      },
      "source": [
        "Z = np.random.randint(1,10, size = (10,2))\n",
        "X = Z[:,0] # column1 = X\n",
        "Y = Z[:,1] # column2 = Y\n",
        "\n",
        "# convert to polar\n",
        "R = np.sqrt(X**2 + Y**2)\n",
        "T = np.arctan2(Y,X) # angle\n",
        "for i in range(10):\n",
        "  print('({} , {})'.format(R[i],T[i]))"
      ],
      "execution_count": null,
      "outputs": [
        {
          "output_type": "stream",
          "name": "stdout",
          "text": [
            "(9.219544457292887 , 0.21866894587394195)\n",
            "(7.615773105863909 , 1.1659045405098132)\n",
            "(10.63014581273465 , 0.8519663271732721)\n",
            "(3.1622776601683795 , 1.2490457723982544)\n",
            "(5.0990195135927845 , 1.373400766945016)\n",
            "(8.06225774829855 , 0.5191461142465229)\n",
            "(10.0 , 0.6435011087932844)\n",
            "(5.830951894845301 , 0.5404195002705842)\n",
            "(10.0 , 0.9272952180016122)\n",
            "(10.816653826391969 , 0.5880026035475675)\n"
          ]
        }
      ]
    },
    {
      "cell_type": "markdown",
      "metadata": {
        "id": "b7109c9f"
      },
      "source": [
        "#### 45. Create random vector of size 10 and replace the maximum value by 0 (★★☆)"
      ]
    },
    {
      "cell_type": "code",
      "metadata": {
        "id": "f79e79a7",
        "colab": {
          "base_uri": "https://localhost:8080/"
        },
        "outputId": "f7713fdc-db6b-4ebb-f6e3-03dee661843b"
      },
      "source": [
        "Z = np.random.randint(1,10, size = 10)\n",
        "print(Z)\n",
        "Z[Z.argmax()] = 0\n",
        "print(Z)"
      ],
      "execution_count": null,
      "outputs": [
        {
          "output_type": "stream",
          "name": "stdout",
          "text": [
            "[7 8 1 5 2 1 9 8 6 1]\n",
            "[7 8 1 5 2 1 0 8 6 1]\n"
          ]
        }
      ]
    },
    {
      "cell_type": "markdown",
      "metadata": {
        "id": "7d3131b9"
      },
      "source": [
        "#### 46. Create a structured array with `x` and `y` coordinates covering the [0,1]x[0,1] area (★★☆)"
      ]
    },
    {
      "cell_type": "code",
      "metadata": {
        "id": "4f471afe",
        "colab": {
          "base_uri": "https://localhost:8080/"
        },
        "outputId": "7e687ba3-2fe9-4806-d865-977ebe3969b9"
      },
      "source": [
        "Z = np.zeros((5,5),[('x', float),('y',float)])\n",
        "Z['x'],Z['y'] = np.meshgrid(np.linspace(0,1,5),np.linspace(0,1,5))\n",
        "# arrange()함수는 간격을 지정하고, linspace()함수는 구간의 개수를 지정함.\n",
        "# linspace는 끝값을 포함함.\n",
        "print(Z)"
      ],
      "execution_count": 4,
      "outputs": [
        {
          "output_type": "stream",
          "name": "stdout",
          "text": [
            "[[(0.  , 0.  ) (0.25, 0.  ) (0.5 , 0.  ) (0.75, 0.  ) (1.  , 0.  )]\n",
            " [(0.  , 0.25) (0.25, 0.25) (0.5 , 0.25) (0.75, 0.25) (1.  , 0.25)]\n",
            " [(0.  , 0.5 ) (0.25, 0.5 ) (0.5 , 0.5 ) (0.75, 0.5 ) (1.  , 0.5 )]\n",
            " [(0.  , 0.75) (0.25, 0.75) (0.5 , 0.75) (0.75, 0.75) (1.  , 0.75)]\n",
            " [(0.  , 1.  ) (0.25, 1.  ) (0.5 , 1.  ) (0.75, 1.  ) (1.  , 1.  )]]\n"
          ]
        }
      ]
    },
    {
      "cell_type": "markdown",
      "metadata": {
        "id": "7c8c1fc5"
      },
      "source": [
        "#### 47. Given two arrays, X and Y, construct the Cauchy matrix C (Cij =1/(xi - yj)) (★★☆)"
      ]
    },
    {
      "cell_type": "code",
      "metadata": {
        "id": "8fac7d28",
        "colab": {
          "base_uri": "https://localhost:8080/"
        },
        "outputId": "10daf127-dd28-4e22-f95a-63e02b815f22"
      },
      "source": [
        "Y = np.array([[9, 5, 7, 9],\n",
        " [7, 4, 3, 1],\n",
        " [1, 2, 5, 9],\n",
        " [1, 8, 3, 7,]])\n",
        "X = Y + np.random.randint(1,10, size = (4,4))\n",
        "C = 1/np.subtract(X,Y)\n",
        "\n",
        "print(C)"
      ],
      "execution_count": 108,
      "outputs": [
        {
          "output_type": "stream",
          "name": "stdout",
          "text": [
            "[[0.11111111 0.125      0.125      0.33333333]\n",
            " [0.11111111 1.         0.125      0.33333333]\n",
            " [0.33333333 1.         0.5        0.25      ]\n",
            " [0.16666667 0.14285714 0.25       1.        ]]\n"
          ]
        }
      ]
    },
    {
      "cell_type": "markdown",
      "metadata": {
        "id": "5795b4bd"
      },
      "source": [
        "#### 48. Print the minimum and maximum representable value for each numpy scalar type (★★☆)"
      ]
    },
    {
      "cell_type": "code",
      "metadata": {
        "id": "b721f7ca",
        "colab": {
          "base_uri": "https://localhost:8080/"
        },
        "outputId": "abc96c9d-60d8-471b-844f-1d44903c23c7"
      },
      "source": [
        "for dtype in [np.int8, np.int32, np.int64]:\n",
        "  print(np.iinfo(dtype).min)\n",
        "  print(np.iinfo(dtype).max)\n",
        "for dtype in [ np.float32, np.float64]:\n",
        "  print(np.finfo(dtype).min)\n",
        "  print(np.finfo(dtype).max)\n",
        "  print(np.finfo(dtype).eps)"
      ],
      "execution_count": null,
      "outputs": [
        {
          "output_type": "stream",
          "name": "stdout",
          "text": [
            "-128\n",
            "127\n",
            "-2147483648\n",
            "2147483647\n",
            "-9223372036854775808\n",
            "9223372036854775807\n",
            "-3.4028235e+38\n",
            "3.4028235e+38\n",
            "1.1920929e-07\n",
            "-1.7976931348623157e+308\n",
            "1.7976931348623157e+308\n",
            "2.220446049250313e-16\n"
          ]
        }
      ]
    },
    {
      "cell_type": "markdown",
      "metadata": {
        "id": "fb24674c"
      },
      "source": [
        "#### 49. How to print all the values of an array? (★★☆)"
      ]
    },
    {
      "cell_type": "code",
      "metadata": {
        "id": "c81f1456",
        "colab": {
          "base_uri": "https://localhost:8080/"
        },
        "outputId": "629f1771-849f-467c-9e3a-ed6531712fa4"
      },
      "source": [
        "np.set_printoptions(threshold = float(\"inf\"))\n",
        "Z = np.zeros((16,16))\n",
        "print(Z)"
      ],
      "execution_count": null,
      "outputs": [
        {
          "output_type": "stream",
          "name": "stdout",
          "text": [
            "[[0. 0. 0. 0. 0. 0. 0. 0. 0. 0. 0. 0. 0. 0. 0. 0.]\n",
            " [0. 0. 0. 0. 0. 0. 0. 0. 0. 0. 0. 0. 0. 0. 0. 0.]\n",
            " [0. 0. 0. 0. 0. 0. 0. 0. 0. 0. 0. 0. 0. 0. 0. 0.]\n",
            " [0. 0. 0. 0. 0. 0. 0. 0. 0. 0. 0. 0. 0. 0. 0. 0.]\n",
            " [0. 0. 0. 0. 0. 0. 0. 0. 0. 0. 0. 0. 0. 0. 0. 0.]\n",
            " [0. 0. 0. 0. 0. 0. 0. 0. 0. 0. 0. 0. 0. 0. 0. 0.]\n",
            " [0. 0. 0. 0. 0. 0. 0. 0. 0. 0. 0. 0. 0. 0. 0. 0.]\n",
            " [0. 0. 0. 0. 0. 0. 0. 0. 0. 0. 0. 0. 0. 0. 0. 0.]\n",
            " [0. 0. 0. 0. 0. 0. 0. 0. 0. 0. 0. 0. 0. 0. 0. 0.]\n",
            " [0. 0. 0. 0. 0. 0. 0. 0. 0. 0. 0. 0. 0. 0. 0. 0.]\n",
            " [0. 0. 0. 0. 0. 0. 0. 0. 0. 0. 0. 0. 0. 0. 0. 0.]\n",
            " [0. 0. 0. 0. 0. 0. 0. 0. 0. 0. 0. 0. 0. 0. 0. 0.]\n",
            " [0. 0. 0. 0. 0. 0. 0. 0. 0. 0. 0. 0. 0. 0. 0. 0.]\n",
            " [0. 0. 0. 0. 0. 0. 0. 0. 0. 0. 0. 0. 0. 0. 0. 0.]\n",
            " [0. 0. 0. 0. 0. 0. 0. 0. 0. 0. 0. 0. 0. 0. 0. 0.]\n",
            " [0. 0. 0. 0. 0. 0. 0. 0. 0. 0. 0. 0. 0. 0. 0. 0.]]\n"
          ]
        }
      ]
    },
    {
      "cell_type": "markdown",
      "metadata": {
        "id": "e6e1ae2f"
      },
      "source": [
        "#### 50. How to find the closest value (to a given scalar) in a vector? (★★☆)"
      ]
    },
    {
      "cell_type": "code",
      "metadata": {
        "id": "73dd91cc",
        "colab": {
          "base_uri": "https://localhost:8080/"
        },
        "outputId": "59aabcd8-8ffa-4fb4-9e68-fd1150504288"
      },
      "source": [
        "Z = np.arange(100)\n",
        "v = np.random.uniform(0,100)\n",
        "print(v)\n",
        "index = (np.abs(Z-v)).argmin() # 절댓값이 가장 작은 index를 찾아 넣는다.\n",
        "print(Z[index])"
      ],
      "execution_count": null,
      "outputs": [
        {
          "output_type": "stream",
          "name": "stdout",
          "text": [
            "60.2207130541499\n",
            "60\n"
          ]
        }
      ]
    },
    {
      "cell_type": "markdown",
      "metadata": {
        "id": "c01f0ecf"
      },
      "source": [
        "#### 51. Create a structured array representing a position (x,y) and a color (r,g,b) (★★☆)"
      ]
    },
    {
      "cell_type": "code",
      "metadata": {
        "id": "fb8017ca",
        "colab": {
          "base_uri": "https://localhost:8080/"
        },
        "outputId": "be56334a-a952-4c9c-9c21-a783255e926f"
      },
      "source": [
        "Z = np.zeros(10, [('position', [('x', float),('y',float)]), \n",
        "                  ('color', [('r', float),\n",
        "                             ('g', float),\n",
        "                             ('b', float)])]) # np.zeros()를 통해 빈 배열 생성\n",
        "print(Z)"
      ],
      "execution_count": 78,
      "outputs": [
        {
          "output_type": "stream",
          "name": "stdout",
          "text": [
            "[((0., 0.), (0., 0., 0.)) ((0., 0.), (0., 0., 0.))\n",
            " ((0., 0.), (0., 0., 0.)) ((0., 0.), (0., 0., 0.))\n",
            " ((0., 0.), (0., 0., 0.)) ((0., 0.), (0., 0., 0.))\n",
            " ((0., 0.), (0., 0., 0.)) ((0., 0.), (0., 0., 0.))\n",
            " ((0., 0.), (0., 0., 0.)) ((0., 0.), (0., 0., 0.))]\n"
          ]
        }
      ]
    },
    {
      "cell_type": "markdown",
      "metadata": {
        "id": "3b64a18b"
      },
      "source": [
        "#### 52. Consider a random vector with shape (100,2) representing coordinates, find point by point distances (★★☆)"
      ]
    },
    {
      "cell_type": "code",
      "metadata": {
        "id": "4b482822",
        "colab": {
          "base_uri": "https://localhost:8080/"
        },
        "outputId": "73b183c0-944f-4239-fe14-4594d901cb1e"
      },
      "source": [
        "Z = np.random.random((10,2))\n",
        "X, Y = np.atleast_2d(Z[:,0],Z[:,1])\n",
        "D = np.sqrt((X-X.T)**2 + (Y-Y.T)**2) # ???\n",
        "print(D)"
      ],
      "execution_count": 110,
      "outputs": [
        {
          "output_type": "stream",
          "name": "stdout",
          "text": [
            "[[0.         0.8162558  0.50120559 1.06017911 0.82624544 0.18797187\n",
            "  0.93457171 0.16434868 0.29666489 0.36425106]\n",
            " [0.8162558  0.         0.54412428 0.36561593 0.48653094 0.66738971\n",
            "  0.40312575 0.65877579 0.75478508 0.45548012]\n",
            " [0.50120559 0.54412428 0.         0.6343809  0.33224363 0.31558809\n",
            "  0.86295197 0.42991693 0.27254463 0.36398777]\n",
            " [1.06017911 0.36561593 0.6343809  0.         0.37000632 0.88163452\n",
            "  0.72960105 0.92442624 0.90227063 0.73779737]\n",
            " [0.82624544 0.48653094 0.33224363 0.37000632 0.         0.63831502\n",
            "  0.88465256 0.72988331 0.60017612 0.59723073]\n",
            " [0.18797187 0.66738971 0.31558809 0.88163452 0.63831502 0.\n",
            "  0.85276218 0.14569319 0.17635227 0.24908625]\n",
            " [0.93457171 0.40312575 0.86295197 0.72960105 0.88465256 0.85276218\n",
            "  0.         0.77362209 0.99563638 0.6038716 ]\n",
            " [0.16434868 0.65877579 0.42991693 0.92442624 0.72988331 0.14569319\n",
            "  0.77362209 0.         0.3197819  0.20354053]\n",
            " [0.29666489 0.75478508 0.27254463 0.90227063 0.60017612 0.17635227\n",
            "  0.99563638 0.3197819  0.         0.39913387]\n",
            " [0.36425106 0.45548012 0.36398777 0.73779737 0.59723073 0.24908625\n",
            "  0.6038716  0.20354053 0.39913387 0.        ]]\n"
          ]
        }
      ]
    },
    {
      "cell_type": "markdown",
      "metadata": {
        "id": "48413134"
      },
      "source": [
        "#### 53. How to convert a float (32 bits) array into an integer (32 bits) in place?"
      ]
    },
    {
      "cell_type": "code",
      "metadata": {
        "id": "5db64b6d",
        "colab": {
          "base_uri": "https://localhost:8080/"
        },
        "outputId": "e23513c4-f83d-45f2-9df9-2e60cb106af6"
      },
      "source": [
        "Z = np.random.rand(1,10)*100\n",
        "Z = Z.astype(np.int32)\n",
        "print(Z)"
      ],
      "execution_count": 31,
      "outputs": [
        {
          "output_type": "stream",
          "name": "stdout",
          "text": [
            "[[74 57 56 36 91  6 13 60 43 25]]\n"
          ]
        }
      ]
    },
    {
      "cell_type": "markdown",
      "metadata": {
        "id": "0a532633"
      },
      "source": [
        "#### 54. How to read the following file? (★★☆)\n",
        "```\n",
        "1, 2, 3, 4, 5\n",
        "6,  ,  , 7, 8\n",
        " ,  , 9,10,11\n",
        "```"
      ]
    },
    {
      "cell_type": "code",
      "metadata": {
        "id": "8af4f753",
        "colab": {
          "base_uri": "https://localhost:8080/"
        },
        "outputId": "fa0bb8fc-7802-4a0b-8d51-11aacda6d9ec"
      },
      "source": [
        "from io import StringIO\n",
        "s = StringIO(\"\"\"\n",
        "1, 2, 3, 4, 5\n",
        "6,  ,  , 7, 8\n",
        " ,  , 9,10,11\n",
        "\"\"\")\n",
        "Z = np.genfromtxt(s, delimiter= ',', dtype = np.int, filling_values = 0) # filling_values으로 빈칸을 0으로 설정함. 없으면 -1로 들어감.\n",
        "print(Z)"
      ],
      "execution_count": 35,
      "outputs": [
        {
          "output_type": "stream",
          "name": "stdout",
          "text": [
            "[[ 1  2  3  4  5]\n",
            " [ 6  0  0  7  8]\n",
            " [ 0  0  9 10 11]]\n"
          ]
        },
        {
          "output_type": "stream",
          "name": "stderr",
          "text": [
            "/usr/local/lib/python3.7/dist-packages/ipykernel_launcher.py:7: DeprecationWarning: `np.int` is a deprecated alias for the builtin `int`. To silence this warning, use `int` by itself. Doing this will not modify any behavior and is safe. When replacing `np.int`, you may wish to use e.g. `np.int64` or `np.int32` to specify the precision. If you wish to review your current use, check the release note link for additional information.\n",
            "Deprecated in NumPy 1.20; for more details and guidance: https://numpy.org/devdocs/release/1.20.0-notes.html#deprecations\n",
            "  import sys\n"
          ]
        }
      ]
    },
    {
      "cell_type": "markdown",
      "metadata": {
        "id": "f98713a6"
      },
      "source": [
        "#### 55. What is the equivalent of enumerate for numpy arrays? (★★☆)"
      ]
    },
    {
      "cell_type": "code",
      "metadata": {
        "id": "64795f84",
        "colab": {
          "base_uri": "https://localhost:8080/"
        },
        "outputId": "09741e16-be91-475d-bdf5-367c61e9d7a9"
      },
      "source": [
        "# enumerate() : index와 element를 tuple로 만들어줌\n",
        "Z = np.random.randint(1,10,size=(5,5))\n",
        "for i, value in np.ndenumerate(Z): # numpy 버전의 enumerate()\n",
        "  print(i, value)\n",
        "\n",
        "for i in np.ndindex(Z.shape): # Z.shpae = (5,5)\n",
        "  print(i, Z[i])"
      ],
      "execution_count": 41,
      "outputs": [
        {
          "output_type": "stream",
          "name": "stdout",
          "text": [
            "(0, 0) 2\n",
            "(0, 1) 5\n",
            "(0, 2) 5\n",
            "(0, 3) 7\n",
            "(0, 4) 4\n",
            "(1, 0) 8\n",
            "(1, 1) 4\n",
            "(1, 2) 1\n",
            "(1, 3) 9\n",
            "(1, 4) 7\n",
            "(2, 0) 9\n",
            "(2, 1) 9\n",
            "(2, 2) 7\n",
            "(2, 3) 6\n",
            "(2, 4) 2\n",
            "(3, 0) 2\n",
            "(3, 1) 3\n",
            "(3, 2) 2\n",
            "(3, 3) 4\n",
            "(3, 4) 2\n",
            "(4, 0) 2\n",
            "(4, 1) 3\n",
            "(4, 2) 5\n",
            "(4, 3) 2\n",
            "(4, 4) 6\n",
            "(0, 0) 2\n",
            "(0, 1) 5\n",
            "(0, 2) 5\n",
            "(0, 3) 7\n",
            "(0, 4) 4\n",
            "(1, 0) 8\n",
            "(1, 1) 4\n",
            "(1, 2) 1\n",
            "(1, 3) 9\n",
            "(1, 4) 7\n",
            "(2, 0) 9\n",
            "(2, 1) 9\n",
            "(2, 2) 7\n",
            "(2, 3) 6\n",
            "(2, 4) 2\n",
            "(3, 0) 2\n",
            "(3, 1) 3\n",
            "(3, 2) 2\n",
            "(3, 3) 4\n",
            "(3, 4) 2\n",
            "(4, 0) 2\n",
            "(4, 1) 3\n",
            "(4, 2) 5\n",
            "(4, 3) 2\n",
            "(4, 4) 6\n"
          ]
        }
      ]
    },
    {
      "cell_type": "markdown",
      "metadata": {
        "id": "1abc7cc8"
      },
      "source": [
        "#### 56. Generate a generic 2D Gaussian-like array (★★☆)"
      ]
    },
    {
      "cell_type": "code",
      "metadata": {
        "id": "42e3a5bc",
        "colab": {
          "base_uri": "https://localhost:8080/"
        },
        "outputId": "4f1746e5-f55d-433b-9972-4a74ff08695c"
      },
      "source": [
        "# 정규분포인 array 만들기\n",
        "X = np.random.normal(0,1,(4,5))\n",
        "print(X)"
      ],
      "execution_count": 85,
      "outputs": [
        {
          "output_type": "stream",
          "name": "stdout",
          "text": [
            "[[-0.88549315 -1.10457948  0.93286635  2.059838   -0.93493796]\n",
            " [-1.61299022  0.52706972 -1.55110074  0.32961334 -1.13652654]\n",
            " [-0.3384906   0.32097078 -0.60230802  1.54472836  0.64703408]\n",
            " [ 0.59321721  0.4380245   1.35778902  1.20451128  1.35179619]]\n"
          ]
        }
      ]
    },
    {
      "cell_type": "markdown",
      "metadata": {
        "id": "0cf413ee"
      },
      "source": [
        "#### 57. How to randomly place p elements in a 2D array? (★★☆)"
      ]
    },
    {
      "cell_type": "code",
      "metadata": {
        "id": "dfc57e06",
        "colab": {
          "base_uri": "https://localhost:8080/"
        },
        "outputId": "9aff8dfa-c284-4a2b-9e40-edf730a09ce7"
      },
      "source": [
        "def rand_lota(n,p):\n",
        "  Z = np.zeros((n,n))\n",
        "  a = np.random.choice(range(n*n), p, replace = False) # a는 element가 p개인 array\n",
        "  np.put(Z, a, 2)\n",
        "  print(Z)\n",
        "\n",
        "rand_lota(10,4)"
      ],
      "execution_count": 75,
      "outputs": [
        {
          "output_type": "stream",
          "name": "stdout",
          "text": [
            "[[0. 0. 0. 0. 0. 0. 0. 2. 0. 0.]\n",
            " [0. 2. 0. 0. 0. 0. 0. 0. 0. 0.]\n",
            " [0. 0. 0. 0. 0. 0. 0. 0. 0. 0.]\n",
            " [0. 0. 0. 0. 0. 0. 0. 0. 0. 0.]\n",
            " [0. 0. 0. 0. 0. 0. 0. 0. 0. 0.]\n",
            " [2. 0. 0. 0. 0. 0. 0. 0. 0. 0.]\n",
            " [0. 0. 0. 0. 0. 0. 0. 0. 0. 0.]\n",
            " [0. 0. 0. 0. 0. 0. 0. 0. 0. 0.]\n",
            " [0. 0. 0. 0. 0. 0. 0. 0. 0. 0.]\n",
            " [0. 0. 0. 0. 0. 0. 2. 0. 0. 0.]]\n"
          ]
        }
      ]
    },
    {
      "cell_type": "markdown",
      "metadata": {
        "id": "215b6acc"
      },
      "source": [
        "#### 58. Subtract the mean of each row of a matrix (★★☆)"
      ]
    },
    {
      "cell_type": "code",
      "metadata": {
        "id": "dd1adef4",
        "colab": {
          "base_uri": "https://localhost:8080/"
        },
        "outputId": "bed9bae7-a179-4131-a4d9-b2ad1669f161"
      },
      "source": [
        "np.random.seed(20) \n",
        "X = np.random.randint(1,10,size = (5,3))\n",
        "print(X)\n",
        "print(X.mean(axis = 1))"
      ],
      "execution_count": 81,
      "outputs": [
        {
          "output_type": "stream",
          "name": "stdout",
          "text": [
            "[[4 5 7]\n",
            " [8 3 1]\n",
            " [7 9 6]\n",
            " [4 1 7]\n",
            " [7 1 6]]\n",
            "[5.33333333 4.         7.33333333 4.         4.66666667]\n"
          ]
        }
      ]
    },
    {
      "cell_type": "markdown",
      "metadata": {
        "id": "c0cf37e0"
      },
      "source": [
        "#### 59. How to sort an array by the nth column? (★★☆)"
      ]
    },
    {
      "cell_type": "code",
      "metadata": {
        "id": "9336ca5f",
        "colab": {
          "base_uri": "https://localhost:8080/"
        },
        "outputId": "7ebba1b5-b491-4810-cadf-c3222290ea25"
      },
      "source": [
        "np.random.seed(20) \n",
        "X = np.random.randint(1,10,size = (3,3))\n",
        "print(X)\n",
        "X = X[X[:,0].argsort()] # col1을 기준으로 크기순대로 정렬\n",
        "print(X)\n",
        "X = X[X[:,1].argsort()] # col2을 기준으로 크기순대로 정렬\n",
        "print(X)\n",
        "X = X[X[:,2].argsort()] # col3을 기준으로 크기순대로 정렬\n",
        "print(X)"
      ],
      "execution_count": 3,
      "outputs": [
        {
          "output_type": "stream",
          "name": "stdout",
          "text": [
            "[[4 5 7]\n",
            " [8 3 1]\n",
            " [7 9 6]]\n",
            "[[4 5 7]\n",
            " [7 9 6]\n",
            " [8 3 1]]\n",
            "[[8 3 1]\n",
            " [4 5 7]\n",
            " [7 9 6]]\n",
            "[[8 3 1]\n",
            " [7 9 6]\n",
            " [4 5 7]]\n"
          ]
        }
      ]
    },
    {
      "cell_type": "markdown",
      "metadata": {
        "id": "c17fb213"
      },
      "source": [
        "#### 60. How to tell if a given 2D array has null columns? (★★☆)"
      ]
    },
    {
      "cell_type": "code",
      "metadata": {
        "id": "7fdda78d",
        "colab": {
          "base_uri": "https://localhost:8080/"
        },
        "outputId": "5f790278-ea9f-49aa-dfaa-b408992ffd0a"
      },
      "source": [
        "Z = np.random.randint(0,3,(5,5))\n",
        "print(Z)\n",
        "print(np.isnan(Z).any(axis=1)) # 행을 축으로 NaN값이 있으면 True, 없으면 False"
      ],
      "execution_count": 15,
      "outputs": [
        {
          "output_type": "stream",
          "name": "stdout",
          "text": [
            "[[1 1 2 1 2]\n",
            " [0 2 0 1 0]\n",
            " [1 0 0 1 2]\n",
            " [2 1 1 0 1]\n",
            " [1 0 0 2 2]]\n",
            "[False False False False False]\n"
          ]
        }
      ]
    },
    {
      "cell_type": "markdown",
      "metadata": {
        "id": "8aaab886"
      },
      "source": [
        "#### 61. Find the nearest value from a given value in an array (★★☆)"
      ]
    },
    {
      "cell_type": "code",
      "metadata": {
        "id": "973f8079",
        "colab": {
          "base_uri": "https://localhost:8080/"
        },
        "outputId": "a776d131-c039-4e31-e1c2-7fc54b47b2ed"
      },
      "source": [
        "Z = np.random.uniform(0,1,10)\n",
        "print(Z)\n",
        "z = 0.5 # 지정된 값\n",
        "near = Z.flat[np.abs(Z-z).argmin()] # flat : latten method를 적용한 후의 1차 array에 indexing을 한다.\n",
        "print(near)"
      ],
      "execution_count": 23,
      "outputs": [
        {
          "output_type": "stream",
          "name": "stdout",
          "text": [
            "[0.75871913 0.85880213 0.68166244 0.92987793 0.74206941 0.69191226\n",
            " 0.29494636 0.65548598 0.39357368 0.90070834]\n",
            "0.3935736786310503\n"
          ]
        }
      ]
    },
    {
      "cell_type": "markdown",
      "metadata": {
        "id": "66a04e2e"
      },
      "source": [
        "#### 62. Considering two arrays with shape (1,3) and (3,1), how to compute their sum using an iterator? (★★☆)"
      ]
    },
    {
      "cell_type": "code",
      "metadata": {
        "id": "4b356632",
        "colab": {
          "base_uri": "https://localhost:8080/"
        },
        "outputId": "8db6f09d-942a-4ec5-9982-b46f4df370f2"
      },
      "source": [
        "A = np.random.randint(0,10,(1,3))\n",
        "B = np.random.randint(0,10,(3,1))\n",
        "it = np.nditer([A,B,None]) # 배열의 모든 요소 방문\n",
        "print(A)\n",
        "print(B)\n",
        "for x, y, z in it:\n",
        "  z[...] = x + y # '...'는 생략 부호. slicing 할 때':'과 비슷한 용도로 사용 가능\n",
        "print(it.operands[2]) # operands : tuple of operands. None의 인덱스가 2라서 2"
      ],
      "execution_count": 36,
      "outputs": [
        {
          "output_type": "stream",
          "name": "stdout",
          "text": [
            "[[2 6 0]]\n",
            "[[9]\n",
            " [3]\n",
            " [6]]\n",
            "[[11 15  9]\n",
            " [ 5  9  3]\n",
            " [ 8 12  6]]\n"
          ]
        }
      ]
    },
    {
      "cell_type": "markdown",
      "metadata": {
        "id": "f4427f7f"
      },
      "source": [
        "#### 63. Create an array class that has a name attribute (★★☆)"
      ]
    },
    {
      "cell_type": "code",
      "metadata": {
        "id": "fe253212",
        "colab": {
          "base_uri": "https://localhost:8080/"
        },
        "outputId": "b91ade99-2db0-4512-8236-acbab8c2bd47"
      },
      "source": [
        "class NamedArray(np.ndarray):\n",
        "  def __new__(cls, array, name = \"no name\"): # 인스턴스가 소멸될 때 호출되는 함수 : 소멸자 __func__\n",
        "    obj = np.asarray(array).view(cls)\n",
        "    obj.name = name\n",
        "    return obj\n",
        "  \n",
        "  def __array_finalize__(self, obj): \n",
        "    if obj is None: return \n",
        "    self.info = getattr(obj, 'name', \"no name\") # object에 존재하는 속성의 값을 가져온다.\n",
        "\n",
        "Z = NamedArray(np.arange(10), \"range_10\") # \"range_10\"가 없으면 \"no name\"이 출력\n",
        "print(Z.name)\n"
      ],
      "execution_count": 44,
      "outputs": [
        {
          "output_type": "stream",
          "name": "stdout",
          "text": [
            "no name\n"
          ]
        }
      ]
    },
    {
      "cell_type": "markdown",
      "metadata": {
        "id": "58be9dd4"
      },
      "source": [
        "#### 64. Consider a given vector, how to add 1 to each element indexed by a second vector (be careful with repeated indices)? (★★★)"
      ]
    },
    {
      "cell_type": "code",
      "metadata": {
        "id": "5c8bae42",
        "colab": {
          "base_uri": "https://localhost:8080/"
        },
        "outputId": "c6937605-5aa3-4ed9-d874-1d90933e5284"
      },
      "source": [
        "Z = np.ones(10) # a given vector\n",
        "I = np.random.randint(0,len(Z), 20) # a second vector\n",
        "print(Z)\n",
        "print(I)\n",
        "print(np.bincount(I, minlength = len(Z)))\n",
        "Z += np.bincount(I, minlength = len(Z)) # numpy.bincount(arr, weights = None, min_len = 0) : 각각의 빈도수를 카운트하는데 사용되는 메소드\n",
        "print(Z)"
      ],
      "execution_count": 48,
      "outputs": [
        {
          "output_type": "stream",
          "name": "stdout",
          "text": [
            "[1. 1. 1. 1. 1. 1. 1. 1. 1. 1.]\n",
            "[1 3 1 5 2 7 2 1 2 2 4 2 6 1 6 8 5 3 2 8]\n",
            "[0 4 6 2 1 2 2 1 2 0]\n",
            "[1. 5. 7. 3. 2. 3. 3. 2. 3. 1.]\n"
          ]
        }
      ]
    },
    {
      "cell_type": "markdown",
      "metadata": {
        "id": "7348abd0"
      },
      "source": [
        "#### 65. How to accumulate elements of a vector (X) to an array (F) based on an index list (I)? (★★★)"
      ]
    },
    {
      "cell_type": "code",
      "metadata": {
        "id": "b3e33a5a",
        "colab": {
          "base_uri": "https://localhost:8080/"
        },
        "outputId": "4938ae4b-0937-4b44-d01f-4c6c458948c4"
      },
      "source": [
        "X = np.arange(7)\n",
        "I = np.random.randint(0,len(X), len(X))\n",
        "F = np.bincount(I,X)\n",
        "print(X)\n",
        "print(I)\n",
        "print(F)"
      ],
      "execution_count": 56,
      "outputs": [
        {
          "output_type": "stream",
          "name": "stdout",
          "text": [
            "[0 1 2 3 4 5 6]\n",
            "[4 0 3 4 5 6 3]\n",
            "[1. 0. 0. 8. 3. 4. 5.]\n"
          ]
        }
      ]
    },
    {
      "cell_type": "markdown",
      "metadata": {
        "id": "538e651c"
      },
      "source": [
        "#### 66. Considering a (w,h,3) image of (dtype=ubyte), compute the number of unique colors (★★☆)"
      ]
    },
    {
      "cell_type": "code",
      "metadata": {
        "id": "57f2f02f",
        "colab": {
          "base_uri": "https://localhost:8080/"
        },
        "outputId": "6a006fc2-c7bf-491b-b5e1-633c7af17d85"
      },
      "source": [
        "np.random.seed(20) \n",
        "w, h = 16, 16\n",
        "I = np.random.randint(0,2,(h,w,3)).astype(np.ubyte) # (w, h, 3) 크기의 byte 이미지 생성. I는 3차원 배열\n",
        "F = I[...,0]*(256**2) + I[...,1]*256 + I[...,2] # '...' 대신 ':,:'를 넣어도 됨. \n",
        "n = len(np.unique(F)) # np.unique : 중복된 요소를 제외하고 고유한 요소들을 리턴\n",
        "print(n) # 3차원 RGB 이미지의 고유 색상의 개수 계산"
      ],
      "execution_count": 77,
      "outputs": [
        {
          "output_type": "stream",
          "name": "stdout",
          "text": [
            "8\n"
          ]
        }
      ]
    }
  ]
}