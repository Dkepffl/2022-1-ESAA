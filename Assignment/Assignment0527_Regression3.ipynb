{
  "nbformat": 4,
  "nbformat_minor": 0,
  "metadata": {
    "colab": {
      "name": "Assignment0527_Regression3.ipynb",
      "provenance": [],
      "collapsed_sections": [],
      "authorship_tag": "ABX9TyOcBm9f+goKki/CKWgAjfH5",
      "include_colab_link": true
    },
    "kernelspec": {
      "name": "python3",
      "display_name": "Python 3"
    },
    "language_info": {
      "name": "python"
    }
  },
  "cells": [
    {
      "cell_type": "markdown",
      "metadata": {
        "id": "view-in-github",
        "colab_type": "text"
      },
      "source": [
        "<a href=\"https://colab.research.google.com/github/Dkepffl/2022-1-ESAA/blob/main/Assignment/Assignment0527_Regression3.ipynb\" target=\"_parent\"><img src=\"https://colab.research.google.com/assets/colab-badge.svg\" alt=\"Open In Colab\"/></a>"
      ]
    },
    {
      "cell_type": "code",
      "source": [
        "# import package\n",
        "import numpy as np\n",
        "import matplotlib.pyplot as plt\n",
        "import pandas as pd\n",
        "import seaborn as sns\n",
        "from scipy import stats\n",
        "from sklearn.datasets import load_boston\n",
        "%matplotlib inline"
      ],
      "metadata": {
        "id": "ScL1LdLaFDDS"
      },
      "execution_count": 5,
      "outputs": []
    },
    {
      "cell_type": "code",
      "source": [
        "import warnings\n",
        "warnings.filterwarnings('ignore')"
      ],
      "metadata": {
        "id": "TQowCN0wFIEi"
      },
      "execution_count": 6,
      "outputs": []
    },
    {
      "cell_type": "markdown",
      "source": [
        "## **06 규제 선형 모델 - 릿지, 라쏘, 엘라스틱넷**\n",
        "____\n"
      ],
      "metadata": {
        "id": "-qhEgqYv8fjz"
      }
    },
    {
      "cell_type": "markdown",
      "source": [
        "### | **규제 선형 모델의 개요**\n",
        "___\n",
        "- 회귀 모델은 적절히 데이터에 적합하면서도 회귀 계수가 기하급수적으로 커지는 것을 제어할 수 있어야 한다.\n",
        "- 이전까지는 선형 모델의 비용 함수는 RSS(실제 값과 예측값의 차이)를 최소화하는 것만 고려했다. 그러다보니 학습 데이터에 지나치게 맞추게 되고, 회귀 계수가 쉽게 커졌다. 이렇게 되면 변동성이 심해져 테스트 데이터셋에서 예측 성능이 저하된다.\n",
        "- Cost 함수는 학습 데이터의 잔차 오류 값을 최소로 하는 **RSS 최소화 방법**과 과적합을 방지하기 위해 **회귀 계수가 커지지 않도록 하는 방법**이 **균형**을 이루도록 구성되어야 한다.\n",
        "- 비용 함수의 목표 :\n",
        "$$ Min(RSS(W) + alpha*||W||^2_2 )$$\n",
        "  + alpha : 학습 데이터 적합 정도와 회귀 계수 값의 크기를 제어하는 튜닝 파라미터\n",
        "  + 위 식을 최소화하는 W 벡터를 찾는 것이 비용 함수의 목표이다.\n",
        "  + alpha가 0(또는 매우 작은 값)이라면 비용 함수는 기존과 동일한 $Min(RSS(W) + 0)$이다.\n",
        "  + alpha가 무한대(또는 매우 큰 값)라면 비용 함수는 $RSS(W)$에 비해 $alpha*||W||^2_2$ 값이 너무 커지게 된다. 따라서 W 값을 0으로 혹은 매우 작게 만들어야 비용 함수가 최소화될 수 있다.\n",
        "  + 즉, alpha 값을 크게 하면 회귀 계수 W의 값이 작아져 과적합을 개선하며, 작게 하면, 회귀 계수 W 값이 커져도 어느 정도 상쇄가 가능해 학습 데이터 적합 정도를 개선할 수 있따.\n",
        "- 이처럼 alpha 값으로 페널티를 부여해 회귀 계수 값의 크기를 감소시켜 과적합을 개선하는 방식을 **규제(Regularization)**라고 한다.\n",
        "- 규제는 크게 L2 방식과 L1 방식으로 구분된다.\n",
        "  1. **L2 규제** : $alpha*||W||^2_2$와 같이 W의 제곱에 페널티를 부여하는 방식. 이를 적용한 회귀를 **릿지(Ridge)** 회귀라고 한다.\n",
        "  2. **L1 규제** : $alpha*||W||_1$와 같이 W의 절댓값에 대해 페널티를 부여한다. 이를 적용한 회귀를 **라쏘(Lasso)** 회귀라고 한다. L1 규제를 적용하게 되면 영향력이 크지 않은 회귀 계수 값은 0이 된다."
      ],
      "metadata": {
        "id": "JSiap1vlzbGp"
      }
    },
    {
      "cell_type": "markdown",
      "source": [
        "### | **릿지 회귀**\n",
        "___\n",
        "- 사이킷런의 `Ridge` 클래스는 릿지 회귀를 구현한다.\n",
        "- `Ridge` 클래스의 주요 생성 파라미터는 `alpha`이며, 릿지 회귀의 alpha L2 규제 계수를 의미한다.\n",
        "- 앞 예제의 보스턴 주택 가격을 `Ridge` 클래스를 이용해 다시 예측하고, 예측 성능을 `corss_val_score()`로 평가한다.\n",
        "- 이때 앞에서 만든 Feature 데이터셋인 `X_data`와 Target 데이터셋인 `y_target`을 그대로 이용한다."
      ],
      "metadata": {
        "id": "iHW58gsVcxSd"
      }
    },
    {
      "cell_type": "code",
      "source": [
        "# 앞의 LinearRegression 예제에서 분할한 feature 데이터셋인 X_data과 Target 데이터셋인 Y_target 데이터셋을 그대로 이용 \n",
        "from sklearn.linear_model import Ridge\n",
        "from sklearn.model_selection import cross_val_score\n",
        "\n",
        "# boston 데이터셋 로드\n",
        "boston = load_boston()\n",
        "\n",
        "# boston 데이터셋을 DataFrame으로 변환 \n",
        "bostonDF = pd.DataFrame(boston.data, columns = boston.feature_names)\n",
        "\n",
        "# boston dataset의 target array는 주택 가격 \n",
        "# PRICE Column으로 DataFrame에 추가\n",
        "bostonDF['PRICE'] = boston.target\n",
        "print('Boston 데이타셋 크기 : ', bostonDF.shape)\n",
        "\n",
        "# Target/Feature 데이터셋\n",
        "y_target = bostonDF['PRICE']\n",
        "X_data = bostonDF.drop(['PRICE'], axis = 1, inplace = False)\n",
        "\n",
        "# model fitting\n",
        "ridge = Ridge(alpha = 10)\n",
        "# model test\n",
        "neg_mse_scores = cross_val_score(ridge, X_data, y_target, scoring = \"neg_mean_squared_error\", cv = 5)\n",
        "rmse_scores  = np.sqrt(-1 * neg_mse_scores)\n",
        "avg_rmse = np.mean(rmse_scores)\n",
        "\n",
        "print(' 5 folds 의 개별 Negative MSE scores : ', np.round(neg_mse_scores, 3))\n",
        "print(' 5 folds 의 개별 RMSE scores : ', np.round(rmse_scores, 3))\n",
        "print(' 5 folds 의 평균 RMSE : {0:.3f} '.format(avg_rmse))"
      ],
      "metadata": {
        "colab": {
          "base_uri": "https://localhost:8080/"
        },
        "id": "io5IQFmBFe2p",
        "outputId": "7fc5d5e8-7c0b-4491-d7fd-c7707f92a3fc"
      },
      "execution_count": 7,
      "outputs": [
        {
          "output_type": "stream",
          "name": "stdout",
          "text": [
            "Boston 데이타셋 크기 :  (506, 14)\n",
            " 5 folds 의 개별 Negative MSE scores :  [-11.422 -24.294 -28.144 -74.599 -28.517]\n",
            " 5 folds 의 개별 RMSE scores :  [3.38  4.929 5.305 8.637 5.34 ]\n",
            " 5 folds 의 평균 RMSE : 5.518 \n"
          ]
        }
      ]
    },
    {
      "cell_type": "markdown",
      "source": [
        "- 릿지의 5개 폴드 세트의 평균 RMSE는 5.518이다. 앞에서 학습한 규제가 없는 LinearRegression의 평균 RMSE 값인 5.829보다 작은 값으로, 더 뛰어난 예측 성능을 보여준다는 것을 알 수 있다.\n",
        "- 이번에는 릿지의 `alpha` 값을 0, 0.1, 1, 10, 100으로 변화시키면서 RMSE와 회귀 계수 값의 변화를 살펴본다.\n",
        "- alpha 값을 변할 때 RMSE와 각 Feature의 회귀 계수가 달라지는 것을 시각화하고, 그 값을 DataFrame에 저장하는 예제이다.\n",
        "- 먼저 alpha 값의 변화에 따른 5 폴드의 평균 RMSE 값을 반환하는 코드부터 작성해보자."
      ],
      "metadata": {
        "id": "q1utbui1GNlz"
      }
    },
    {
      "cell_type": "code",
      "source": [
        "# alpha값을 0, 0.1, 1, 10, 100 으로 변경하면서 RMSE 측정\n",
        "\n",
        "# Ridge에 사용될 alpha 파라미터의 값들을 정의\n",
        "alphas = [0, 0.1, 1, 10, 100]\n",
        "\n",
        "# alphas list 값을 반복하면서 alpha에 따른 평균 rmse 구함\n",
        "for alpha in alphas :\n",
        "    ridge = Ridge(alpha = alpha)\n",
        "\n",
        "    # cross_val_score를 이용하여 5 fold의 평균 RMSE 계산\n",
        "    neg_mse_scores = cross_val_score(ridge, X_data, y_target, scoring = \"neg_mean_squared_error\", cv = 5)\n",
        "    avg_rmse = np.mean(np.sqrt(-1 * neg_mse_scores))\n",
        "    print('alpha {0} 일 때 5 folds의 평균 RMSE : {1:.3f} '.format(alpha,avg_rmse))"
      ],
      "metadata": {
        "colab": {
          "base_uri": "https://localhost:8080/"
        },
        "id": "jHyuyBmsG9rE",
        "outputId": "359c96c1-5cd3-4296-c297-ab88f818f499"
      },
      "execution_count": 10,
      "outputs": [
        {
          "output_type": "stream",
          "name": "stdout",
          "text": [
            "alpha 0 일 때 5 folds의 평균 RMSE : 5.829 \n",
            "alpha 0.1 일 때 5 folds의 평균 RMSE : 5.788 \n",
            "alpha 1 일 때 5 folds의 평균 RMSE : 5.653 \n",
            "alpha 10 일 때 5 folds의 평균 RMSE : 5.518 \n",
            "alpha 100 일 때 5 folds의 평균 RMSE : 5.330 \n"
          ]
        }
      ]
    },
    {
      "cell_type": "markdown",
      "source": [
        "- alpha가 100일 때, 평균 RMSE가 5.330으로 가장 작다.\n",
        "- 이번에는 alpha 값의 변화에 따른 Feature의 회귀 계수 값을 가로 막대 그래프로 시각화해본다.\n",
        "- 회귀 계수를 Ridge 객체의 `coef_` 속성에서 추출한 후, Series 객체로 만들고, `Seaborn`의 가로 막대 차트로 표시하고, DataFrame에 alpha 값 별 회귀 계수를 저장한다. "
      ],
      "metadata": {
        "id": "WER5BTqrHWQJ"
      }
    },
    {
      "cell_type": "code",
      "source": [
        "# alpha 값 별 회귀 계수 값을 시각화하기 위해, 5개의 열로 된 matplotlib 축 생성  \n",
        "fig, axs = plt.subplots(figsize = (18 ,6) , nrows = 1 , ncols = 5)\n",
        "\n",
        "# alpha 값 별 회귀 계수 값을 저장하기 위한 빈 DataFrame 생성  \n",
        "coeff_df = pd.DataFrame()\n",
        "\n",
        "# alphas 리스트 값을 차례로 입력해 회귀 계수 값 시각화 및 데이터 저장\n",
        "# pos는 axis의 위치 지정\n",
        "for pos , alpha in enumerate(alphas) :\n",
        "    # model fitting\n",
        "    ridge = Ridge(alpha = alpha)\n",
        "    ridge.fit(X_data, y_target)\n",
        "\n",
        "    # alpha에 따른 Feature 별 회귀 계수를 Series로 변환하고 이를 DataFrame의 컬럼으로 추가 \n",
        "    coeff = pd.Series(data = ridge.coef_, index = X_data.columns )\n",
        "    colname = 'alpha : ' + str(alpha) # Column 이름 설정\n",
        "    coeff_df[colname] = coeff\n",
        "\n",
        "    # 막대 그래프로 각 alpha 값에서의 회귀 계수를 시각화\n",
        "    coeff = coeff.sort_values(ascending = False) # 회귀 계수 값이 높은 순으로 표현\n",
        "    axs[pos].set_title(colname)\n",
        "    axs[pos].set_xlim(-3 ,6)\n",
        "    sns.barplot(x = coeff.values , y = coeff.index, ax = axs[pos])\n",
        "\n",
        "# for 문 밖에서 matplotlib의 show() 호출\n",
        "plt.show()"
      ],
      "metadata": {
        "colab": {
          "base_uri": "https://localhost:8080/",
          "height": 390
        },
        "id": "afqAdj0AH7Et",
        "outputId": "a2e0ebbc-28b0-4b9d-f9c6-78e11bcb0d52"
      },
      "execution_count": 12,
      "outputs": [
        {
          "output_type": "display_data",
          "data": {
            "text/plain": [
              "<Figure size 1296x432 with 5 Axes>"
            ],
            "image/png": "[encoded data removed]"
          },
          "metadata": {
            "needs_background": "light"
          }
        }
      ]
    },
    {
      "cell_type": "markdown",
      "source": [
        "- alpha 값을 증가시킬수록 회귀 계수 값이 작아진다. 특히 Nox Feature의 경우, alpha 값을 증가함에 따라, 회귀 계수가 눈에 띄게 작아진다."
      ],
      "metadata": {
        "id": "sxNTVOUGI7_Q"
      }
    },
    {
      "cell_type": "code",
      "source": [
        "# alpha에 따른 Feature 별 회귀 계수를 DataFrame으로 변환\n",
        "ridge_alphas = [0, 0.1, 1, 10, 100]\n",
        "sort_column = 'alpha : ' + str(ridge_alphas[0])\n",
        "coeff_df.sort_values(by = sort_column, ascending = False)"
      ],
      "metadata": {
        "colab": {
          "base_uri": "https://localhost:8080/",
          "height": 457
        },
        "id": "2TNlbyadIxF8",
        "outputId": "bfc41c70-5f7f-4cf2-9ccc-73e7f1e2757a"
      },
      "execution_count": 13,
      "outputs": [
        {
          "output_type": "execute_result",
          "data": {
            "text/plain": [
              "         alpha : 0  alpha : 0.1  alpha : 1  alpha : 10  alpha : 100\n",
              "RM        3.809865     3.818233   3.854000    3.702272     2.334536\n",
              "CHAS      2.686734     2.670019   2.552393    1.952021     0.638335\n",
              "RAD       0.306049     0.303515   0.290142    0.279596     0.315358\n",
              "ZN        0.046420     0.046572   0.047443    0.049579     0.054496\n",
              "INDUS     0.020559     0.015999  -0.008805   -0.042962    -0.052826\n",
              "B         0.009312     0.009368   0.009673    0.010037     0.009393\n",
              "AGE       0.000692    -0.000269  -0.005415   -0.010707     0.001212\n",
              "TAX      -0.012335    -0.012421  -0.012912   -0.013993    -0.015856\n",
              "CRIM     -0.108011    -0.107474  -0.104595   -0.101435    -0.102202\n",
              "LSTAT    -0.524758    -0.525966  -0.533343   -0.559366    -0.660764\n",
              "PTRATIO  -0.952747    -0.940759  -0.876074   -0.797945    -0.829218\n",
              "DIS      -1.475567    -1.459626  -1.372654   -1.248808    -1.153390\n",
              "NOX     -17.766611   -16.684645 -10.777015   -2.371619    -0.262847"
            ],
            "text/html": [
              "\n",
              "  <div id=\"df-b928de64-6891-4e1c-acd1-0bfaa43d695e\">\n",
              "    <div class=\"colab-df-container\">\n",
              "      <div>\n",
              "<style scoped>\n",
              "    .dataframe tbody tr th:only-of-type {\n",
              "        vertical-align: middle;\n",
              "    }\n",
              "\n",
              "    .dataframe tbody tr th {\n",
              "        vertical-align: top;\n",
              "    }\n",
              "\n",
              "    .dataframe thead th {\n",
              "        text-align: right;\n",
              "    }\n",
              "</style>\n",
              "<table border=\"1\" class=\"dataframe\">\n",
              "  <thead>\n",
              "    <tr style=\"text-align: right;\">\n",
              "      <th></th>\n",
              "      <th>alpha : 0</th>\n",
              "      <th>alpha : 0.1</th>\n",
              "      <th>alpha : 1</th>\n",
              "      <th>alpha : 10</th>\n",
              "      <th>alpha : 100</th>\n",
              "    </tr>\n",
              "  </thead>\n",
              "  <tbody>\n",
              "    <tr>\n",
              "      <th>RM</th>\n",
              "      <td>3.809865</td>\n",
              "      <td>3.818233</td>\n",
              "      <td>3.854000</td>\n",
              "      <td>3.702272</td>\n",
              "      <td>2.334536</td>\n",
              "    </tr>\n",
              "    <tr>\n",
              "      <th>CHAS</th>\n",
              "      <td>2.686734</td>\n",
              "      <td>2.670019</td>\n",
              "      <td>2.552393</td>\n",
              "      <td>1.952021</td>\n",
              "      <td>0.638335</td>\n",
              "    </tr>\n",
              "    <tr>\n",
              "      <th>RAD</th>\n",
              "      <td>0.306049</td>\n",
              "      <td>0.303515</td>\n",
              "      <td>0.290142</td>\n",
              "      <td>0.279596</td>\n",
              "      <td>0.315358</td>\n",
              "    </tr>\n",
              "    <tr>\n",
              "      <th>ZN</th>\n",
              "      <td>0.046420</td>\n",
              "      <td>0.046572</td>\n",
              "      <td>0.047443</td>\n",
              "      <td>0.049579</td>\n",
              "      <td>0.054496</td>\n",
              "    </tr>\n",
              "    <tr>\n",
              "      <th>INDUS</th>\n",
              "      <td>0.020559</td>\n",
              "      <td>0.015999</td>\n",
              "      <td>-0.008805</td>\n",
              "      <td>-0.042962</td>\n",
              "      <td>-0.052826</td>\n",
              "    </tr>\n",
              "    <tr>\n",
              "      <th>B</th>\n",
              "      <td>0.009312</td>\n",
              "      <td>0.009368</td>\n",
              "      <td>0.009673</td>\n",
              "      <td>0.010037</td>\n",
              "      <td>0.009393</td>\n",
              "    </tr>\n",
              "    <tr>\n",
              "      <th>AGE</th>\n",
              "      <td>0.000692</td>\n",
              "      <td>-0.000269</td>\n",
              "      <td>-0.005415</td>\n",
              "      <td>-0.010707</td>\n",
              "      <td>0.001212</td>\n",
              "    </tr>\n",
              "    <tr>\n",
              "      <th>TAX</th>\n",
              "      <td>-0.012335</td>\n",
              "      <td>-0.012421</td>\n",
              "      <td>-0.012912</td>\n",
              "      <td>-0.013993</td>\n",
              "      <td>-0.015856</td>\n",
              "    </tr>\n",
              "    <tr>\n",
              "      <th>CRIM</th>\n",
              "      <td>-0.108011</td>\n",
              "      <td>-0.107474</td>\n",
              "      <td>-0.104595</td>\n",
              "      <td>-0.101435</td>\n",
              "      <td>-0.102202</td>\n",
              "    </tr>\n",
              "    <tr>\n",
              "      <th>LSTAT</th>\n",
              "      <td>-0.524758</td>\n",
              "      <td>-0.525966</td>\n",
              "      <td>-0.533343</td>\n",
              "      <td>-0.559366</td>\n",
              "      <td>-0.660764</td>\n",
              "    </tr>\n",
              "    <tr>\n",
              "      <th>PTRATIO</th>\n",
              "      <td>-0.952747</td>\n",
              "      <td>-0.940759</td>\n",
              "      <td>-0.876074</td>\n",
              "      <td>-0.797945</td>\n",
              "      <td>-0.829218</td>\n",
              "    </tr>\n",
              "    <tr>\n",
              "      <th>DIS</th>\n",
              "      <td>-1.475567</td>\n",
              "      <td>-1.459626</td>\n",
              "      <td>-1.372654</td>\n",
              "      <td>-1.248808</td>\n",
              "      <td>-1.153390</td>\n",
              "    </tr>\n",
              "    <tr>\n",
              "      <th>NOX</th>\n",
              "      <td>-17.766611</td>\n",
              "      <td>-16.684645</td>\n",
              "      <td>-10.777015</td>\n",
              "      <td>-2.371619</td>\n",
              "      <td>-0.262847</td>\n",
              "    </tr>\n",
              "  </tbody>\n",
              "</table>\n",
              "</div>\n",
              "      <button class=\"colab-df-convert\" onclick=\"convertToInteractive('df-b928de64-6891-4e1c-acd1-0bfaa43d695e')\"\n",
              "              title=\"Convert this dataframe to an interactive table.\"\n",
              "              style=\"display:none;\">\n",
              "        \n",
              "  <svg xmlns=\"http://www.w3.org/2000/svg\" height=\"24px\"viewBox=\"0 0 24 24\"\n",
              "       width=\"24px\">\n",
              "    <path d=\"M0 0h24v24H0V0z\" fill=\"none\"/>\n",
              "    <path d=\"M18.56 5.44l.94 2.06.94-2.06 2.06-.94-2.06-.94-.94-2.06-.94 2.06-2.06.94zm-11 1L8.5 8.5l.94-2.06 2.06-.94-2.06-.94L8.5 2.5l-.94 2.06-2.06.94zm10 10l.94 2.06.94-2.06 2.06-.94-2.06-.94-.94-2.06-.94 2.06-2.06.94z\"/><path d=\"M17.41 7.96l-1.37-1.37c-.4-.4-.92-.59-1.43-.59-.52 0-1.04.2-1.43.59L10.3 9.45l-7.72 7.72c-.78.78-.78 2.05 0 2.83L4 21.41c.39.39.9.59 1.41.59.51 0 1.02-.2 1.41-.59l7.78-7.78 2.81-2.81c.8-.78.8-2.07 0-2.86zM5.41 20L4 18.59l7.72-7.72 1.47 1.35L5.41 20z\"/>\n",
              "  </svg>\n",
              "      </button>\n",
              "      \n",
              "  <style>\n",
              "    .colab-df-container {\n",
              "      display:flex;\n",
              "      flex-wrap:wrap;\n",
              "      gap: 12px;\n",
              "    }\n",
              "\n",
              "    .colab-df-convert {\n",
              "      background-color: #E8F0FE;\n",
              "      border: none;\n",
              "      border-radius: 50%;\n",
              "      cursor: pointer;\n",
              "      display: none;\n",
              "      fill: #1967D2;\n",
              "      height: 32px;\n",
              "      padding: 0 0 0 0;\n",
              "      width: 32px;\n",
              "    }\n",
              "\n",
              "    .colab-df-convert:hover {\n",
              "      background-color: #E2EBFA;\n",
              "      box-shadow: 0px 1px 2px rgba(60, 64, 67, 0.3), 0px 1px 3px 1px rgba(60, 64, 67, 0.15);\n",
              "      fill: #174EA6;\n",
              "    }\n",
              "\n",
              "    [theme=dark] .colab-df-convert {\n",
              "      background-color: #3B4455;\n",
              "      fill: #D2E3FC;\n",
              "    }\n",
              "\n",
              "    [theme=dark] .colab-df-convert:hover {\n",
              "      background-color: #434B5C;\n",
              "      box-shadow: 0px 1px 3px 1px rgba(0, 0, 0, 0.15);\n",
              "      filter: drop-shadow(0px 1px 2px rgba(0, 0, 0, 0.3));\n",
              "      fill: #FFFFFF;\n",
              "    }\n",
              "  </style>\n",
              "\n",
              "      <script>\n",
              "        const buttonEl =\n",
              "          document.querySelector('#df-b928de64-6891-4e1c-acd1-0bfaa43d695e button.colab-df-convert');\n",
              "        buttonEl.style.display =\n",
              "          google.colab.kernel.accessAllowed ? 'block' : 'none';\n",
              "\n",
              "        async function convertToInteractive(key) {\n",
              "          const element = document.querySelector('#df-b928de64-6891-4e1c-acd1-0bfaa43d695e');\n",
              "          const dataTable =\n",
              "            await google.colab.kernel.invokeFunction('convertToInteractive',\n",
              "                                                     [key], {});\n",
              "          if (!dataTable) return;\n",
              "\n",
              "          const docLinkHtml = 'Like what you see? Visit the ' +\n",
              "            '<a target=\"_blank\" href=https://colab.research.google.com/notebooks/data_table.ipynb>data table notebook</a>'\n",
              "            + ' to learn more about interactive tables.';\n",
              "          element.innerHTML = '';\n",
              "          dataTable['output_type'] = 'display_data';\n",
              "          await google.colab.output.renderOutput(dataTable, element);\n",
              "          const docLink = document.createElement('div');\n",
              "          docLink.innerHTML = docLinkHtml;\n",
              "          element.appendChild(docLink);\n",
              "        }\n",
              "      </script>\n",
              "    </div>\n",
              "  </div>\n",
              "  "
            ]
          },
          "metadata": {},
          "execution_count": 13
        }
      ]
    },
    {
      "cell_type": "markdown",
      "source": [
        "- alpha 값이 증가하면서 회귀 계수가 지속적으로 작아진다.\n",
        "- 다만, 릿지 회귀는 회귀 계수를 0으로 만들지 않는다."
      ],
      "metadata": {
        "id": "URQVn9BnJLn5"
      }
    },
    {
      "cell_type": "markdown",
      "source": [
        "### | **라쏘 회귀**\n",
        "___\n",
        "- W의 절댓값에 페널티를 부여하는 L1 규제를 선형 회귀에 적용한 것이 라쏘(Lasso) 회귀이다.\n",
        "- 즉, L1 규제는 $alpha * ||W||_1$를 의미하며, 라쏘 회귀 비용 함수의 목표는 $RSS(W) + alpha * ||W||_1$를 최소화하는 W를 찾는 것이다.\n",
        "- L2 규제는 회귀 계수의 크기를 감소시키는 반면, L1 규제는 불필요한 회귀 계수를 급격하게 감소시켜 0으로 만들고 제거한다. 이러한 측면에서 L1 규제는 적절한 Feature만 회귀에 포함시키는 Feature 선택을 수행한다고 볼 수 있다.\n",
        "- 사이킷런은 `Lasso` 클래스를 통해 라쏘 회귀를 구현한다.\n",
        "- `Lasso` 클래스의 주요 생성 파라미터는 `alpha`로, 이는 라쏘 회귀의 alpha L1 규제 계수를 의미한다.\n",
        "- 릿지 회귀 예제 코드에서 한 것처럼, `Lasso` 클래스를 이용해, `alpha` 값을 변화시키면서 결과를 출력하는 함수를 만들어보자.\n",
        "- `get_linear_ret_eval()` 함수 : 회귀 모델의 이름. alpha 값들의 리스트, Feature 데이터셋과 Target 데이터셋을 입력 받아, alpha 값에 따른 폴드 평균 RMSE 값을 출력하고, 회귀 계수 값들을 DataFrame으로 반환하는 함수 "
      ],
      "metadata": {
        "id": "kVCkUXy0c939"
      }
    },
    {
      "cell_type": "code",
      "source": [
        "from sklearn.linear_model import Lasso, ElasticNet\n",
        "\n",
        "# alpha 값에 따른 회귀 모델의 폴드 평균 RMSE를 출력하고 회귀 계수 값들을 DataFrame으로 반환 \n",
        "def get_linear_reg_eval(model_name, params = None, X_data_n = None, y_target_n = None, verbose = True, return_coeff = True):\n",
        "  coeff_df = pd.DataFrame()\n",
        "  \n",
        "  # verbose가 True이면 모델 이름 출력\n",
        "  if verbose : print('####### ', model_name , '#######')\n",
        "\n",
        "  for param in params:\n",
        "    if model_name =='Ridge': model = Ridge(alpha = param)\n",
        "    elif model_name =='Lasso': model = Lasso(alpha = param)\n",
        "    elif model_name =='ElasticNet': model = ElasticNet(alpha = param, l1_ratio = 0.7)\n",
        "\n",
        "    # 평균 RMSE 계산\n",
        "    neg_mse_scores = cross_val_score(model, X_data_n, y_target_n, scoring=\"neg_mean_squared_error\", cv = 5)\n",
        "    avg_rmse = np.mean(np.sqrt(-1 * neg_mse_scores))\n",
        "    print('alpha {0}일 때 5 폴드 세트의 평균 RMSE : {1:.3f} '.format(param, avg_rmse))\n",
        "\n",
        "    # cross_val_score는 evaluation metric만 반환하므로 모델을 다시 학습하여 회귀 계수 추출\n",
        "    model.fit(X_data_n , y_target_n)\n",
        "    coeff = pd.Series(data = model.coef_ , index = X_data_n.columns)\n",
        "                      \n",
        "    # alpha에 따른 Feature 별 회귀 계수를 Series로 변환하고 이를 DataFrame의 컬럼으로 추가\n",
        "    colname = 'alpha : ' + str(param)\n",
        "    coeff_df[colname] = coeff\n",
        "    \n",
        "  return coeff_df\n",
        "# end of get_linear_regre_eval"
      ],
      "metadata": {
        "id": "4pK8Q6EcRv02"
      },
      "execution_count": 14,
      "outputs": []
    },
    {
      "cell_type": "markdown",
      "source": [
        "- alpha 값은 [0.07, 0.1, 0.5, 1, 3]을 입력하고 모델명을 'Lasso'로 입력해, 라쏘 모델을 기반으로 alpha 값에 따라 RMSE와 회귀 계수들이 어떻게 변화하는지 출력해보자."
      ],
      "metadata": {
        "id": "H-OwHC4RS-j1"
      }
    },
    {
      "cell_type": "code",
      "source": [
        "# 라쏘에 사용될 alpha 파라미터의 값들을 정의하고 get_linear_reg_eval() 함수 호출\n",
        "lasso_alphas = [0.07, 0.1, 0.5, 1, 3]\n",
        "coeff_lasso_df = get_linear_reg_eval('Lasso', params = lasso_alphas, X_data_n = X_data, y_target_n = y_target)"
      ],
      "metadata": {
        "colab": {
          "base_uri": "https://localhost:8080/"
        },
        "id": "t-XZWrLzTPWl",
        "outputId": "a436789d-857e-4403-bb45-b6c5bd44b7bb"
      },
      "execution_count": 15,
      "outputs": [
        {
          "output_type": "stream",
          "name": "stdout",
          "text": [
            "#######  Lasso #######\n",
            "alpha 0.07일 때 5 폴드 세트의 평균 RMSE : 5.612 \n",
            "alpha 0.1일 때 5 폴드 세트의 평균 RMSE : 5.615 \n",
            "alpha 0.5일 때 5 폴드 세트의 평균 RMSE : 5.669 \n",
            "alpha 1일 때 5 폴드 세트의 평균 RMSE : 5.776 \n",
            "alpha 3일 때 5 폴드 세트의 평균 RMSE : 6.189 \n"
          ]
        }
      ]
    },
    {
      "cell_type": "markdown",
      "source": [
        "- alpha가 0.07 일 때, 평균 RMSE 값이 가장 작다.\n",
        "- 릿지 회귀에서의 평균 RMSE 값인 5.330보다는 크지만, 규제가 없는 LinearRegression의 평균 RMSE 값인 5.829보다는 작다.\n",
        "- alpha 값에 따른 Feature 별 회귀 계수를 출력해보자."
      ],
      "metadata": {
        "id": "4BK5o9sFTYgV"
      }
    },
    {
      "cell_type": "code",
      "source": [
        "# 반환된 coeff_lasso_df를 첫번째 Column 순으로 내림차순 정렬하여 회귀계수 DataFrame 력\n",
        "sort_column = 'alpha : ' + str(lasso_alphas[0])\n",
        "coeff_lasso_df.sort_values(by = sort_column, ascending = False) # 내림차순"
      ],
      "metadata": {
        "colab": {
          "base_uri": "https://localhost:8080/",
          "height": 457
        },
        "id": "N_NDr7NoT8Xo",
        "outputId": "388c8da6-e818-4f61-9404-69826e63ac1d"
      },
      "execution_count": 16,
      "outputs": [
        {
          "output_type": "execute_result",
          "data": {
            "text/plain": [
              "         alpha : 0.07  alpha : 0.1  alpha : 0.5  alpha : 1  alpha : 3\n",
              "RM           3.789725     3.703202     2.498212   0.949811   0.000000\n",
              "CHAS         1.434343     0.955190     0.000000   0.000000   0.000000\n",
              "RAD          0.270936     0.274707     0.277451   0.264206   0.061864\n",
              "ZN           0.049059     0.049211     0.049544   0.049165   0.037231\n",
              "B            0.010248     0.010249     0.009469   0.008247   0.006510\n",
              "NOX         -0.000000    -0.000000    -0.000000  -0.000000   0.000000\n",
              "AGE         -0.011706    -0.010037     0.003604   0.020910   0.042495\n",
              "TAX         -0.014290    -0.014570    -0.015442  -0.015212  -0.008602\n",
              "INDUS       -0.042120    -0.036619    -0.005253  -0.000000  -0.000000\n",
              "CRIM        -0.098193    -0.097894    -0.083289  -0.063437  -0.000000\n",
              "LSTAT       -0.560431    -0.568769    -0.656290  -0.761115  -0.807679\n",
              "PTRATIO     -0.765107    -0.770654    -0.758752  -0.722966  -0.265072\n",
              "DIS         -1.176583    -1.160538    -0.936605  -0.668790  -0.000000"
            ],
            "text/html": [
              "\n",
              "  <div id=\"df-e0a34497-7f7f-4f62-ad3b-d03e7f643671\">\n",
              "    <div class=\"colab-df-container\">\n",
              "      <div>\n",
              "<style scoped>\n",
              "    .dataframe tbody tr th:only-of-type {\n",
              "        vertical-align: middle;\n",
              "    }\n",
              "\n",
              "    .dataframe tbody tr th {\n",
              "        vertical-align: top;\n",
              "    }\n",
              "\n",
              "    .dataframe thead th {\n",
              "        text-align: right;\n",
              "    }\n",
              "</style>\n",
              "<table border=\"1\" class=\"dataframe\">\n",
              "  <thead>\n",
              "    <tr style=\"text-align: right;\">\n",
              "      <th></th>\n",
              "      <th>alpha : 0.07</th>\n",
              "      <th>alpha : 0.1</th>\n",
              "      <th>alpha : 0.5</th>\n",
              "      <th>alpha : 1</th>\n",
              "      <th>alpha : 3</th>\n",
              "    </tr>\n",
              "  </thead>\n",
              "  <tbody>\n",
              "    <tr>\n",
              "      <th>RM</th>\n",
              "      <td>3.789725</td>\n",
              "      <td>3.703202</td>\n",
              "      <td>2.498212</td>\n",
              "      <td>0.949811</td>\n",
              "      <td>0.000000</td>\n",
              "    </tr>\n",
              "    <tr>\n",
              "      <th>CHAS</th>\n",
              "      <td>1.434343</td>\n",
              "      <td>0.955190</td>\n",
              "      <td>0.000000</td>\n",
              "      <td>0.000000</td>\n",
              "      <td>0.000000</td>\n",
              "    </tr>\n",
              "    <tr>\n",
              "      <th>RAD</th>\n",
              "      <td>0.270936</td>\n",
              "      <td>0.274707</td>\n",
              "      <td>0.277451</td>\n",
              "      <td>0.264206</td>\n",
              "      <td>0.061864</td>\n",
              "    </tr>\n",
              "    <tr>\n",
              "      <th>ZN</th>\n",
              "      <td>0.049059</td>\n",
              "      <td>0.049211</td>\n",
              "      <td>0.049544</td>\n",
              "      <td>0.049165</td>\n",
              "      <td>0.037231</td>\n",
              "    </tr>\n",
              "    <tr>\n",
              "      <th>B</th>\n",
              "      <td>0.010248</td>\n",
              "      <td>0.010249</td>\n",
              "      <td>0.009469</td>\n",
              "      <td>0.008247</td>\n",
              "      <td>0.006510</td>\n",
              "    </tr>\n",
              "    <tr>\n",
              "      <th>NOX</th>\n",
              "      <td>-0.000000</td>\n",
              "      <td>-0.000000</td>\n",
              "      <td>-0.000000</td>\n",
              "      <td>-0.000000</td>\n",
              "      <td>0.000000</td>\n",
              "    </tr>\n",
              "    <tr>\n",
              "      <th>AGE</th>\n",
              "      <td>-0.011706</td>\n",
              "      <td>-0.010037</td>\n",
              "      <td>0.003604</td>\n",
              "      <td>0.020910</td>\n",
              "      <td>0.042495</td>\n",
              "    </tr>\n",
              "    <tr>\n",
              "      <th>TAX</th>\n",
              "      <td>-0.014290</td>\n",
              "      <td>-0.014570</td>\n",
              "      <td>-0.015442</td>\n",
              "      <td>-0.015212</td>\n",
              "      <td>-0.008602</td>\n",
              "    </tr>\n",
              "    <tr>\n",
              "      <th>INDUS</th>\n",
              "      <td>-0.042120</td>\n",
              "      <td>-0.036619</td>\n",
              "      <td>-0.005253</td>\n",
              "      <td>-0.000000</td>\n",
              "      <td>-0.000000</td>\n",
              "    </tr>\n",
              "    <tr>\n",
              "      <th>CRIM</th>\n",
              "      <td>-0.098193</td>\n",
              "      <td>-0.097894</td>\n",
              "      <td>-0.083289</td>\n",
              "      <td>-0.063437</td>\n",
              "      <td>-0.000000</td>\n",
              "    </tr>\n",
              "    <tr>\n",
              "      <th>LSTAT</th>\n",
              "      <td>-0.560431</td>\n",
              "      <td>-0.568769</td>\n",
              "      <td>-0.656290</td>\n",
              "      <td>-0.761115</td>\n",
              "      <td>-0.807679</td>\n",
              "    </tr>\n",
              "    <tr>\n",
              "      <th>PTRATIO</th>\n",
              "      <td>-0.765107</td>\n",
              "      <td>-0.770654</td>\n",
              "      <td>-0.758752</td>\n",
              "      <td>-0.722966</td>\n",
              "      <td>-0.265072</td>\n",
              "    </tr>\n",
              "    <tr>\n",
              "      <th>DIS</th>\n",
              "      <td>-1.176583</td>\n",
              "      <td>-1.160538</td>\n",
              "      <td>-0.936605</td>\n",
              "      <td>-0.668790</td>\n",
              "      <td>-0.000000</td>\n",
              "    </tr>\n",
              "  </tbody>\n",
              "</table>\n",
              "</div>\n",
              "      <button class=\"colab-df-convert\" onclick=\"convertToInteractive('df-e0a34497-7f7f-4f62-ad3b-d03e7f643671')\"\n",
              "              title=\"Convert this dataframe to an interactive table.\"\n",
              "              style=\"display:none;\">\n",
              "        \n",
              "  <svg xmlns=\"http://www.w3.org/2000/svg\" height=\"24px\"viewBox=\"0 0 24 24\"\n",
              "       width=\"24px\">\n",
              "    <path d=\"M0 0h24v24H0V0z\" fill=\"none\"/>\n",
              "    <path d=\"M18.56 5.44l.94 2.06.94-2.06 2.06-.94-2.06-.94-.94-2.06-.94 2.06-2.06.94zm-11 1L8.5 8.5l.94-2.06 2.06-.94-2.06-.94L8.5 2.5l-.94 2.06-2.06.94zm10 10l.94 2.06.94-2.06 2.06-.94-2.06-.94-.94-2.06-.94 2.06-2.06.94z\"/><path d=\"M17.41 7.96l-1.37-1.37c-.4-.4-.92-.59-1.43-.59-.52 0-1.04.2-1.43.59L10.3 9.45l-7.72 7.72c-.78.78-.78 2.05 0 2.83L4 21.41c.39.39.9.59 1.41.59.51 0 1.02-.2 1.41-.59l7.78-7.78 2.81-2.81c.8-.78.8-2.07 0-2.86zM5.41 20L4 18.59l7.72-7.72 1.47 1.35L5.41 20z\"/>\n",
              "  </svg>\n",
              "      </button>\n",
              "      \n",
              "  <style>\n",
              "    .colab-df-container {\n",
              "      display:flex;\n",
              "      flex-wrap:wrap;\n",
              "      gap: 12px;\n",
              "    }\n",
              "\n",
              "    .colab-df-convert {\n",
              "      background-color: #E8F0FE;\n",
              "      border: none;\n",
              "      border-radius: 50%;\n",
              "      cursor: pointer;\n",
              "      display: none;\n",
              "      fill: #1967D2;\n",
              "      height: 32px;\n",
              "      padding: 0 0 0 0;\n",
              "      width: 32px;\n",
              "    }\n",
              "\n",
              "    .colab-df-convert:hover {\n",
              "      background-color: #E2EBFA;\n",
              "      box-shadow: 0px 1px 2px rgba(60, 64, 67, 0.3), 0px 1px 3px 1px rgba(60, 64, 67, 0.15);\n",
              "      fill: #174EA6;\n",
              "    }\n",
              "\n",
              "    [theme=dark] .colab-df-convert {\n",
              "      background-color: #3B4455;\n",
              "      fill: #D2E3FC;\n",
              "    }\n",
              "\n",
              "    [theme=dark] .colab-df-convert:hover {\n",
              "      background-color: #434B5C;\n",
              "      box-shadow: 0px 1px 3px 1px rgba(0, 0, 0, 0.15);\n",
              "      filter: drop-shadow(0px 1px 2px rgba(0, 0, 0, 0.3));\n",
              "      fill: #FFFFFF;\n",
              "    }\n",
              "  </style>\n",
              "\n",
              "      <script>\n",
              "        const buttonEl =\n",
              "          document.querySelector('#df-e0a34497-7f7f-4f62-ad3b-d03e7f643671 button.colab-df-convert');\n",
              "        buttonEl.style.display =\n",
              "          google.colab.kernel.accessAllowed ? 'block' : 'none';\n",
              "\n",
              "        async function convertToInteractive(key) {\n",
              "          const element = document.querySelector('#df-e0a34497-7f7f-4f62-ad3b-d03e7f643671');\n",
              "          const dataTable =\n",
              "            await google.colab.kernel.invokeFunction('convertToInteractive',\n",
              "                                                     [key], {});\n",
              "          if (!dataTable) return;\n",
              "\n",
              "          const docLinkHtml = 'Like what you see? Visit the ' +\n",
              "            '<a target=\"_blank\" href=https://colab.research.google.com/notebooks/data_table.ipynb>data table notebook</a>'\n",
              "            + ' to learn more about interactive tables.';\n",
              "          element.innerHTML = '';\n",
              "          dataTable['output_type'] = 'display_data';\n",
              "          await google.colab.output.renderOutput(dataTable, element);\n",
              "          const docLink = document.createElement('div');\n",
              "          docLink.innerHTML = docLinkHtml;\n",
              "          element.appendChild(docLink);\n",
              "        }\n",
              "      </script>\n",
              "    </div>\n",
              "  </div>\n",
              "  "
            ]
          },
          "metadata": {},
          "execution_count": 16
        }
      ]
    },
    {
      "cell_type": "markdown",
      "source": [
        "- alpha의 크기가 증가함에 따라 일부 Feature의 회귀 계수가 아예 0으로 바뀐다.\n",
        "- NOX 속성은 alpha가 0.07일 때부터 회귀 계수가 0이며, alpha가 증가하면서 INDUS, CHAS와 같은 Feature의 회귀 계수가 0으로 바뀐다.\n",
        "- 회귀 계수가 0인 Feature는 회귀 식에서 제외되면서, Feature 선택의 효과를 얻을 수 있다."
      ],
      "metadata": {
        "id": "KyEZRd27UD2c"
      }
    },
    {
      "cell_type": "markdown",
      "source": [
        "### | **엘라스틱넷 회귀**\n",
        "___"
      ],
      "metadata": {
        "id": "3DXJ_J85dJGH"
      }
    },
    {
      "cell_type": "markdown",
      "source": [
        "### | **선형 회귀 모델을 위한 데이터 변환**\n",
        "___"
      ],
      "metadata": {
        "id": "p0hGX3lxdNRO"
      }
    },
    {
      "cell_type": "markdown",
      "source": [
        "## **07 로지스틱 회귀**\n",
        "____"
      ],
      "metadata": {
        "id": "okR9nbw6deRb"
      }
    },
    {
      "cell_type": "markdown",
      "source": [
        "## **07 회귀 트리**\n",
        "____"
      ],
      "metadata": {
        "id": "YEnEDCe-dg8R"
      }
    }
  ]
}