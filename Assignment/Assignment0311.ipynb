{
  "nbformat": 4,
  "nbformat_minor": 0,
  "metadata": {
    "colab": {
      "name": "Assignment0311.ipynb",
      "provenance": [],
      "collapsed_sections": [],
      "authorship_tag": "ABX9TyOlyk3DTIpzsZYYz8GW7Ylt",
      "include_colab_link": true
    },
    "kernelspec": {
      "name": "python3",
      "display_name": "Python 3"
    },
    "language_info": {
      "name": "python"
    }
  },
  "cells": [
    {
      "cell_type": "markdown",
      "metadata": {
        "id": "view-in-github",
        "colab_type": "text"
      },
      "source": [
        "<a href=\"https://colab.research.google.com/github/Dkepffl/2022-1-ESAA/blob/main/Assignment/Assignment0311.ipynb\" target=\"_parent\"><img src=\"https://colab.research.google.com/assets/colab-badge.svg\" alt=\"Open In Colab\"/></a>"
      ]
    },
    {
      "cell_type": "markdown",
      "source": [
        "## 01 머신러닝의 개념\n",
        "___\n",
        "- **머신러닝(Machine Learning)** :  '데이터'를 기반으로 패턴을 학습하고 결과를 예측하는 알고리즘 기법\n",
        "- 기존에는 매우 복잡한 현실 세계의 조건들로 인해 해결하기 어려웠던 문제들을 머신러닝을 이용해 해결 가능하다.\n",
        "- 데이터마이닝, 영상 인식, 음성 인식, 자연어 처리에서 개발자가 데이터나 업무 로직의 특성을 직접 고려한 프로그램을 만들 때 난이도와 개발 복잡도가 너무 높아지는 문제를 머신러닝을 이용해 해결할 수 있다.\n",
        "\n",
        "### | 머신러닝의 분류\n",
        "___\n",
        "- **지도학습(Supercised Learning)**\n",
        "  + 분류(Classification) : 여러 특징 데이터를 기반으로 데이터의 종류를 예측\n",
        "  + 회귀(Regression) : 여러 특징 데이터를 기반으로 연속값과 같은 수치를 예측\n",
        "  + 그 외에도 추천 시스템, 텍스트분석, NLP(Natural Language Processing) 등이 있다.\n",
        "- **비지도학습(Un-Supercised Learning)**\n",
        "  + 군집화(clustering) : 학습 데이터가 가진 패턴을 발견해 비슷한 패턴을 가진 성질의 데이터를 모으는 방법\n",
        "  + 차원 축소\n",
        "- **강화학습(Reinforcement Learning)** : 어떤 환경의 상태에서 어떤 행동을 해야 보상을 가장 많이 받을 수 있는지 구하는 방법. 지도 학습이나 비지도 학습과 달리 학습 데이터가 주어지지 않은 채, 에이전트는 시행착오 만을 통해 학습한다.\n",
        "\n"
      ],
      "metadata": {
        "id": "3tefPmos-MGI"
      }
    },
    {
      "cell_type": "markdown",
      "source": [
        "## 02 파이썬 머신러닝 생태계를 구성하는 주요 패키지\n",
        "___\n",
        "- 머신러닝 패키지 : 사이킷런(Scikit-Learn). 텐서플로(Tensorflow) 등\n",
        "- 행렬/선형대수/통계 패키지 : 넘파이(NumPy),사이파이(SciPy) \n",
        "- 데이터 핸들링 : 판다스(Pandas)\n",
        "- 시각화 : Matplotlib\n",
        "\n"
      ],
      "metadata": {
        "id": "l0YSHV7yAh0g"
      }
    },
    {
      "cell_type": "markdown",
      "source": [
        "## 03 넘파이\n",
        "___\n",
        "- 머신러닝의 주요 알구리즘은 선형대수학과 통계학 등에 기반한다.\n",
        "- 넘파이 패키지는 파이썬에서 선형대수학 기반의 프로그램을 쉽게 만들 수 있도록 지원하는 대표적인 패키지\n",
        "- 구글의 대표적인 딥러닝 프레임워크인 텐서플로는 배열 연산 수행 속도를 개선하고 넘파이와도 호환된다.\n",
        "- 넘파이는 배열 기반의 연산은 물론이고 다양한 데이터 핸들링 기능을 제공한다. 다만 편의성과 다양한 API 지원 측면에서 판다스보다 아쉬운 부분이 많다.\n",
        "- **넘파이를 이해하는 것은 파이썬 기반의 머신러닝에서 매우 중요**하다 : 많은 머신러닝 알고리즘이 넘파이 기반으로 작성되어있으며, 입출력 데이터의 타입이 넘파이의 배열 타입이기 때문이다.\n",
        "\n",
        "\n",
        "### | 넘파이 ndarray 개요\n",
        "___\n",
        "- **NumPY Module Import** : `as np`를 추가해 약어로 모듈을 표현해주는 게 관례\n",
        "```python \n",
        "import numpy as np\n",
        "```\n",
        "  + 넘파이의 기반 데이터 타입은 **ndarry**\n",
        "  + ndarray를 이용해 Multi-dimension 배열을 쉽게 생성하고 다양한 연산을 수행할 수 있다.\n",
        "\n",
        "- 넘파이의 **array() 함수** : List와 같이 다양한 인자를 입력받아서 ndarry로 변환한다.\n",
        "```python\n",
        "array 1 = np.array(['element1','element2'])\n",
        "```\n",
        "  + ndarray 배열의 `shape` 변수는 ndarrya의 크기, 즉 row와 column의 수를 tuple 형태로 가지고 있다.\n",
        "  + 아래 예제에서 array1과 array3는 동일한 차원의 데이터가 아니라는 점을 유의해야한다. \n",
        "  + 이 때, `ndarray.ndim`을 이용하면 array의 차원을 확인할 수 있다.\n",
        " "
      ],
      "metadata": {
        "id": "d3Ocdm0_Dt1I"
      }
    },
    {
      "cell_type": "code",
      "source": [
        "import numpy as np\n",
        "\n",
        "array1 = np.array([1,2,3]) # 1X3 배열\n",
        "print('array1 type: ', type(array1))\n",
        "print('array1 array 형태: ', array1.shape)  #row 1개, column 3개인 1차원 데이터\n",
        "\n",
        "array2 = np.array([[1,2,3],[2,3,4]]) # 2X3 배열\n",
        "print('array2 type: ', type(array2))\n",
        "print('array2 array 형태: ', array2.shape) #row 1개, column 3개인 1차원 데이터\n",
        "\n",
        "array3 = np.array([[1,2,3]]) # 1X3 배열. 대괄호가 2개\n",
        "print('array3 type: ', type(array3))\n",
        "print('array3 array 형태: ', array3.shape) # row 1개, column 3개인 2차원 데이터"
      ],
      "metadata": {
        "colab": {
          "base_uri": "https://localhost:8080/"
        },
        "id": "2V8P0EI2HHDt",
        "outputId": "be84eff9-788e-45d7-97bf-0cc2290e5e37"
      },
      "execution_count": 4,
      "outputs": [
        {
          "output_type": "stream",
          "name": "stdout",
          "text": [
            "array1 type:  <class 'numpy.ndarray'>\n",
            "array1 array 형태:  (3,)\n",
            "array2 type:  <class 'numpy.ndarray'>\n",
            "array2 array 형태:  (2, 3)\n",
            "array3 type:  <class 'numpy.ndarray'>\n",
            "array3 array 형태:  (1, 3)\n"
          ]
        }
      ]
    },
    {
      "cell_type": "code",
      "source": [
        "print('array1: {:0}차원, array2: {:1}차원, array3: {:2}차원'.format(array1.ndim, array2.ndim, array3.ndim))"
      ],
      "metadata": {
        "colab": {
          "base_uri": "https://localhost:8080/"
        },
        "id": "yZxDBWkvRBK9",
        "outputId": "a54b076e-79f2-4bfd-cd32-dd810fea32d1"
      },
      "execution_count": 5,
      "outputs": [
        {
          "output_type": "stream",
          "name": "stdout",
          "text": [
            "array1: 1차원, array2: 2차원, array3:  2차원\n"
          ]
        }
      ]
    },
    {
      "cell_type": "markdown",
      "source": [
        "### | ndarray의 데이터 타입\n",
        "___\n",
        "- ndarray 내의 데이터값은 숫자(ex. int형, float형), 문자열(stirng), 불(bool) 등 모두 가능하다.\n",
        "- list와 다르게 ndaarry 내의 데이터 타입은 그 연산의 특성상 같은 데이터 타입만 가능하다.\n",
        "- ndarray 내의 데이터 타입은 `dtype` 속성으로 확인할 수 있다."
      ],
      "metadata": {
        "id": "ZK8lfZ8cRYPo"
      }
    },
    {
      "cell_type": "code",
      "source": [
        "list1 = [1, 2, 3]\n",
        "print(type(list1))\n",
        "\n",
        "array1 = np.array(list1)\n",
        "print(type(array1))\n",
        "print(array1, array1.dtype)"
      ],
      "metadata": {
        "colab": {
          "base_uri": "https://localhost:8080/"
        },
        "id": "JAwXfBGjSKnU",
        "outputId": "56f5273c-62ad-4948-9d81-90d1a8ae5bd1"
      },
      "execution_count": 7,
      "outputs": [
        {
          "output_type": "stream",
          "name": "stdout",
          "text": [
            "<class 'list'>\n",
            "<class 'numpy.ndarray'>\n",
            "[1 2 3] int64\n"
          ]
        }
      ]
    },
    {
      "cell_type": "markdown",
      "source": [
        "- 다른 데이터 유형이 섞여있는 list를 ndarrya로 변경하면, **데이터 크기가 더 큰 데이터 타입**으로 자료형을 일괄 변환한다.\n",
        "  + 아래 예제에서 list2의 데이터들은 모두 string형으로 변환되어었고, list3의 데이터들은 모두 float형으로 변경되었다."
      ],
      "metadata": {
        "id": "o7sen1eGSfBu"
      }
    },
    {
      "cell_type": "code",
      "source": [
        "list2 = [1, 2, 'test']\n",
        "array2 = np.array(list2)\n",
        "print(array2, array2.dtype)\n",
        "\n",
        "list3 = [1, 2, 3.0]\n",
        "array3 = np.array(list3)\n",
        "print(array3, array3.dtype)"
      ],
      "metadata": {
        "colab": {
          "base_uri": "https://localhost:8080/"
        },
        "id": "McuaI4HkS7tB",
        "outputId": "894ce065-bcaf-41c5-a6d7-c3ac6081c2e8"
      },
      "execution_count": 8,
      "outputs": [
        {
          "output_type": "stream",
          "name": "stdout",
          "text": [
            "['1' '2' 'test'] <U21\n",
            "[1. 2. 3.] float64\n"
          ]
        }
      ]
    },
    {
      "cell_type": "markdown",
      "source": [
        "- **astype()** method : ndarray 내 데이터값의 타입 변경이 가능하다.\n",
        "  + 대용량의 데이터를 만들 때 많은 메모리가 사용되기 때문에, 보통 메모리를 절약하기 위해 데이터 타입을 변경한다.\n",
        "  + 파이썬 기반의 머신러닝 알고리즘은 대부분 메모리로 데이터를 전체 로딩한 다음 이를 기반으로 알고리즘을 적용하기 때문에 대용량의 데이터를 로딩할 때는 수행속도가 느려지거나 메모리 부족으로 오류가 발생할 수 있다. 따라서 불필요하게 큰 데이터의 경우, 데이터값의 타입 변경을 하는 편이 좋다."
      ],
      "metadata": {
        "id": "bLThG4LbTQdG"
      }
    },
    {
      "cell_type": "code",
      "source": [
        "array_int = np.array([1,2,3])\n",
        "array_float = array_int.astype('float64') # int형 데이터를 float형으로 변환하여 저장\n",
        "print(array_float, array_float.dtype)\n",
        "\n",
        "array_int1 = array_float.astype('int32') # float형을 다시 int형으로 변환\n",
        "print(array_int1, array_int1.dtype)\n",
        "\n",
        "array_float1 = np.array([1.1, 2.1, 3.1]) # float형 배열\n",
        "array_int2 = array_float1.astype('int32') \n",
        "print(array_int2, array_int2.dtype)"
      ],
      "metadata": {
        "colab": {
          "base_uri": "https://localhost:8080/"
        },
        "id": "CPV_jvY7Ug5c",
        "outputId": "9241f43a-b115-4e65-df53-bfa103b217a5"
      },
      "execution_count": 9,
      "outputs": [
        {
          "output_type": "stream",
          "name": "stdout",
          "text": [
            "[1. 2. 3.] float64\n",
            "[1 2 3] int32\n",
            "[1 2 3] int32\n"
          ]
        }
      ]
    },
    {
      "cell_type": "markdown",
      "source": [
        "### | ndarray를 편하게 생성하기 - arange, zeros, ones\n",
        "___\n",
        "- 특정 크기와 차원을 가진 ndarray를 연속값이나 0 또는 1로 초기화하고 싶을 때, `arange()`, `zeros()`, `ones()`를 사용한다.\n",
        "  + 테스트용 데이터를 만드는 경우\n",
        "  + 대규모의 데이터를 일괄적으로 초기화해야 할 경우\n",
        "- **arange()** 함수 : 지정한 범위의 값을 순차적으로 ndarray의 값으로 반환한다.\n",
        "  + `range()`와 유사한 기능을 한다.\n",
        "  + 아래와 같이 stop 값을 지정해주면 0부터 'N-1'까지의 연속 숫자값으로 구성된 1차원 ndarray를 만들어준다.\n",
        "  ```python \n",
        "  np.arange(N)\n",
        "  ```\n",
        " + 아래와 같이 `range`처럼 start값과 숫자의 간격(step)을 설정해줄 수 있다.\n",
        "  ```python \n",
        "  np.arange(A, B, step)\n",
        "  ```"
      ],
      "metadata": {
        "id": "gHSPVYnKVzAF"
      }
    },
    {
      "cell_type": "code",
      "source": [
        "import numpy as np\n",
        "\n",
        "sequence_array = np.arange(10)\n",
        "print(sequence_array)\n",
        "print(sequence_array.dtype, sequence_array.shape)"
      ],
      "metadata": {
        "colab": {
          "base_uri": "https://localhost:8080/"
        },
        "id": "lcw7umluXRyr",
        "outputId": "2754d04f-6156-452d-b6f0-666e70e75a31"
      },
      "execution_count": 15,
      "outputs": [
        {
          "output_type": "stream",
          "name": "stdout",
          "text": [
            "[2 5 8]\n",
            "int64 (3,)\n"
          ]
        }
      ]
    },
    {
      "cell_type": "markdown",
      "source": [
        "- **zeros()** 함수 : 모든 값을 0으로 채운 ndarray를 반환한다.\n",
        "  + `shpae`값을 tuple 형태로 입력해야 한다.\n",
        "  + datatype을 지정해주지 않으면 default로 float64 형의 데이터를 가진 ndarray를 반환한다.\n",
        "  ```python \n",
        "  np.zeros((row, column), dtype = 'datatype')\n",
        "  ```\n",
        "- **ones()** 함수 : 모든 값을 1으로 채운 ndarray를 반환한다.\n",
        " + `zeros()`처럼, `shpae`값을 tuple 형태로 입력해야 한다.\n",
        " + 역시, datatype을 지정해주지 않으면 default로 float64 형의 데이터를 가진 ndarray를 반환한다.\n",
        "  ```python \n",
        "  np.ones((row, column), dtype = 'datatype')\n",
        "  ```"
      ],
      "metadata": {
        "id": "mai2RR5PYMXb"
      }
    },
    {
      "cell_type": "code",
      "source": [
        "zero_array = np.zeros((3, 2), dtype = 'int32')\n",
        "print(zero_array)\n",
        "print(zero_array.dtype, zero_array.shape, '\\n')\n",
        "\n",
        "one_array = np.ones((3, 2)) # datatype을 입력하지 않아, default로 float64 형 데이터를 값으로 반환한다.\n",
        "print(one_array)\n",
        "print(one_array.dtype, one_array.shape)"
      ],
      "metadata": {
        "colab": {
          "base_uri": "https://localhost:8080/"
        },
        "id": "IttlwfStZVFC",
        "outputId": "db59beb4-48f6-4250-f368-8ffaaad93439"
      },
      "execution_count": 19,
      "outputs": [
        {
          "output_type": "stream",
          "name": "stdout",
          "text": [
            "[[0 0]\n",
            " [0 0]\n",
            " [0 0]]\n",
            "int32 (3, 2) \n",
            "\n",
            "[[1. 1.]\n",
            " [1. 1.]\n",
            " [1. 1.]]\n",
            "float64 (3, 2)\n"
          ]
        }
      ]
    },
    {
      "cell_type": "markdown",
      "source": [
        "### | ndarray를 편하게 생성하기 - arange, zeros, ones\n",
        "___\n",
        "- 특정 크기와 차원을 가진 ndarray를 연속값이나 0 또는 1로 초기화하고 싶을 때, `arange()`, `zeros()`, `ones()`를 사용한다.\n",
        "  + 테스트용 데이터를 만드는 경우\n",
        "  + 대규모의 데이터를 일괄적으로 초기화해야 할 경우\n",
        "- **arange()** 함수 : 지정한 범위의 값을 순차적으로 ndarray의 값으로 반환한다.\n",
        "  + `range()`와 유사한 기능을 한다.\n",
        "  + 아래와 같이 stop 값을 지정해주면 0부터 'N-1'까지의 연속 숫자값으로 구성된 1차원 ndarray를 만들어준다.\n",
        "  ```python \n",
        "  np.arange(N)\n",
        "  ```\n",
        " + 아래와 같이 `range`처럼 start값과 숫자의 간격(step)을 설정해줄 수 있다.\n",
        "  ```python \n",
        "  np.arange(A, B, step)\n",
        "  ```"
      ],
      "metadata": {
        "id": "MtpkBEHvaFRR"
      }
    }
  ]
}