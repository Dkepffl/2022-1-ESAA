{
  "nbformat": 4,
  "nbformat_minor": 0,
  "metadata": {
    "colab": {
      "name": "Assignment0311.ipynb",
      "provenance": [],
      "collapsed_sections": [],
      "authorship_tag": "ABX9TyOYFW0qRTgXkNBnzh7vPJkv",
      "include_colab_link": true
    },
    "kernelspec": {
      "name": "python3",
      "display_name": "Python 3"
    },
    "language_info": {
      "name": "python"
    }
  },
  "cells": [
    {
      "cell_type": "markdown",
      "metadata": {
        "id": "view-in-github",
        "colab_type": "text"
      },
      "source": [
        "<a href=\"https://colab.research.google.com/github/Dkepffl/2022-1-ESAA/blob/main/Assignment/Assignment0311.ipynb\" target=\"_parent\"><img src=\"https://colab.research.google.com/assets/colab-badge.svg\" alt=\"Open In Colab\"/></a>"
      ]
    },
    {
      "cell_type": "markdown",
      "source": [
        "## 01 머신러닝의 개념\n",
        "___\n",
        "- **머신러닝(Machine Learning)** :  '데이터'를 기반으로 패턴을 학습하고 결과를 예측하는 알고리즘 기법\n",
        "- 기존에는 매우 복잡한 현실 세계의 조건들로 인해 해결하기 어려웠던 문제들을 머신러닝을 이용해 해결 가능하다.\n",
        "- 데이터마이닝, 영상 인식, 음성 인식, 자연어 처리에서 개발자가 데이터나 업무 로직의 특성을 직접 고려한 프로그램을 만들 때 난이도와 개발 복잡도가 너무 높아지는 문제를 머신러닝을 이용해 해결할 수 있다.\n",
        "\n",
        "### | 머신러닝의 분류\n",
        "___\n",
        "- **지도학습(Supercised Learning)**\n",
        "  + 분류(Classification) : 여러 특징 데이터를 기반으로 데이터의 종류를 예측\n",
        "  + 회귀(Regression) : 여러 특징 데이터를 기반으로 연속값과 같은 수치를 예측\n",
        "  + 그 외에도 추천 시스템, 텍스트분석, NLP(Natural Language Processing) 등이 있다.\n",
        "- **비지도학습(Un-Supercised Learning)**\n",
        "  + 군집화(clustering) : 학습 데이터가 가진 패턴을 발견해 비슷한 패턴을 가진 성질의 데이터를 모으는 방법\n",
        "  + 차원 축소\n",
        "- **강화학습(Reinforcement Learning)** : 어떤 환경의 상태에서 어떤 행동을 해야 보상을 가장 많이 받을 수 있는지 구하는 방법. 지도 학습이나 비지도 학습과 달리 학습 데이터가 주어지지 않은 채, 에이전트는 시행착오 만을 통해 학습한다.\n",
        "\n"
      ],
      "metadata": {
        "id": "3tefPmos-MGI"
      }
    },
    {
      "cell_type": "markdown",
      "source": [
        "## 02 파이썬 머신러닝 생태계를 구성하는 주요 패키지\n",
        "___\n",
        "- 머신러닝 패키지 : 사이킷런(Scikit-Learn). 텐서플로(Tensorflow) 등\n",
        "- 행렬/선형대수/통계 패키지 : 넘파이(NumPy),사이파이(SciPy) \n",
        "- 데이터 핸들링 : 판다스(Pandas)\n",
        "- 시각화 : Matplotlib\n",
        "\n"
      ],
      "metadata": {
        "id": "l0YSHV7yAh0g"
      }
    },
    {
      "cell_type": "markdown",
      "source": [
        "## 03 넘파이\n",
        "___\n",
        "- 머신러닝의 주요 알구리즘은 선형대수학과 통계학 등에 기반한다.\n",
        "- 넘파이 패키지는 파이썬에서 선형대수학 기반의 프로그램을 쉽게 만들 수 있도록 지원하는 대표적인 패키지\n",
        "- 구글의 대표적인 딥러닝 프레임워크인 텐서플로는 배열 연산 수행 속도를 개선하고 넘파이와도 호환된다.\n",
        "- 넘파이는 배열 기반의 연산은 물론이고 다양한 데이터 핸들링 기능을 제공한다. 다만 편의성과 다양한 API 지원 측면에서 판다스보다 아쉬운 부분이 많다.\n",
        "- **넘파이를 이해하는 것은 파이썬 기반의 머신러닝에서 매우 중요**하다 : 많은 머신러닝 알고리즘이 넘파이 기반으로 작성되어있으며, 입출력 데이터의 타입이 넘파이의 배열 타입이기 때문이다.\n",
        "\n",
        "\n",
        "### | 넘파이 ndarray 개요\n",
        "___\n",
        "- **NumPY Module Import** : `as np`를 추가해 약어로 모듈을 표현해주는 게 관례\n",
        "```python \n",
        "import numpy as np\n",
        "```\n",
        "  + 넘파이의 기반 데이터 타입은 **ndarry**\n",
        "  + ndarray를 이용해 Multi-dimension 배열을 쉽게 생성하고 다양한 연산을 수행할 수 있다.\n",
        "\n",
        "- 넘파이의 **array() 함수** : List와 같이 다양한 인자를 입력받아서 ndarry로 변환한다.\n",
        "```python\n",
        "array 1 = np.array(['element1','element2'])\n",
        "```\n",
        "  + ndarray 배열의 `shape` 변수는 ndarrya의 크기, 즉 row와 column의 수를 tuple 형태로 가지고 있다.\n",
        "  + 아래 예제에서 array1과 array3는 동일한 차원의 데이터가 아니라는 점을 유의해야한다. \n",
        "  + 이 때, `ndarray.ndim`을 이용하면 array의 차원을 확인할 수 있다.\n",
        " "
      ],
      "metadata": {
        "id": "d3Ocdm0_Dt1I"
      }
    },
    {
      "cell_type": "code",
      "source": [
        "import numpy as np\n",
        "\n",
        "array1 = np.array([1,2,3]) # 1X3 배열\n",
        "print('array1 type: ', type(array1))\n",
        "print('array1 array 형태: ', array1.shape)  #row 1개, column 3개인 1차원 데이터\n",
        "\n",
        "array2 = np.array([[1,2,3],[2,3,4]]) # 2X3 배열\n",
        "print('array2 type: ', type(array2))\n",
        "print('array2 array 형태: ', array2.shape) #row 1개, column 3개인 1차원 데이터\n",
        "\n",
        "array3 = np.array([[1,2,3]]) # 1X3 배열. 대괄호가 2개\n",
        "print('array3 type: ', type(array3))\n",
        "print('array3 array 형태: ', array3.shape) # row 1개, column 3개인 2차원 데이터"
      ],
      "metadata": {
        "colab": {
          "base_uri": "https://localhost:8080/"
        },
        "id": "2V8P0EI2HHDt",
        "outputId": "be84eff9-788e-45d7-97bf-0cc2290e5e37"
      },
      "execution_count": null,
      "outputs": [
        {
          "output_type": "stream",
          "name": "stdout",
          "text": [
            "array1 type:  <class 'numpy.ndarray'>\n",
            "array1 array 형태:  (3,)\n",
            "array2 type:  <class 'numpy.ndarray'>\n",
            "array2 array 형태:  (2, 3)\n",
            "array3 type:  <class 'numpy.ndarray'>\n",
            "array3 array 형태:  (1, 3)\n"
          ]
        }
      ]
    },
    {
      "cell_type": "code",
      "source": [
        "print('array1: {:0}차원, array2: {:1}차원, array3: {:2}차원'.format(array1.ndim, array2.ndim, array3.ndim))"
      ],
      "metadata": {
        "colab": {
          "base_uri": "https://localhost:8080/"
        },
        "id": "yZxDBWkvRBK9",
        "outputId": "a54b076e-79f2-4bfd-cd32-dd810fea32d1"
      },
      "execution_count": null,
      "outputs": [
        {
          "output_type": "stream",
          "name": "stdout",
          "text": [
            "array1: 1차원, array2: 2차원, array3:  2차원\n"
          ]
        }
      ]
    },
    {
      "cell_type": "markdown",
      "source": [
        "### | ndarray의 데이터 타입\n",
        "___\n",
        "- ndarray 내의 데이터값은 숫자(ex. int형, float형), 문자열(stirng), 불(bool) 등 모두 가능하다.\n",
        "- list와 다르게 ndaarry 내의 데이터 타입은 그 연산의 특성상 같은 데이터 타입만 가능하다.\n",
        "- ndarray 내의 데이터 타입은 `dtype` 속성으로 확인할 수 있다."
      ],
      "metadata": {
        "id": "ZK8lfZ8cRYPo"
      }
    },
    {
      "cell_type": "code",
      "source": [
        "list1 = [1, 2, 3]\n",
        "print(type(list1))\n",
        "\n",
        "array1 = np.array(list1)\n",
        "print(type(array1))\n",
        "print(array1, array1.dtype)"
      ],
      "metadata": {
        "colab": {
          "base_uri": "https://localhost:8080/"
        },
        "id": "JAwXfBGjSKnU",
        "outputId": "56f5273c-62ad-4948-9d81-90d1a8ae5bd1"
      },
      "execution_count": null,
      "outputs": [
        {
          "output_type": "stream",
          "name": "stdout",
          "text": [
            "<class 'list'>\n",
            "<class 'numpy.ndarray'>\n",
            "[1 2 3] int64\n"
          ]
        }
      ]
    },
    {
      "cell_type": "markdown",
      "source": [
        "- 다른 데이터 유형이 섞여있는 list를 ndarrya로 변경하면, **데이터 크기가 더 큰 데이터 타입**으로 자료형을 일괄 변환한다.\n",
        "  + 아래 예제에서 list2의 데이터들은 모두 string형으로 변환되어었고, list3의 데이터들은 모두 float형으로 변경되었다."
      ],
      "metadata": {
        "id": "o7sen1eGSfBu"
      }
    },
    {
      "cell_type": "code",
      "source": [
        "list2 = [1, 2, 'test']\n",
        "array2 = np.array(list2)\n",
        "print(array2, array2.dtype)\n",
        "\n",
        "list3 = [1, 2, 3.0]\n",
        "array3 = np.array(list3)\n",
        "print(array3, array3.dtype)"
      ],
      "metadata": {
        "colab": {
          "base_uri": "https://localhost:8080/"
        },
        "id": "McuaI4HkS7tB",
        "outputId": "894ce065-bcaf-41c5-a6d7-c3ac6081c2e8"
      },
      "execution_count": null,
      "outputs": [
        {
          "output_type": "stream",
          "name": "stdout",
          "text": [
            "['1' '2' 'test'] <U21\n",
            "[1. 2. 3.] float64\n"
          ]
        }
      ]
    },
    {
      "cell_type": "markdown",
      "source": [
        "- **astype()** method : ndarray 내 데이터값의 타입 변경이 가능하다.\n",
        "  + 대용량의 데이터를 만들 때 많은 메모리가 사용되기 때문에, 보통 메모리를 절약하기 위해 데이터 타입을 변경한다.\n",
        "  + 파이썬 기반의 머신러닝 알고리즘은 대부분 메모리로 데이터를 전체 로딩한 다음 이를 기반으로 알고리즘을 적용하기 때문에 대용량의 데이터를 로딩할 때는 수행속도가 느려지거나 메모리 부족으로 오류가 발생할 수 있다. 따라서 불필요하게 큰 데이터의 경우, 데이터값의 타입 변경을 하는 편이 좋다."
      ],
      "metadata": {
        "id": "bLThG4LbTQdG"
      }
    },
    {
      "cell_type": "code",
      "source": [
        "array_int = np.array([1,2,3])\n",
        "array_float = array_int.astype('float64') # int형 데이터를 float형으로 변환하여 저장\n",
        "print(array_float, array_float.dtype)\n",
        "\n",
        "array_int1 = array_float.astype('int32') # float형을 다시 int형으로 변환\n",
        "print(array_int1, array_int1.dtype)\n",
        "\n",
        "array_float1 = np.array([1.1, 2.1, 3.1]) # float형 배열\n",
        "array_int2 = array_float1.astype('int32') \n",
        "print(array_int2, array_int2.dtype)"
      ],
      "metadata": {
        "colab": {
          "base_uri": "https://localhost:8080/"
        },
        "id": "CPV_jvY7Ug5c",
        "outputId": "9241f43a-b115-4e65-df53-bfa103b217a5"
      },
      "execution_count": null,
      "outputs": [
        {
          "output_type": "stream",
          "name": "stdout",
          "text": [
            "[1. 2. 3.] float64\n",
            "[1 2 3] int32\n",
            "[1 2 3] int32\n"
          ]
        }
      ]
    },
    {
      "cell_type": "markdown",
      "source": [
        "### | ndarray를 편하게 생성하기 - arange, zeros, ones\n",
        "___\n",
        "- 특정 크기와 차원을 가진 ndarray를 연속값이나 0 또는 1로 초기화하고 싶을 때, `arange()`, `zeros()`, `ones()`를 사용한다.\n",
        "  + 테스트용 데이터를 만드는 경우\n",
        "  + 대규모의 데이터를 일괄적으로 초기화해야 할 경우\n",
        "- **arange()** 함수 : 지정한 범위의 값을 순차적으로 ndarray의 값으로 반환한다.\n",
        "  + `range()`와 유사한 기능을 한다.\n",
        "  + 아래와 같이 stop 값을 지정해주면 0부터 'N-1'까지의 연속 숫자값으로 구성된 1차원 ndarray를 만들어준다.\n",
        "  ```python \n",
        "  np.arange(N)\n",
        "  ```\n",
        " + 아래와 같이 `range`처럼 start값과 숫자의 간격(step)을 설정해줄 수 있다.\n",
        "  ```python \n",
        "  np.arange(A, B, step)\n",
        "  ```"
      ],
      "metadata": {
        "id": "gHSPVYnKVzAF"
      }
    },
    {
      "cell_type": "code",
      "source": [
        "import numpy as np\n",
        "\n",
        "sequence_array = np.arange(10)\n",
        "print(sequence_array)\n",
        "print(sequence_array.dtype, sequence_array.shape)"
      ],
      "metadata": {
        "colab": {
          "base_uri": "https://localhost:8080/"
        },
        "id": "lcw7umluXRyr",
        "outputId": "2754d04f-6156-452d-b6f0-666e70e75a31"
      },
      "execution_count": null,
      "outputs": [
        {
          "output_type": "stream",
          "name": "stdout",
          "text": [
            "[2 5 8]\n",
            "int64 (3,)\n"
          ]
        }
      ]
    },
    {
      "cell_type": "markdown",
      "source": [
        "- **zeros()** 함수 : 모든 값을 0으로 채운 ndarray를 반환한다.\n",
        "  + `shpae`값을 tuple 형태로 입력해야 한다.\n",
        "  + datatype을 지정해주지 않으면 default로 float64 형의 데이터를 가진 ndarray를 반환한다.\n",
        "  ```python \n",
        "  np.zeros((row, column), dtype = 'datatype')\n",
        "  ```\n",
        "- **ones()** 함수 : 모든 값을 1으로 채운 ndarray를 반환한다.\n",
        " + `zeros()`처럼, `shpae`값을 tuple 형태로 입력해야 한다.\n",
        " + 역시, datatype을 지정해주지 않으면 default로 float64 형의 데이터를 가진 ndarray를 반환한다.\n",
        "  ```python \n",
        "  np.ones((row, column), dtype = 'datatype')\n",
        "  ```"
      ],
      "metadata": {
        "id": "mai2RR5PYMXb"
      }
    },
    {
      "cell_type": "code",
      "source": [
        "zero_array = np.zeros((3, 2), dtype = 'int32')\n",
        "print(zero_array)\n",
        "print(zero_array.dtype, zero_array.shape, '\\n')\n",
        "\n",
        "one_array = np.ones((3, 2)) # datatype을 입력하지 않아, default로 float64 형 데이터를 값으로 반환한다.\n",
        "print(one_array)\n",
        "print(one_array.dtype, one_array.shape)"
      ],
      "metadata": {
        "colab": {
          "base_uri": "https://localhost:8080/"
        },
        "id": "IttlwfStZVFC",
        "outputId": "db59beb4-48f6-4250-f368-8ffaaad93439"
      },
      "execution_count": null,
      "outputs": [
        {
          "output_type": "stream",
          "name": "stdout",
          "text": [
            "[[0 0]\n",
            " [0 0]\n",
            " [0 0]]\n",
            "int32 (3, 2) \n",
            "\n",
            "[[1. 1.]\n",
            " [1. 1.]\n",
            " [1. 1.]]\n",
            "float64 (3, 2)\n"
          ]
        }
      ]
    },
    {
      "cell_type": "markdown",
      "source": [
        "### | ndarray의 차원과 크기를 변경하는 reshape()\n",
        "___\n",
        "- **reshape()** 메서드 : ndarray를 특정 차원 및 크기로 변환한다.\n",
        "  + 아래와 같이 변환하려는 크기(row, column)를 변수로 입력하면 된다.\n",
        "  ```python \n",
        "  'ndarray'.reshape(row,column)\n",
        "  ```\n"
      ],
      "metadata": {
        "id": "MtpkBEHvaFRR"
      }
    },
    {
      "cell_type": "code",
      "source": [
        "array1 = np.arange(10)\n",
        "print('array1:\\n', array1)\n",
        "\n",
        "array2 = array1.reshape(2,5)\n",
        "print('array2:\\n', array2)\n",
        "\n",
        "array3 = array1.reshape(5,2)\n",
        "print('array3:\\n', array3)"
      ],
      "metadata": {
        "colab": {
          "base_uri": "https://localhost:8080/"
        },
        "id": "8Ij42R3TdUP5",
        "outputId": "5dd43698-0f0a-4d16-bd8d-e0bf3cfbc4ef"
      },
      "execution_count": null,
      "outputs": [
        {
          "output_type": "stream",
          "name": "stdout",
          "text": [
            "array1:\n",
            " [0 1 2 3 4 5 6 7 8 9]\n",
            "array2:\n",
            " [[0 1 2 3 4]\n",
            " [5 6 7 8 9]]\n",
            "array3:\n",
            " [[0 1]\n",
            " [2 3]\n",
            " [4 5]\n",
            " [6 7]\n",
            " [8 9]]\n"
          ]
        }
      ]
    },
    {
      "cell_type": "markdown",
      "source": [
        "- 지정한 사이즈로 변경이 불가능할 경우, 아래와 같이 오류가 발생한다."
      ],
      "metadata": {
        "id": "Vu5dvDsKeNDR"
      }
    },
    {
      "cell_type": "code",
      "source": [
        "array1.reshape(4,3)"
      ],
      "metadata": {
        "colab": {
          "base_uri": "https://localhost:8080/",
          "height": 174
        },
        "id": "NI_YOEiadpBL",
        "outputId": "810c0921-b988-4c65-b152-9e8cde403073"
      },
      "execution_count": null,
      "outputs": [
        {
          "output_type": "error",
          "ename": "ValueError",
          "evalue": "ignored",
          "traceback": [
            "\u001b[0;31m---------------------------------------------------------------------------\u001b[0m",
            "\u001b[0;31mValueError\u001b[0m                                Traceback (most recent call last)",
            "\u001b[0;32m<ipython-input-21-a40469ec5825>\u001b[0m in \u001b[0;36m<module>\u001b[0;34m()\u001b[0m\n\u001b[0;32m----> 1\u001b[0;31m \u001b[0marray1\u001b[0m\u001b[0;34m.\u001b[0m\u001b[0mreshape\u001b[0m\u001b[0;34m(\u001b[0m\u001b[0;36m4\u001b[0m\u001b[0;34m,\u001b[0m\u001b[0;36m3\u001b[0m\u001b[0;34m)\u001b[0m\u001b[0;34m\u001b[0m\u001b[0;34m\u001b[0m\u001b[0m\n\u001b[0m",
            "\u001b[0;31mValueError\u001b[0m: cannot reshape array of size 10 into shape (4,3)"
          ]
        }
      ]
    },
    {
      "cell_type": "markdown",
      "source": [
        "- **reshape()**의 인자로 -1을 사용하면 원래 ndarray와 호환되는 새로운 shape로 변환한다.\n",
        "  + 아래 예제에서, array1은 1차원 ndarray로 0~9까지의 데이터를 가지고 있다.\n",
        "  + array1.reshape(-1,5)은 array1과 호환되는 2차원 ndarray이되, column의 수가 5인 ndarray로 변환하는 것이다.\n",
        "  + array1.reshape(5,-1)은 반대로 array1과 호환되는 2차원 ndarray이되, row의 수가 5인 ndarray로 변환하는 것이다.\n",
        "  + 다만, -1을 사용하더라도 호환될 수 없는 형태는 변환할 수 없다.\n",
        "    * (EX) 10개의 1차원 데이터를 4개의 column을 가진 2차원 데이터 변경"
      ],
      "metadata": {
        "id": "8a5oItBad3Ra"
      }
    },
    {
      "cell_type": "code",
      "source": [
        "array1 = np.arange(10)\n",
        "print(array1)\n",
        "\n",
        "array2 = array1.reshape(-1,5)\n",
        "print(array2)\n",
        "print('array2 shape:', array2.shape)\n",
        "print()\n",
        "\n",
        "array3 = array1.reshape(5,-1)\n",
        "print(array3)\n",
        "print('array3 shape', array3.shape)"
      ],
      "metadata": {
        "colab": {
          "base_uri": "https://localhost:8080/"
        },
        "id": "MQpTheD9eGXK",
        "outputId": "31db4339-363f-4426-c802-c70a249a401d"
      },
      "execution_count": null,
      "outputs": [
        {
          "output_type": "stream",
          "name": "stdout",
          "text": [
            "[0 1 2 3 4 5 6 7 8 9]\n",
            "[[0 1 2 3 4]\n",
            " [5 6 7 8 9]]\n",
            "array2 shape: (2, 5)\n",
            "\n",
            "[[0 1]\n",
            " [2 3]\n",
            " [4 5]\n",
            " [6 7]\n",
            " [8 9]]\n",
            "array3 shape (5, 2)\n"
          ]
        }
      ]
    },
    {
      "cell_type": "code",
      "source": [
        "array1 = np.arange(10)\n",
        "array4 = array1.reshape(-1,4)"
      ],
      "metadata": {
        "colab": {
          "base_uri": "https://localhost:8080/",
          "height": 193
        },
        "id": "AiX9utUgf1NR",
        "outputId": "1d60644b-1a16-4e26-a61a-3bdc5fd852fa"
      },
      "execution_count": null,
      "outputs": [
        {
          "output_type": "error",
          "ename": "ValueError",
          "evalue": "ignored",
          "traceback": [
            "\u001b[0;31m---------------------------------------------------------------------------\u001b[0m",
            "\u001b[0;31mValueError\u001b[0m                                Traceback (most recent call last)",
            "\u001b[0;32m<ipython-input-26-07da9760475e>\u001b[0m in \u001b[0;36m<module>\u001b[0;34m()\u001b[0m\n\u001b[1;32m      1\u001b[0m \u001b[0marray1\u001b[0m \u001b[0;34m=\u001b[0m \u001b[0mnp\u001b[0m\u001b[0;34m.\u001b[0m\u001b[0marange\u001b[0m\u001b[0;34m(\u001b[0m\u001b[0;36m10\u001b[0m\u001b[0;34m)\u001b[0m\u001b[0;34m\u001b[0m\u001b[0;34m\u001b[0m\u001b[0m\n\u001b[0;32m----> 2\u001b[0;31m \u001b[0marray4\u001b[0m \u001b[0;34m=\u001b[0m \u001b[0marray1\u001b[0m\u001b[0;34m.\u001b[0m\u001b[0mreshape\u001b[0m\u001b[0;34m(\u001b[0m\u001b[0;34m-\u001b[0m\u001b[0;36m1\u001b[0m\u001b[0;34m,\u001b[0m\u001b[0;36m4\u001b[0m\u001b[0;34m)\u001b[0m\u001b[0;34m\u001b[0m\u001b[0;34m\u001b[0m\u001b[0m\n\u001b[0m",
            "\u001b[0;31mValueError\u001b[0m: cannot reshape array of size 10 into shape (4)"
          ]
        }
      ]
    },
    {
      "cell_type": "markdown",
      "source": [
        "- 원본 ndarray가 어떤 형태라도 **reshape(-1,1)**는 2차원이고 column이 1개인 ndarray로 변환한다.\n",
        "  + `stack`이나 `concat`으로 여러 개의 ndarray를 결합할 때, ndarray의 형태를 통일하기 위해 유용하게 사용된다.\n",
        "  + 아래 예제는 다른 차원의 데이터를 2차원 ndarray로 변경하는 예제이다."
      ],
      "metadata": {
        "id": "AfZWjZmMf_LS"
      }
    },
    {
      "cell_type": "code",
      "source": [
        "array1 = np.arange(8)\n",
        "array3d = array1.reshape((2,2,2)) # 3차원 배열\n",
        "print('array3d: \\n', array3d.tolist())\n",
        "\n",
        "# 3차원 ndarray를 2차원으로 변환\n",
        "array5 = array3d.reshape(-1,1)\n",
        "print('array5 : \\n', array5.tolist()) # list로 변경\n",
        "print('array5 shape:', array5.shape)\n",
        "print()\n",
        "# 1차원 ndarray를 2차원으로 변환\n",
        "array6 = array1.reshape(-1,1)\n",
        "print('array6 : \\n', array6.tolist()) # list로 변경\n",
        "print('array6 shape:', array6.shape)"
      ],
      "metadata": {
        "colab": {
          "base_uri": "https://localhost:8080/"
        },
        "id": "pAsEb493iYdq",
        "outputId": "1d37fa37-9ed1-4f49-de62-e446ef87f3f6"
      },
      "execution_count": null,
      "outputs": [
        {
          "output_type": "stream",
          "name": "stdout",
          "text": [
            "array3d: \n",
            " [[[0, 1], [2, 3]], [[4, 5], [6, 7]]]\n",
            "array5 : \n",
            " [[0], [1], [2], [3], [4], [5], [6], [7]]\n",
            "array5 shape: (8, 1)\n",
            "\n",
            "array6 : \n",
            " [[0], [1], [2], [3], [4], [5], [6], [7]]\n",
            "array6 shape: (8, 1)\n"
          ]
        }
      ]
    },
    {
      "cell_type": "markdown",
      "source": [
        "### | 넘파이의 ndarray의 데이터 세트 선택하기 - 인덱싱(Indexing)\n",
        "___\n",
        "- **인덱싱(indexing)**을 이용하면 ndarray 내의 일부 데이터 세트나 특정 데이터만을 선택할 수 있다.\n",
        "1. **특정 데이터만 추출**(단일 값 추출) : 원하는 위치의 인덱스 값을 지정하면 해당 위치의 데이터를 반환\n",
        "```python\n",
        "value = array[i]\n",
        "```\n",
        "  + index는 0부터 시작한다.\n",
        "  + list나 dictionary처럼 index로 negative integer를 이용할 수도 있다."
      ],
      "metadata": {
        "id": "xLKhu5TTkJDO"
      }
    },
    {
      "cell_type": "code",
      "source": [
        "array1 = np.arange(start=1, stop=10) # [1, 2, 3, 4, 5, 6, 7, 8, 9]인 1차원 ndarray 생성\n",
        "print('array1: ', array1)\n",
        "\n",
        "value = array1[2] # 3\n",
        "print('value: ', value)\n",
        "print(type(value)) # value의 datatye은 ndarray가 아니라 int"
      ],
      "metadata": {
        "colab": {
          "base_uri": "https://localhost:8080/"
        },
        "id": "VSgMKQ-ZmfaY",
        "outputId": "ad82429e-3d41-41f0-9b7c-121dee119e00"
      },
      "execution_count": null,
      "outputs": [
        {
          "output_type": "stream",
          "name": "stdout",
          "text": [
            "array1:  [1 2 3 4 5 6 7 8 9]\n",
            "value:  3\n",
            "<class 'numpy.int64'>\n"
          ]
        }
      ]
    },
    {
      "cell_type": "code",
      "source": [
        "print('맨 뒤의 값: ', array1[-1], ' 맨 뒤에서 두 번째 값: ', array1[-2])"
      ],
      "metadata": {
        "colab": {
          "base_uri": "https://localhost:8080/"
        },
        "id": "Nob_IRIvnTP4",
        "outputId": "32468951-88ce-43da-81dc-dcd60843dd7b"
      },
      "execution_count": null,
      "outputs": [
        {
          "output_type": "stream",
          "name": "stdout",
          "text": [
            "맨 뒤의 값:  9  맨 뒤에서 두 번째 값:  8\n"
          ]
        }
      ]
    },
    {
      "cell_type": "code",
      "source": [
        "#index를 이용한 ndarray 데이터 값 수정\n",
        "array1[0] = 9\n",
        "array1[8] = 0\n",
        "print('array1: ', array1)"
      ],
      "metadata": {
        "colab": {
          "base_uri": "https://localhost:8080/"
        },
        "id": "siGN9vHZnsMI",
        "outputId": "0c9ef16f-81ff-4df5-ad3d-a436daf1afe0"
      },
      "execution_count": null,
      "outputs": [
        {
          "output_type": "stream",
          "name": "stdout",
          "text": [
            "array1:  [9 2 3 4 5 6 7 8 0]\n"
          ]
        }
      ]
    },
    {
      "cell_type": "code",
      "source": [
        "# n차원 ndarray에서 단일 값 추출(n>=2)\n",
        "array1d = np.arange(start = 1, stop = 10)\n",
        "array2d = array1d.reshape(3,3)\n",
        "print(array2d)\n",
        "\n",
        "print('(row=0, col=0) index가 가리키는 값 : ', array2d[0,0]) # axis 0 : row 방향, axis 1 : column 방향\n",
        "print('(row=0, col=1) index가 가리키는 값 : ', array2d[0,1])\n",
        "print('(row=1, col=0) index가 가리키는 값 : ', array2d[1,0])\n",
        "print('(row=2, col=2) index가 가리키는 값 : ', array2d[2,2])"
      ],
      "metadata": {
        "colab": {
          "base_uri": "https://localhost:8080/"
        },
        "id": "sNr0fIPnykHt",
        "outputId": "262c19f0-6e0d-4aec-8367-4e3b281d400c"
      },
      "execution_count": 32,
      "outputs": [
        {
          "output_type": "stream",
          "name": "stdout",
          "text": [
            "[[1 2 3]\n",
            " [4 5 6]\n",
            " [7 8 9]]\n",
            "(row=0, col=0) index가 가리키는 값 :  1\n",
            "(row=0, col=1) index가 가리키는 값 :  2\n",
            "(row=1, col=0) index가 가리키는 값 :  4\n",
            "(row=2, col=2) index가 가리키는 값 :  9\n"
          ]
        }
      ]
    },
    {
      "cell_type": "markdown",
      "source": [
        "2. **슬라이싱(Slicing)** : **' : '**을 이용해 연속된 인덱스 상의 ndarray를 추출\n",
        "```python\n",
        "array2 = array1[A:B]\n",
        "```\n",
        "  + 위와 같이 입력하면, A 인덱스에서 (B-1)인덱스까지의 데이터 세트를 반환한다.\n",
        "  + 슬라이싱으로 추출된 데이터 세트의 datatype은 모두 ndarray이다.\n",
        "  + 시작, 종료 index는 생략이 가능하다\n",
        "    1. `array[:B]` : 시작 인덱스를 생략하면 자동으로 0 인덱스부터 시작한다. \n",
        "    2. `array[A:]` : 종료 인덱스를 생략하면 자동으로 맨 마지막 인덱스까지의 값을 반환한다.\n",
        "    3. `array[:]` : 자동으로 모든 인덱스의 값을 반환한다.\n",
        "  + 2차원 ndarray에서는 ' , '를 이용하여 row와 column 인덱스를 지정한다."
      ],
      "metadata": {
        "id": "xVftCnWSl9T-"
      }
    },
    {
      "cell_type": "code",
      "source": [
        "array1 = np.arange(1,10)\n",
        "array4 = array1[:3] \n",
        "print(array4) # [1,2,3]\n",
        "\n",
        "array5 = array1[3:] \n",
        "print(array5) # [4,5,6,7,8,9]\n",
        "\n",
        "array6 = array1[:] \n",
        "print(array6) # [1,2,3,4,5,6,7,8,9]"
      ],
      "metadata": {
        "colab": {
          "base_uri": "https://localhost:8080/"
        },
        "id": "LIMTlO6i03t5",
        "outputId": "5d735f14-255b-4978-e39a-1975932ce97c"
      },
      "execution_count": 33,
      "outputs": [
        {
          "output_type": "stream",
          "name": "stdout",
          "text": [
            "[1 2 3]\n",
            "[4 5 6 7 8 9]\n",
            "[1 2 3 4 5 6 7 8 9]\n"
          ]
        }
      ]
    },
    {
      "cell_type": "code",
      "source": [
        "# 2차원 ndarray에서의 슬라이싱\n",
        "\n",
        "array1d = np.arange(1,10)\n",
        "array2d = array1d.reshape(3,3)\n",
        "print('array2d : \\n', array2d)\n",
        "\n",
        "print('aarray2d[0:2,0:2] : \\n', array2d[0:2,0:2])\n",
        "print('aarray2d[1:3,1:3] : \\n', array2d[1:3,1:3])\n",
        "print('aarray2d[1:3,:] : \\n', array2d[1:3,:])\n",
        "print('aarray2d[:,:] : \\n', array2d[:,:])\n",
        "print('aarray2d[:2,1:] : \\n', array2d[:2,1:])\n",
        "print('aarray2d[:2,0] : \\n', array2d[:2,0]) # column 0에 있는 element만 출력"
      ],
      "metadata": {
        "colab": {
          "base_uri": "https://localhost:8080/"
        },
        "id": "u9rLywaT1SxJ",
        "outputId": "495ef3e7-dbfd-4920-a79d-7e0e7c3013d8"
      },
      "execution_count": 35,
      "outputs": [
        {
          "output_type": "stream",
          "name": "stdout",
          "text": [
            "array2d : \n",
            " [[1 2 3]\n",
            " [4 5 6]\n",
            " [7 8 9]]\n",
            "aarray2d[0:2,0:2] : \n",
            " [[1 2]\n",
            " [4 5]]\n",
            "aarray2d[1:3,1:3] : \n",
            " [[5 6]\n",
            " [8 9]]\n",
            "aarray2d[1:3,:] : \n",
            " [[4 5 6]\n",
            " [7 8 9]]\n",
            "aarray2d[:,:] : \n",
            " [[1 2 3]\n",
            " [4 5 6]\n",
            " [7 8 9]]\n",
            "aarray2d[:2,1:] : \n",
            " [[2 3]\n",
            " [5 6]]\n",
            "aarray2d[:2,0] : \n",
            " [1 4]\n"
          ]
        }
      ]
    },
    {
      "cell_type": "code",
      "source": [
        "print(array2d[0]) # 1차원 row ndarray 반환\n",
        "print(array2d[1])\n",
        "print('aarray2d[0].shape :', array2d[0].shape, 'aarray2d[1].shape :', array2d[1].shape) "
      ],
      "metadata": {
        "colab": {
          "base_uri": "https://localhost:8080/"
        },
        "id": "O7-pbEuB2ghh",
        "outputId": "a793cf2b-8f57-4078-b41d-f19f58ac1a7e"
      },
      "execution_count": 37,
      "outputs": [
        {
          "output_type": "stream",
          "name": "stdout",
          "text": [
            "[1 2 3]\n",
            "[4 5 6]\n",
            "aarray2d[0].shape : (3,) aarray2d[1].shape : (3,)\n"
          ]
        }
      ]
    },
    {
      "cell_type": "markdown",
      "source": [
        "3. **팬시 인덱싱(Fancy indexing)** : 일정한 인덱싱 집합을 list 혹은 ndarray 형태로 지정해 해당하는 데이터의 ndarray를 반환\n",
        "\n"
      ],
      "metadata": {
        "id": "7bRHS58cl-Ie"
      }
    },
    {
      "cell_type": "code",
      "source": [
        "array1d = np.arange(1,10)\n",
        "array2d = array1d.reshape(3,3)\n",
        "print(array2d)\n",
        "\n",
        "array3 = array2d[[0,1],2]\n",
        "print('array2d[[0,1],2] => ', array3.tolist()) # [a02, a12] => [3,6]\n",
        "\n",
        "array4 = array2d[[0,1],0:2]\n",
        "print('array2d[[0,1],0:2] => ', array4.tolist()) # [[a00, a01], [a10, a11]] => [[1,2],[4,5]]\n",
        "\n",
        "array5 = array2d[[0,1]]\n",
        "print('array2d[[0,1]] => ', array5.tolist()) # [[a00, a01, a02], [a10, a11, a12]] => [[1,2,3],[4,5,6]]"
      ],
      "metadata": {
        "colab": {
          "base_uri": "https://localhost:8080/"
        },
        "id": "HM0c9MV0STzo",
        "outputId": "fde7eb07-d9e3-4606-ce0e-7cecbcd0195a"
      },
      "execution_count": 64,
      "outputs": [
        {
          "output_type": "stream",
          "name": "stdout",
          "text": [
            "[[1 2 3]\n",
            " [4 5 6]\n",
            " [7 8 9]]\n",
            "array2d[[0,1],2] =>  [3, 6]\n",
            "array2d[[0,1],0:2] =>  [[1, 2], [4, 5]]\n",
            "array2d[[0,1]] =>  [[1, 2, 3], [4, 5, 6]]\n"
          ]
        }
      ]
    },
    {
      "cell_type": "markdown",
      "source": [
        "4. **불린 인덱싱(Boolean indexing)** : 특정 조건에 해당하는지 True/False 값 인덱싱 집합을 기반으로 True에 해당하는 인덱스 위치에 있는 데이터의 ndarray를 반환\n",
        " + 조건 필터링과 검색을 동시에 할 수 있어 자주 사용된다.\n",
        " + for 반복문이나 if else 조건문보다 훨씬 간단하게 할 수 있다.\n",
        " + `array1d > 5`와 같이 조건식을 쓰면 True/False로 이루어진 ndarray 객체가 반환된다.\n",
        " ```python\n",
        "array_new = array[조건식]\n",
        " ```"
      ],
      "metadata": {
        "id": "dHOSpIQ7l_HH"
      }
    },
    {
      "cell_type": "code",
      "source": [
        "array1d = np.arange(1,10)\n",
        "# 데이터값이 5보다 큰 데이터만 추출\n",
        "array3 = array1d[array1d > 5]\n",
        "print('array1d > 5인 boolean indexing 결과 값 : ', array3)"
      ],
      "metadata": {
        "colab": {
          "base_uri": "https://localhost:8080/"
        },
        "id": "5YN_35__TkCZ",
        "outputId": "19b6b9f3-c86c-452d-a79c-21fd2504735b"
      },
      "execution_count": 68,
      "outputs": [
        {
          "output_type": "stream",
          "name": "stdout",
          "text": [
            "array1d > 5인 boolean indexing 결과 값 :  [6 7 8 9]\n"
          ]
        }
      ]
    },
    {
      "cell_type": "code",
      "source": [
        "array1d > 5"
      ],
      "metadata": {
        "colab": {
          "base_uri": "https://localhost:8080/"
        },
        "id": "_C-KJSr3UJ4p",
        "outputId": "a2ab8caf-f8ac-4244-f073-f8f7dcf29c15"
      },
      "execution_count": 66,
      "outputs": [
        {
          "output_type": "execute_result",
          "data": {
            "text/plain": [
              "array([False, False, False, False, False,  True,  True,  True,  True])"
            ]
          },
          "metadata": {},
          "execution_count": 66
        }
      ]
    },
    {
      "cell_type": "code",
      "source": [
        "boolean_indexes = np.array([False, False, False, False, False, True, True, True, True])\n",
        "array3 = array1d[boolean_indexes]\n",
        "print('boolean 인덱스로 필터링 결과 : ', array3)"
      ],
      "metadata": {
        "colab": {
          "base_uri": "https://localhost:8080/"
        },
        "id": "umHn6rSqUaas",
        "outputId": "055c9773-2397-4499-be74-09eb3ba9b2d2"
      },
      "execution_count": 70,
      "outputs": [
        {
          "output_type": "stream",
          "name": "stdout",
          "text": [
            "boolean 인덱스로 필터링 결과 :  [6 7 8 9]\n"
          ]
        }
      ]
    },
    {
      "cell_type": "code",
      "source": [
        "# 직접 인덱스 집합을 만들어 대입한 것과 비교\n",
        "indexes = np.array([5,6,7,8])\n",
        "array4 = array1d[indexes]\n",
        "print('일반 인덱스로 필터링한 결과 : ', array4)"
      ],
      "metadata": {
        "colab": {
          "base_uri": "https://localhost:8080/"
        },
        "id": "QNC2zNvAU91v",
        "outputId": "9079caab-9401-4495-a7ca-b9dca9c8cce7"
      },
      "execution_count": 71,
      "outputs": [
        {
          "output_type": "stream",
          "name": "stdout",
          "text": [
            "일반 인덱스로 필터링한 결과 :  [6 7 8 9]\n"
          ]
        }
      ]
    },
    {
      "cell_type": "markdown",
      "source": [
        "### | 행렬의 정렬 - sort()와 argsort()\n",
        "___\n",
        "- **행렬 정렬 : sort()**\n",
        "  + `np.sort()` : 넘파이에서 sort()를 호출. 원래의 행렬을 변경하지 않고, 정렬된 행렬을 새로 반환.\n",
        "  + `ndarray.sort()` : 행렬 자체에서 sort()를 호출. 원래의 행렬 자체를 정렬하며 반환 값은 None\n",
        "  + **내림차순**으로 정렬하기 위해서는 **[::-1]**을 적용한다. (Ex) `np.sort()[::1]`\n",
        "  + 2차원 이상의 행렬일 경우, **axis 축 값 설정**을 통해 row 방향 혹은 column 방향으로 정렬할 수 있다.\n"
      ],
      "metadata": {
        "id": "8-9gdO-f3BxM"
      }
    },
    {
      "cell_type": "code",
      "source": [
        "org_array = np.array([3,1,9,5])\n",
        "print('원본 행렬 : ', org_array)\n",
        "\n",
        "# np.sort()로 정렬\n",
        "sort_array1 = np.sort(org_array)\n",
        "print('np.sort() 호출 후 반환된 정렬 행렬', sort_array1)\n",
        "print('np.sort() 호출 후 원본 행렬', org_array)\n",
        "\n",
        "# ndarray.sort()로 정렬\n",
        "sort_array2 = org_array.sort()\n",
        "print('org_array.sort() 호출 후 반환된 정렬 행렬', sort_array2)\n",
        "print('org_array.sort() 호출 후 원본 행렬', org_array)\n"
      ],
      "metadata": {
        "colab": {
          "base_uri": "https://localhost:8080/"
        },
        "id": "S7EfUBmv7sdO",
        "outputId": "6b3ee5b6-8cc8-4dad-ee6b-d4d75f448f6f"
      },
      "execution_count": 53,
      "outputs": [
        {
          "output_type": "stream",
          "name": "stdout",
          "text": [
            "원본 행렬 :  [3 1 9 5]\n",
            "np.sort() 호출 후 반환된 정렬 행렬 [1 3 5 9]\n",
            "np.sort() 호출 후 원본 행렬 [3 1 9 5]\n",
            "org_array.sort() 호출 후 반환된 정렬 행렬 None\n",
            "org_array.sort() 호출 후 원본 행렬 [1 3 5 9]\n"
          ]
        }
      ]
    },
    {
      "cell_type": "code",
      "source": [
        "# 내림차순으로 정렬\n",
        "sort_array1_desc = np.sort(org_array)[::1]\n",
        "print('내림차순으로 정렬', sort_array1_desc)"
      ],
      "metadata": {
        "colab": {
          "base_uri": "https://localhost:8080/"
        },
        "id": "SdiBnfn--Rrq",
        "outputId": "1bd3b9d2-851a-47c7-d9f2-1be6973c02c9"
      },
      "execution_count": 55,
      "outputs": [
        {
          "output_type": "stream",
          "name": "stdout",
          "text": [
            "내림차순으로 정렬 [1 3 5 9]\n"
          ]
        }
      ]
    },
    {
      "cell_type": "code",
      "source": [
        "# 2차원 행렬 정렬\n",
        "array2d = np.array([[8,12],\n",
        "                    [7,1]])\n",
        "sort_array2d_axis0 = np.sort(array2d, axis = 0)\n",
        "print('row 방향으로 정렬:\\n', sort_array2d_axis0)\n",
        "\n",
        "sort_array2d_axis1 = np.sort(array2d, axis = 1)\n",
        "print('column 방향으로 정렬:\\n', sort_array2d_axis1)"
      ],
      "metadata": {
        "colab": {
          "base_uri": "https://localhost:8080/"
        },
        "id": "ua-UemLI-1Bf",
        "outputId": "6de14309-212c-4c90-baca-2308cf674177"
      },
      "execution_count": 56,
      "outputs": [
        {
          "output_type": "stream",
          "name": "stdout",
          "text": [
            "row 방향으로 정렬:\n",
            " [[ 7  1]\n",
            " [ 8 12]]\n",
            "column 방향으로 정렬:\n",
            " [[ 8 12]\n",
            " [ 1  7]]\n"
          ]
        }
      ]
    },
    {
      "cell_type": "markdown",
      "source": [
        "- 정렬된 행렬의 인덱스를 반환하기 : **argsort()**\n",
        "  + `np.argsort()` : 정렬 행렬의 원본 행렬 인덱스를 ndarry 형으로 반환\n",
        "  + 넘파이의 ndarray는 메타 데이터를 가질 수 없기 때문에, 실제 값과 그 값이 뜻하는 메타 데이터를 별도의 ndarray에 가져야 한다. 이럴 때, argsort()를 활용하면 데이터 추출하기 편리하다.\n",
        "    * 예를 들면 'A의 점수'를 저장할 때, A의 이름과 점수를 각각 저장해야 한다. 이때, 시험 성적순으로 학생 이름을 출력하고자 한다면 np.argsort()를 이용해 반환된 인덱스를 팬시 인덱스로 적용해 데이터를 추출할 수 있따."
      ],
      "metadata": {
        "id": "PtNpTiAY7qlH"
      }
    },
    {
      "cell_type": "code",
      "source": [
        "org_array = np.array([3,1,9,5])\n",
        "sort_indices = np.argsort(org_array)\n",
        "print(type(sort_indices)) # ndarray\n",
        "print('행렬 정렬 시 원본 행렬의 인덱스 :', sort_indices) #[1 3 5 9]로 정렬되니까, 인덱스는 [1 0 3 2]\n",
        "print(org_array) # 원본 행렬은 변하지 않음."
      ],
      "metadata": {
        "colab": {
          "base_uri": "https://localhost:8080/"
        },
        "id": "SMPBLxbDPYNj",
        "outputId": "61776f56-dd06-470c-9d0e-9bdb9a42b3c7"
      },
      "execution_count": 58,
      "outputs": [
        {
          "output_type": "stream",
          "name": "stdout",
          "text": [
            "<class 'numpy.ndarray'>\n",
            "행렬 정렬 시 원본 행렬의 인덱스 : [1 0 3 2]\n",
            "[3 1 9 5]\n"
          ]
        }
      ]
    },
    {
      "cell_type": "code",
      "source": [
        "# 내림차순으로 정렬 : [::-1]\n",
        "org_array = np.array([3,1,9,5])\n",
        "sort_indices_desc = np.argsort(org_array)[::-1]\n",
        "print('행렬 내림차순 정렬 시 원본 행렬의 인덱스 :', sort_indices_desc) #[9 5 3 1]로 정렬되니까, 인덱스는 [2 3 0 1]"
      ],
      "metadata": {
        "colab": {
          "base_uri": "https://localhost:8080/"
        },
        "id": "S-tFnQluQEYr",
        "outputId": "c9056a17-6c81-4447-97d8-12d5ccdbbc76"
      },
      "execution_count": 60,
      "outputs": [
        {
          "output_type": "stream",
          "name": "stdout",
          "text": [
            "행렬 내림차순 정렬 시 원본 행렬의 인덱스 : [2 3 0 1]\n"
          ]
        }
      ]
    },
    {
      "cell_type": "code",
      "source": [
        "# argsort()를 이용하여 성적순으로 이름 정렬하기\n",
        "import numpy as np\n",
        "\n",
        "name_array = np.array(['John', 'Mike', 'Sarah', 'Kate', 'Samuel'])\n",
        "score_array = np.array([78, 95, 84, 98, 88])\n",
        "\n",
        "sort_indices_asc = np.argsort(score_array)\n",
        "print('성적 오름차순 정렬 시 score_array의 인덱스', sort_indices_asc)\n",
        "print('성적 오름차순으로 name_array의 이름 출력', name_array[sort_indices_asc])"
      ],
      "metadata": {
        "colab": {
          "base_uri": "https://localhost:8080/"
        },
        "id": "umhq-UjYRHJu",
        "outputId": "4212c5fc-c163-468b-c776-f0ff5115d9e9"
      },
      "execution_count": 62,
      "outputs": [
        {
          "output_type": "stream",
          "name": "stdout",
          "text": [
            "성적 오름차순 정렬 시 score_array의 인덱스 [0 2 4 1 3]\n",
            "성적 오름차순으로 name_array의 이름 출력 ['John' 'Sarah' 'Samuel' 'Mike' 'Kate']\n"
          ]
        }
      ]
    },
    {
      "cell_type": "markdown",
      "source": [
        "### | 선형대수학 연산 - 행렬 곱(Matrix Mutiplication)과 전치 행렬(Transposed Matrix) 구하기\n",
        "___\n",
        "- **Matrix Multiplication** : `np.dot`을 이용\n",
        "\n"
      ],
      "metadata": {
        "id": "XYjFLixk3XW5"
      }
    },
    {
      "cell_type": "code",
      "source": [
        "A = np.array([[1,2,3],\n",
        "              [4,5,6]])\n",
        "B = np.array([[7,8],\n",
        "              [9,10],\n",
        "              [11,12]])\n",
        "dot_product = np.dot(A,B)\n",
        "print('행렬 곱 결과: \\n', dot_product)"
      ],
      "metadata": {
        "colab": {
          "base_uri": "https://localhost:8080/"
        },
        "id": "Sh3bg7v14Gq3",
        "outputId": "7af2d673-9bcc-4ce4-ebaa-e06ae57ef649"
      },
      "execution_count": 51,
      "outputs": [
        {
          "output_type": "stream",
          "name": "stdout",
          "text": [
            "행렬 곱 결과: \n",
            " [[ 58  64]\n",
            " [139 154]]\n"
          ]
        }
      ]
    },
    {
      "cell_type": "markdown",
      "source": [
        "- **Transposed Matrix** : `transpose()`를 이용\n"
      ],
      "metadata": {
        "id": "kz7GfjwP4E6s"
      }
    },
    {
      "cell_type": "code",
      "source": [
        "A = np.array([[1,2],\n",
        "              [3,4]])\n",
        "transpose_mat = np.transpose(A)\n",
        "print('A의 전치행렬: \\n', transpose_mat)"
      ],
      "metadata": {
        "colab": {
          "base_uri": "https://localhost:8080/"
        },
        "id": "K82VRPjz6qBa",
        "outputId": "2167508d-590c-438c-e073-42b0a86597fe"
      },
      "execution_count": 52,
      "outputs": [
        {
          "output_type": "stream",
          "name": "stdout",
          "text": [
            "A의 전치행렬: \n",
            " [[1 3]\n",
            " [2 4]]\n"
          ]
        }
      ]
    }
  ]
}